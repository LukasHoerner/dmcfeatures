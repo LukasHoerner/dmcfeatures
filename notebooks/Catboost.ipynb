{
 "cells": [
  {
   "cell_type": "code",
   "execution_count": 130,
   "id": "3817c30a",
   "metadata": {},
   "outputs": [
    {
     "name": "stdout",
     "output_type": "stream",
     "text": [
      "2022-03-18 16:20:18,050 - kedro.io.data_catalog - INFO - Loading data from `orders_features` (PickleDataSet)...\n",
      "2022-03-18 16:20:18,750 - kedro.io.data_catalog - INFO - Loading data from `parameters` (MemoryDataSet)...\n",
      "2022-03-18 16:20:18,751 - kedro.io.data_catalog - INFO - Loading data from `orders_full` (PickleDataSet)...\n",
      "2022-03-18 16:20:18,941 - kedro.io.data_catalog - INFO - Loading data from `parameters` (MemoryDataSet)...\n",
      "2022-03-18 16:20:18,942 - kedro.io.data_catalog - INFO - Loading data from `enc_frame` (PickleDataSet)...\n",
      "2022-03-18 16:20:19,270 - kedro.io.data_catalog - INFO - Loading data from `enc_cols` (PickleDataSet)...\n"
     ]
    }
   ],
   "source": [
    "import pickle\n",
    "from catboost import CatBoostClassifier, Pool, metrics, cv\n",
    "import numpy as np\n",
    "import pandas as pd\n",
    "from category_encoders.cat_boost import CatBoostEncoder\n",
    "from sklearn.preprocessing import OrdinalEncoder\n",
    "from sklearn.metrics import cohen_kappa_score, f1_score, matthews_corrcoef, recall_score, precision_score\n",
    "# from category_encoders.m_estimate import MEstimateEncoder\n",
    "orders = catalog.load(\"orders_features\")\n",
    "parameters = catalog.load(\"parameters\")\n",
    "orders_full = catalog.load(\"orders_full\")\n",
    "parameters = catalog.load(\"parameters\")\n",
    "enc_frame = catalog.load(\"enc_frame\")\n",
    "enc_cols = catalog.load(\"enc_cols\")"
   ]
  },
  {
   "cell_type": "code",
   "execution_count": 178,
   "id": "ec485d5e",
   "metadata": {},
   "outputs": [
    {
     "data": {
      "text/html": [
       "<div>\n",
       "<style scoped>\n",
       "    .dataframe tbody tr th:only-of-type {\n",
       "        vertical-align: middle;\n",
       "    }\n",
       "\n",
       "    .dataframe tbody tr th {\n",
       "        vertical-align: top;\n",
       "    }\n",
       "\n",
       "    .dataframe thead th {\n",
       "        text-align: right;\n",
       "    }\n",
       "</style>\n",
       "<table border=\"1\" class=\"dataframe\">\n",
       "  <thead>\n",
       "    <tr style=\"text-align: right;\">\n",
       "      <th></th>\n",
       "      <th>weekdayOrdered</th>\n",
       "      <th>weekdayReceived</th>\n",
       "      <th>weDelivery</th>\n",
       "      <th>accOldSys</th>\n",
       "      <th>color</th>\n",
       "      <th>size</th>\n",
       "      <th>userAgeImp</th>\n",
       "      <th>customerID</th>\n",
       "      <th>manufacturerID</th>\n",
       "      <th>salutation</th>\n",
       "      <th>...</th>\n",
       "      <th>100_100_False_lift_base</th>\n",
       "      <th>100_100_False_conf_base</th>\n",
       "      <th>10_m</th>\n",
       "      <th>20_m</th>\n",
       "      <th>50_m</th>\n",
       "      <th>100_m</th>\n",
       "      <th>10_m_smooth</th>\n",
       "      <th>20_m_smooth</th>\n",
       "      <th>50_m_smooth</th>\n",
       "      <th>100_m_smooth</th>\n",
       "    </tr>\n",
       "  </thead>\n",
       "  <tbody>\n",
       "    <tr>\n",
       "      <th>0</th>\n",
       "      <td>6</td>\n",
       "      <td>1</td>\n",
       "      <td>0</td>\n",
       "      <td>0</td>\n",
       "      <td>40</td>\n",
       "      <td>108</td>\n",
       "      <td>0</td>\n",
       "      <td>422</td>\n",
       "      <td>25</td>\n",
       "      <td>3</td>\n",
       "      <td>...</td>\n",
       "      <td>0.632280</td>\n",
       "      <td>0.632280</td>\n",
       "      <td>0.638086</td>\n",
       "      <td>0.633387</td>\n",
       "      <td>0.620852</td>\n",
       "      <td>0.604028</td>\n",
       "      <td>0.653933</td>\n",
       "      <td>0.649118</td>\n",
       "      <td>0.636272</td>\n",
       "      <td>0.619029</td>\n",
       "    </tr>\n",
       "    <tr>\n",
       "      <th>1</th>\n",
       "      <td>6</td>\n",
       "      <td>1</td>\n",
       "      <td>0</td>\n",
       "      <td>0</td>\n",
       "      <td>66</td>\n",
       "      <td>102</td>\n",
       "      <td>0</td>\n",
       "      <td>422</td>\n",
       "      <td>21</td>\n",
       "      <td>3</td>\n",
       "      <td>...</td>\n",
       "      <td>0.664222</td>\n",
       "      <td>0.664222</td>\n",
       "      <td>0.608780</td>\n",
       "      <td>0.607564</td>\n",
       "      <td>0.604052</td>\n",
       "      <td>0.598618</td>\n",
       "      <td>0.604571</td>\n",
       "      <td>0.603363</td>\n",
       "      <td>0.599876</td>\n",
       "      <td>0.594480</td>\n",
       "    </tr>\n",
       "    <tr>\n",
       "      <th>2</th>\n",
       "      <td>6</td>\n",
       "      <td>1</td>\n",
       "      <td>0</td>\n",
       "      <td>0</td>\n",
       "      <td>33</td>\n",
       "      <td>102</td>\n",
       "      <td>0</td>\n",
       "      <td>422</td>\n",
       "      <td>21</td>\n",
       "      <td>3</td>\n",
       "      <td>...</td>\n",
       "      <td>0.664222</td>\n",
       "      <td>0.664222</td>\n",
       "      <td>0.608780</td>\n",
       "      <td>0.607564</td>\n",
       "      <td>0.604052</td>\n",
       "      <td>0.598618</td>\n",
       "      <td>0.628495</td>\n",
       "      <td>0.627239</td>\n",
       "      <td>0.623614</td>\n",
       "      <td>0.618004</td>\n",
       "    </tr>\n",
       "    <tr>\n",
       "      <th>3</th>\n",
       "      <td>0</td>\n",
       "      <td>3</td>\n",
       "      <td>0</td>\n",
       "      <td>0</td>\n",
       "      <td>47</td>\n",
       "      <td>108</td>\n",
       "      <td>0</td>\n",
       "      <td>430</td>\n",
       "      <td>14</td>\n",
       "      <td>3</td>\n",
       "      <td>...</td>\n",
       "      <td>0.447011</td>\n",
       "      <td>0.447011</td>\n",
       "      <td>0.447171</td>\n",
       "      <td>0.447330</td>\n",
       "      <td>0.447798</td>\n",
       "      <td>0.448551</td>\n",
       "      <td>0.481224</td>\n",
       "      <td>0.481395</td>\n",
       "      <td>0.481898</td>\n",
       "      <td>0.482709</td>\n",
       "    </tr>\n",
       "    <tr>\n",
       "      <th>4</th>\n",
       "      <td>0</td>\n",
       "      <td>3</td>\n",
       "      <td>0</td>\n",
       "      <td>1</td>\n",
       "      <td>17</td>\n",
       "      <td>59</td>\n",
       "      <td>0</td>\n",
       "      <td>445</td>\n",
       "      <td>53</td>\n",
       "      <td>3</td>\n",
       "      <td>...</td>\n",
       "      <td>0.536452</td>\n",
       "      <td>0.536452</td>\n",
       "      <td>0.570911</td>\n",
       "      <td>0.558466</td>\n",
       "      <td>0.535918</td>\n",
       "      <td>0.518248</td>\n",
       "      <td>0.564227</td>\n",
       "      <td>0.551928</td>\n",
       "      <td>0.529644</td>\n",
       "      <td>0.512180</td>\n",
       "    </tr>\n",
       "    <tr>\n",
       "      <th>...</th>\n",
       "      <td>...</td>\n",
       "      <td>...</td>\n",
       "      <td>...</td>\n",
       "      <td>...</td>\n",
       "      <td>...</td>\n",
       "      <td>...</td>\n",
       "      <td>...</td>\n",
       "      <td>...</td>\n",
       "      <td>...</td>\n",
       "      <td>...</td>\n",
       "      <td>...</td>\n",
       "      <td>...</td>\n",
       "      <td>...</td>\n",
       "      <td>...</td>\n",
       "      <td>...</td>\n",
       "      <td>...</td>\n",
       "      <td>...</td>\n",
       "      <td>...</td>\n",
       "      <td>...</td>\n",
       "      <td>...</td>\n",
       "      <td>...</td>\n",
       "    </tr>\n",
       "    <tr>\n",
       "      <th>480944</th>\n",
       "      <td>6</td>\n",
       "      <td>1</td>\n",
       "      <td>0</td>\n",
       "      <td>0</td>\n",
       "      <td>18</td>\n",
       "      <td>60</td>\n",
       "      <td>0</td>\n",
       "      <td>4657</td>\n",
       "      <td>1</td>\n",
       "      <td>2</td>\n",
       "      <td>...</td>\n",
       "      <td>0.661758</td>\n",
       "      <td>0.661758</td>\n",
       "      <td>0.647952</td>\n",
       "      <td>0.636466</td>\n",
       "      <td>0.609929</td>\n",
       "      <td>0.581497</td>\n",
       "      <td>0.675464</td>\n",
       "      <td>0.663491</td>\n",
       "      <td>0.635827</td>\n",
       "      <td>0.606188</td>\n",
       "    </tr>\n",
       "    <tr>\n",
       "      <th>480945</th>\n",
       "      <td>6</td>\n",
       "      <td>1</td>\n",
       "      <td>0</td>\n",
       "      <td>0</td>\n",
       "      <td>48</td>\n",
       "      <td>59</td>\n",
       "      <td>1</td>\n",
       "      <td>59731</td>\n",
       "      <td>18</td>\n",
       "      <td>3</td>\n",
       "      <td>...</td>\n",
       "      <td>0.616216</td>\n",
       "      <td>0.616216</td>\n",
       "      <td>0.609362</td>\n",
       "      <td>0.603176</td>\n",
       "      <td>0.587778</td>\n",
       "      <td>0.569317</td>\n",
       "      <td>0.596218</td>\n",
       "      <td>0.590166</td>\n",
       "      <td>0.575099</td>\n",
       "      <td>0.557037</td>\n",
       "    </tr>\n",
       "    <tr>\n",
       "      <th>480946</th>\n",
       "      <td>6</td>\n",
       "      <td>2</td>\n",
       "      <td>0</td>\n",
       "      <td>0</td>\n",
       "      <td>17</td>\n",
       "      <td>113</td>\n",
       "      <td>0</td>\n",
       "      <td>59732</td>\n",
       "      <td>5</td>\n",
       "      <td>2</td>\n",
       "      <td>...</td>\n",
       "      <td>0.617907</td>\n",
       "      <td>0.617907</td>\n",
       "      <td>0.620669</td>\n",
       "      <td>0.607880</td>\n",
       "      <td>0.580636</td>\n",
       "      <td>0.554550</td>\n",
       "      <td>0.600010</td>\n",
       "      <td>0.587647</td>\n",
       "      <td>0.561309</td>\n",
       "      <td>0.536092</td>\n",
       "    </tr>\n",
       "    <tr>\n",
       "      <th>480947</th>\n",
       "      <td>6</td>\n",
       "      <td>2</td>\n",
       "      <td>0</td>\n",
       "      <td>0</td>\n",
       "      <td>17</td>\n",
       "      <td>113</td>\n",
       "      <td>0</td>\n",
       "      <td>59732</td>\n",
       "      <td>49</td>\n",
       "      <td>2</td>\n",
       "      <td>...</td>\n",
       "      <td>0.690917</td>\n",
       "      <td>0.690917</td>\n",
       "      <td>0.675380</td>\n",
       "      <td>0.661896</td>\n",
       "      <td>0.630796</td>\n",
       "      <td>0.597558</td>\n",
       "      <td>0.687281</td>\n",
       "      <td>0.673559</td>\n",
       "      <td>0.641911</td>\n",
       "      <td>0.608087</td>\n",
       "    </tr>\n",
       "    <tr>\n",
       "      <th>480948</th>\n",
       "      <td>6</td>\n",
       "      <td>2</td>\n",
       "      <td>0</td>\n",
       "      <td>0</td>\n",
       "      <td>76</td>\n",
       "      <td>113</td>\n",
       "      <td>0</td>\n",
       "      <td>59732</td>\n",
       "      <td>49</td>\n",
       "      <td>2</td>\n",
       "      <td>...</td>\n",
       "      <td>0.739875</td>\n",
       "      <td>0.739875</td>\n",
       "      <td>0.735832</td>\n",
       "      <td>0.727007</td>\n",
       "      <td>0.703873</td>\n",
       "      <td>0.673721</td>\n",
       "      <td>0.708995</td>\n",
       "      <td>0.700491</td>\n",
       "      <td>0.678201</td>\n",
       "      <td>0.649148</td>\n",
       "    </tr>\n",
       "  </tbody>\n",
       "</table>\n",
       "<p>480949 rows × 177 columns</p>\n",
       "</div>"
      ],
      "text/plain": [
       "       weekdayOrdered weekdayReceived weDelivery accOldSys  color  size  \\\n",
       "0                   6               1          0         0     40   108   \n",
       "1                   6               1          0         0     66   102   \n",
       "2                   6               1          0         0     33   102   \n",
       "3                   0               3          0         0     47   108   \n",
       "4                   0               3          0         1     17    59   \n",
       "...               ...             ...        ...       ...    ...   ...   \n",
       "480944              6               1          0         0     18    60   \n",
       "480945              6               1          0         0     48    59   \n",
       "480946              6               2          0         0     17   113   \n",
       "480947              6               2          0         0     17   113   \n",
       "480948              6               2          0         0     76   113   \n",
       "\n",
       "       userAgeImp  customerID manufacturerID  salutation  ...  \\\n",
       "0               0         422             25           3  ...   \n",
       "1               0         422             21           3  ...   \n",
       "2               0         422             21           3  ...   \n",
       "3               0         430             14           3  ...   \n",
       "4               0         445             53           3  ...   \n",
       "...           ...         ...            ...         ...  ...   \n",
       "480944          0        4657              1           2  ...   \n",
       "480945          1       59731             18           3  ...   \n",
       "480946          0       59732              5           2  ...   \n",
       "480947          0       59732             49           2  ...   \n",
       "480948          0       59732             49           2  ...   \n",
       "\n",
       "        100_100_False_lift_base  100_100_False_conf_base      10_m      20_m  \\\n",
       "0                      0.632280                 0.632280  0.638086  0.633387   \n",
       "1                      0.664222                 0.664222  0.608780  0.607564   \n",
       "2                      0.664222                 0.664222  0.608780  0.607564   \n",
       "3                      0.447011                 0.447011  0.447171  0.447330   \n",
       "4                      0.536452                 0.536452  0.570911  0.558466   \n",
       "...                         ...                      ...       ...       ...   \n",
       "480944                 0.661758                 0.661758  0.647952  0.636466   \n",
       "480945                 0.616216                 0.616216  0.609362  0.603176   \n",
       "480946                 0.617907                 0.617907  0.620669  0.607880   \n",
       "480947                 0.690917                 0.690917  0.675380  0.661896   \n",
       "480948                 0.739875                 0.739875  0.735832  0.727007   \n",
       "\n",
       "            50_m     100_m  10_m_smooth  20_m_smooth  50_m_smooth  \\\n",
       "0       0.620852  0.604028     0.653933     0.649118     0.636272   \n",
       "1       0.604052  0.598618     0.604571     0.603363     0.599876   \n",
       "2       0.604052  0.598618     0.628495     0.627239     0.623614   \n",
       "3       0.447798  0.448551     0.481224     0.481395     0.481898   \n",
       "4       0.535918  0.518248     0.564227     0.551928     0.529644   \n",
       "...          ...       ...          ...          ...          ...   \n",
       "480944  0.609929  0.581497     0.675464     0.663491     0.635827   \n",
       "480945  0.587778  0.569317     0.596218     0.590166     0.575099   \n",
       "480946  0.580636  0.554550     0.600010     0.587647     0.561309   \n",
       "480947  0.630796  0.597558     0.687281     0.673559     0.641911   \n",
       "480948  0.703873  0.673721     0.708995     0.700491     0.678201   \n",
       "\n",
       "        100_m_smooth  \n",
       "0           0.619029  \n",
       "1           0.594480  \n",
       "2           0.618004  \n",
       "3           0.482709  \n",
       "4           0.512180  \n",
       "...              ...  \n",
       "480944      0.606188  \n",
       "480945      0.557037  \n",
       "480946      0.536092  \n",
       "480947      0.608087  \n",
       "480948      0.649148  \n",
       "\n",
       "[480949 rows x 177 columns]"
      ]
     },
     "execution_count": 178,
     "metadata": {},
     "output_type": "execute_result"
    }
   ],
   "source": [
    "budget_incs = \n",
    "\n",
    "train"
   ]
  },
  {
   "cell_type": "code",
   "execution_count": 183,
   "id": "b463151a",
   "metadata": {},
   "outputs": [
    {
     "ename": "NameError",
     "evalue": "name 'self' is not defined",
     "output_type": "error",
     "traceback": [
      "\u001b[0;31m---------------------------------------------------------------------------\u001b[0m",
      "\u001b[0;31mNameError\u001b[0m                                 Traceback (most recent call last)",
      "\u001b[0;32m/tmp/ipykernel_23059/739306255.py\u001b[0m in \u001b[0;36m<module>\u001b[0;34m\u001b[0m\n\u001b[1;32m      6\u001b[0m     \u001b[0mbudget_dict\u001b[0m\u001b[0;34m[\u001b[0m\u001b[0;34m\"train\"\u001b[0m\u001b[0;34m]\u001b[0m\u001b[0;34m[\u001b[0m\u001b[0mbudget\u001b[0m\u001b[0;34m]\u001b[0m \u001b[0;34m=\u001b[0m \u001b[0mtrain\u001b[0m\u001b[0;34m[\u001b[0m\u001b[0mtrain\u001b[0m\u001b[0;34m[\u001b[0m\u001b[0;34m\"budgets\"\u001b[0m\u001b[0;34m]\u001b[0m\u001b[0;34m<=\u001b[0m\u001b[0mbudget\u001b[0m\u001b[0;34m]\u001b[0m\u001b[0;34m.\u001b[0m\u001b[0mindex\u001b[0m\u001b[0;34m\u001b[0m\u001b[0;34m\u001b[0m\u001b[0m\n\u001b[1;32m      7\u001b[0m     \u001b[0mbudget_dict\u001b[0m\u001b[0;34m[\u001b[0m\u001b[0;34m\"test\"\u001b[0m\u001b[0;34m]\u001b[0m\u001b[0;34m[\u001b[0m\u001b[0mbudget\u001b[0m\u001b[0;34m]\u001b[0m \u001b[0;34m=\u001b[0m \u001b[0mtest\u001b[0m\u001b[0;34m[\u001b[0m\u001b[0mtest\u001b[0m\u001b[0;34m[\u001b[0m\u001b[0;34m\"budgets\"\u001b[0m\u001b[0;34m]\u001b[0m\u001b[0;34m<=\u001b[0m\u001b[0mbudget\u001b[0m\u001b[0;34m]\u001b[0m\u001b[0;34m.\u001b[0m\u001b[0mindex\u001b[0m\u001b[0;34m\u001b[0m\u001b[0;34m\u001b[0m\u001b[0m\n\u001b[0;32m----> 8\u001b[0;31m \u001b[0mself\u001b[0m\u001b[0;34m.\u001b[0m\u001b[0mbudget_dict\u001b[0m \u001b[0;34m=\u001b[0m \u001b[0mbudget_dict\u001b[0m\u001b[0;34m\u001b[0m\u001b[0;34m\u001b[0m\u001b[0m\n\u001b[0m",
      "\u001b[0;31mNameError\u001b[0m: name 'self' is not defined"
     ]
    }
   ],
   "source": [
    "budget_dict = {}\n",
    "budget_dict[\"train\"] = {}\n",
    "budget_dict[\"test\"] = {}\n",
    "\n",
    "for budget in data[\"budgets\"].unique():\n",
    "    budget_dict[\"train\"][budget] = train[train[\"budgets\"]<=budget].index\n",
    "    budget_dict[\"test\"][budget] = test[test[\"budgets\"]<=budget].index\n",
    "self.budget_dict = budget_dict"
   ]
  },
  {
   "cell_type": "code",
   "execution_count": 186,
   "id": "0cf5f9fc",
   "metadata": {},
   "outputs": [
    {
     "data": {
      "text/html": [
       "<div>\n",
       "<style scoped>\n",
       "    .dataframe tbody tr th:only-of-type {\n",
       "        vertical-align: middle;\n",
       "    }\n",
       "\n",
       "    .dataframe tbody tr th {\n",
       "        vertical-align: top;\n",
       "    }\n",
       "\n",
       "    .dataframe thead th {\n",
       "        text-align: right;\n",
       "    }\n",
       "</style>\n",
       "<table border=\"1\" class=\"dataframe\">\n",
       "  <thead>\n",
       "    <tr style=\"text-align: right;\">\n",
       "      <th></th>\n",
       "      <th>weekdayOrdered</th>\n",
       "      <th>weekdayReceived</th>\n",
       "      <th>weDelivery</th>\n",
       "      <th>accOldSys</th>\n",
       "      <th>color</th>\n",
       "      <th>size</th>\n",
       "      <th>userAgeImp</th>\n",
       "      <th>customerID</th>\n",
       "      <th>manufacturerID</th>\n",
       "      <th>salutation</th>\n",
       "      <th>...</th>\n",
       "      <th>100_100_False_lift_base</th>\n",
       "      <th>100_100_False_conf_base</th>\n",
       "      <th>10_m</th>\n",
       "      <th>20_m</th>\n",
       "      <th>50_m</th>\n",
       "      <th>100_m</th>\n",
       "      <th>10_m_smooth</th>\n",
       "      <th>20_m_smooth</th>\n",
       "      <th>50_m_smooth</th>\n",
       "      <th>100_m_smooth</th>\n",
       "    </tr>\n",
       "  </thead>\n",
       "  <tbody>\n",
       "    <tr>\n",
       "      <th>0</th>\n",
       "      <td>6</td>\n",
       "      <td>1</td>\n",
       "      <td>0</td>\n",
       "      <td>0</td>\n",
       "      <td>40</td>\n",
       "      <td>108</td>\n",
       "      <td>0</td>\n",
       "      <td>422</td>\n",
       "      <td>25</td>\n",
       "      <td>3</td>\n",
       "      <td>...</td>\n",
       "      <td>0.632280</td>\n",
       "      <td>0.632280</td>\n",
       "      <td>0.638086</td>\n",
       "      <td>0.633387</td>\n",
       "      <td>0.620852</td>\n",
       "      <td>0.604028</td>\n",
       "      <td>0.653933</td>\n",
       "      <td>0.649118</td>\n",
       "      <td>0.636272</td>\n",
       "      <td>0.619029</td>\n",
       "    </tr>\n",
       "    <tr>\n",
       "      <th>1</th>\n",
       "      <td>6</td>\n",
       "      <td>1</td>\n",
       "      <td>0</td>\n",
       "      <td>0</td>\n",
       "      <td>66</td>\n",
       "      <td>102</td>\n",
       "      <td>0</td>\n",
       "      <td>422</td>\n",
       "      <td>21</td>\n",
       "      <td>3</td>\n",
       "      <td>...</td>\n",
       "      <td>0.664222</td>\n",
       "      <td>0.664222</td>\n",
       "      <td>0.608780</td>\n",
       "      <td>0.607564</td>\n",
       "      <td>0.604052</td>\n",
       "      <td>0.598618</td>\n",
       "      <td>0.604571</td>\n",
       "      <td>0.603363</td>\n",
       "      <td>0.599876</td>\n",
       "      <td>0.594480</td>\n",
       "    </tr>\n",
       "    <tr>\n",
       "      <th>2</th>\n",
       "      <td>6</td>\n",
       "      <td>1</td>\n",
       "      <td>0</td>\n",
       "      <td>0</td>\n",
       "      <td>33</td>\n",
       "      <td>102</td>\n",
       "      <td>0</td>\n",
       "      <td>422</td>\n",
       "      <td>21</td>\n",
       "      <td>3</td>\n",
       "      <td>...</td>\n",
       "      <td>0.664222</td>\n",
       "      <td>0.664222</td>\n",
       "      <td>0.608780</td>\n",
       "      <td>0.607564</td>\n",
       "      <td>0.604052</td>\n",
       "      <td>0.598618</td>\n",
       "      <td>0.628495</td>\n",
       "      <td>0.627239</td>\n",
       "      <td>0.623614</td>\n",
       "      <td>0.618004</td>\n",
       "    </tr>\n",
       "    <tr>\n",
       "      <th>5</th>\n",
       "      <td>0</td>\n",
       "      <td>3</td>\n",
       "      <td>0</td>\n",
       "      <td>1</td>\n",
       "      <td>21</td>\n",
       "      <td>113</td>\n",
       "      <td>0</td>\n",
       "      <td>445</td>\n",
       "      <td>87</td>\n",
       "      <td>3</td>\n",
       "      <td>...</td>\n",
       "      <td>0.765985</td>\n",
       "      <td>0.765985</td>\n",
       "      <td>0.748821</td>\n",
       "      <td>0.731969</td>\n",
       "      <td>0.692169</td>\n",
       "      <td>0.648132</td>\n",
       "      <td>0.740055</td>\n",
       "      <td>0.723400</td>\n",
       "      <td>0.684066</td>\n",
       "      <td>0.640544</td>\n",
       "    </tr>\n",
       "    <tr>\n",
       "      <th>7</th>\n",
       "      <td>0</td>\n",
       "      <td>1</td>\n",
       "      <td>0</td>\n",
       "      <td>1</td>\n",
       "      <td>21</td>\n",
       "      <td>113</td>\n",
       "      <td>0</td>\n",
       "      <td>464</td>\n",
       "      <td>3</td>\n",
       "      <td>3</td>\n",
       "      <td>...</td>\n",
       "      <td>0.392427</td>\n",
       "      <td>0.392427</td>\n",
       "      <td>0.352728</td>\n",
       "      <td>0.353090</td>\n",
       "      <td>0.354162</td>\n",
       "      <td>0.355909</td>\n",
       "      <td>0.366263</td>\n",
       "      <td>0.366638</td>\n",
       "      <td>0.367751</td>\n",
       "      <td>0.369566</td>\n",
       "    </tr>\n",
       "    <tr>\n",
       "      <th>...</th>\n",
       "      <td>...</td>\n",
       "      <td>...</td>\n",
       "      <td>...</td>\n",
       "      <td>...</td>\n",
       "      <td>...</td>\n",
       "      <td>...</td>\n",
       "      <td>...</td>\n",
       "      <td>...</td>\n",
       "      <td>...</td>\n",
       "      <td>...</td>\n",
       "      <td>...</td>\n",
       "      <td>...</td>\n",
       "      <td>...</td>\n",
       "      <td>...</td>\n",
       "      <td>...</td>\n",
       "      <td>...</td>\n",
       "      <td>...</td>\n",
       "      <td>...</td>\n",
       "      <td>...</td>\n",
       "      <td>...</td>\n",
       "      <td>...</td>\n",
       "    </tr>\n",
       "    <tr>\n",
       "      <th>480941</th>\n",
       "      <td>6</td>\n",
       "      <td>3</td>\n",
       "      <td>0</td>\n",
       "      <td>0</td>\n",
       "      <td>7</td>\n",
       "      <td>113</td>\n",
       "      <td>0</td>\n",
       "      <td>59730</td>\n",
       "      <td>3</td>\n",
       "      <td>3</td>\n",
       "      <td>...</td>\n",
       "      <td>0.343625</td>\n",
       "      <td>0.343625</td>\n",
       "      <td>0.333553</td>\n",
       "      <td>0.333949</td>\n",
       "      <td>0.335125</td>\n",
       "      <td>0.337043</td>\n",
       "      <td>0.303533</td>\n",
       "      <td>0.303893</td>\n",
       "      <td>0.304962</td>\n",
       "      <td>0.306708</td>\n",
       "    </tr>\n",
       "    <tr>\n",
       "      <th>480942</th>\n",
       "      <td>6</td>\n",
       "      <td>2</td>\n",
       "      <td>0</td>\n",
       "      <td>0</td>\n",
       "      <td>80</td>\n",
       "      <td>113</td>\n",
       "      <td>0</td>\n",
       "      <td>59730</td>\n",
       "      <td>3</td>\n",
       "      <td>3</td>\n",
       "      <td>...</td>\n",
       "      <td>0.343625</td>\n",
       "      <td>0.343625</td>\n",
       "      <td>0.333553</td>\n",
       "      <td>0.333949</td>\n",
       "      <td>0.335125</td>\n",
       "      <td>0.337043</td>\n",
       "      <td>0.352808</td>\n",
       "      <td>0.353227</td>\n",
       "      <td>0.354470</td>\n",
       "      <td>0.356499</td>\n",
       "    </tr>\n",
       "    <tr>\n",
       "      <th>480945</th>\n",
       "      <td>6</td>\n",
       "      <td>1</td>\n",
       "      <td>0</td>\n",
       "      <td>0</td>\n",
       "      <td>48</td>\n",
       "      <td>59</td>\n",
       "      <td>1</td>\n",
       "      <td>59731</td>\n",
       "      <td>18</td>\n",
       "      <td>3</td>\n",
       "      <td>...</td>\n",
       "      <td>0.616216</td>\n",
       "      <td>0.616216</td>\n",
       "      <td>0.609362</td>\n",
       "      <td>0.603176</td>\n",
       "      <td>0.587778</td>\n",
       "      <td>0.569317</td>\n",
       "      <td>0.596218</td>\n",
       "      <td>0.590166</td>\n",
       "      <td>0.575099</td>\n",
       "      <td>0.557037</td>\n",
       "    </tr>\n",
       "    <tr>\n",
       "      <th>480946</th>\n",
       "      <td>6</td>\n",
       "      <td>2</td>\n",
       "      <td>0</td>\n",
       "      <td>0</td>\n",
       "      <td>17</td>\n",
       "      <td>113</td>\n",
       "      <td>0</td>\n",
       "      <td>59732</td>\n",
       "      <td>5</td>\n",
       "      <td>2</td>\n",
       "      <td>...</td>\n",
       "      <td>0.617907</td>\n",
       "      <td>0.617907</td>\n",
       "      <td>0.620669</td>\n",
       "      <td>0.607880</td>\n",
       "      <td>0.580636</td>\n",
       "      <td>0.554550</td>\n",
       "      <td>0.600010</td>\n",
       "      <td>0.587647</td>\n",
       "      <td>0.561309</td>\n",
       "      <td>0.536092</td>\n",
       "    </tr>\n",
       "    <tr>\n",
       "      <th>480947</th>\n",
       "      <td>6</td>\n",
       "      <td>2</td>\n",
       "      <td>0</td>\n",
       "      <td>0</td>\n",
       "      <td>17</td>\n",
       "      <td>113</td>\n",
       "      <td>0</td>\n",
       "      <td>59732</td>\n",
       "      <td>49</td>\n",
       "      <td>2</td>\n",
       "      <td>...</td>\n",
       "      <td>0.690917</td>\n",
       "      <td>0.690917</td>\n",
       "      <td>0.675380</td>\n",
       "      <td>0.661896</td>\n",
       "      <td>0.630796</td>\n",
       "      <td>0.597558</td>\n",
       "      <td>0.687281</td>\n",
       "      <td>0.673559</td>\n",
       "      <td>0.641911</td>\n",
       "      <td>0.608087</td>\n",
       "    </tr>\n",
       "  </tbody>\n",
       "</table>\n",
       "<p>387820 rows × 177 columns</p>\n",
       "</div>"
      ],
      "text/plain": [
       "       weekdayOrdered weekdayReceived weDelivery accOldSys  color  size  \\\n",
       "0                   6               1          0         0     40   108   \n",
       "1                   6               1          0         0     66   102   \n",
       "2                   6               1          0         0     33   102   \n",
       "5                   0               3          0         1     21   113   \n",
       "7                   0               1          0         1     21   113   \n",
       "...               ...             ...        ...       ...    ...   ...   \n",
       "480941              6               3          0         0      7   113   \n",
       "480942              6               2          0         0     80   113   \n",
       "480945              6               1          0         0     48    59   \n",
       "480946              6               2          0         0     17   113   \n",
       "480947              6               2          0         0     17   113   \n",
       "\n",
       "       userAgeImp  customerID manufacturerID  salutation  ...  \\\n",
       "0               0         422             25           3  ...   \n",
       "1               0         422             21           3  ...   \n",
       "2               0         422             21           3  ...   \n",
       "5               0         445             87           3  ...   \n",
       "7               0         464              3           3  ...   \n",
       "...           ...         ...            ...         ...  ...   \n",
       "480941          0       59730              3           3  ...   \n",
       "480942          0       59730              3           3  ...   \n",
       "480945          1       59731             18           3  ...   \n",
       "480946          0       59732              5           2  ...   \n",
       "480947          0       59732             49           2  ...   \n",
       "\n",
       "        100_100_False_lift_base  100_100_False_conf_base      10_m      20_m  \\\n",
       "0                      0.632280                 0.632280  0.638086  0.633387   \n",
       "1                      0.664222                 0.664222  0.608780  0.607564   \n",
       "2                      0.664222                 0.664222  0.608780  0.607564   \n",
       "5                      0.765985                 0.765985  0.748821  0.731969   \n",
       "7                      0.392427                 0.392427  0.352728  0.353090   \n",
       "...                         ...                      ...       ...       ...   \n",
       "480941                 0.343625                 0.343625  0.333553  0.333949   \n",
       "480942                 0.343625                 0.343625  0.333553  0.333949   \n",
       "480945                 0.616216                 0.616216  0.609362  0.603176   \n",
       "480946                 0.617907                 0.617907  0.620669  0.607880   \n",
       "480947                 0.690917                 0.690917  0.675380  0.661896   \n",
       "\n",
       "            50_m     100_m  10_m_smooth  20_m_smooth  50_m_smooth  \\\n",
       "0       0.620852  0.604028     0.653933     0.649118     0.636272   \n",
       "1       0.604052  0.598618     0.604571     0.603363     0.599876   \n",
       "2       0.604052  0.598618     0.628495     0.627239     0.623614   \n",
       "5       0.692169  0.648132     0.740055     0.723400     0.684066   \n",
       "7       0.354162  0.355909     0.366263     0.366638     0.367751   \n",
       "...          ...       ...          ...          ...          ...   \n",
       "480941  0.335125  0.337043     0.303533     0.303893     0.304962   \n",
       "480942  0.335125  0.337043     0.352808     0.353227     0.354470   \n",
       "480945  0.587778  0.569317     0.596218     0.590166     0.575099   \n",
       "480946  0.580636  0.554550     0.600010     0.587647     0.561309   \n",
       "480947  0.630796  0.597558     0.687281     0.673559     0.641911   \n",
       "\n",
       "        100_m_smooth  \n",
       "0           0.619029  \n",
       "1           0.594480  \n",
       "2           0.618004  \n",
       "5           0.640544  \n",
       "7           0.369566  \n",
       "...              ...  \n",
       "480941      0.306708  \n",
       "480942      0.356499  \n",
       "480945      0.557037  \n",
       "480946      0.536092  \n",
       "480947      0.608087  \n",
       "\n",
       "[387820 rows x 177 columns]"
      ]
     },
     "execution_count": 186,
     "metadata": {},
     "output_type": "execute_result"
    }
   ],
   "source": [
    "train.loc[budget_dict[\"train\"][8]]"
   ]
  },
  {
   "cell_type": "code",
   "execution_count": 181,
   "id": "e06d7934",
   "metadata": {},
   "outputs": [],
   "source": [
    "incdict = {}\n",
    "for budget in data[\"budgets\"].unique():\n",
    "    incdict[budget] = data[data[\"budgets\"]<=budget].index"
   ]
  },
  {
   "cell_type": "code",
   "execution_count": 140,
   "id": "6b745738",
   "metadata": {},
   "outputs": [],
   "source": [
    "data = orders[\"train_test\"]\n",
    "ord_encode =  parameters[\"coldict\"][\"ord_encode\"]\n",
    "# data[ord_encode]\n",
    "train = data[data[\"val_set\"]==0]\n",
    "test = data[data[\"val_set\"]==1]\n",
    "enc = OrdinalEncoder(handle_unknown= \"use_encoded_value\", unknown_value=np.nan) # )\n",
    "enc_train = enc.fit_transform(train[ord_encode])\n",
    "enc_test = enc.transform(test[ord_encode])\n",
    "data.loc[:, ord_encode] = np.nan\n",
    "data.loc[train.index, ord_encode] = enc_train\n",
    "data.loc[test.index, ord_encode] = enc_test\n",
    "for column in ord_encode:\n",
    "    data[column].fillna(max(data[column])-1, inplace=True)\n",
    "    data[column] = data[column].astype(int)"
   ]
  },
  {
   "cell_type": "code",
   "execution_count": 132,
   "id": "74c4f5f3",
   "metadata": {},
   "outputs": [],
   "source": [
    "from torch.utils.data import Dataset, DataLoader #, TensorDataset\n",
    "import torch\n",
    "import torch.nn.functional as F\n",
    "import torch.nn as nn\n",
    "class TabularDataset(Dataset):\n",
    "    def __init__(self, X, y, cat_feat=[], cont_feat=[]):\n",
    "        \"\"\"\n",
    "        # https://yashuseth.blog/2018/07/22/pytorch-neural-network-for-tabular-data-with-categorical-embeddings/\n",
    "        Characterizes a Dataset for PyTorch\n",
    "        Parameters\n",
    "        ----------\n",
    "        X: array with features\n",
    "        y: 1D array with explainable variable\n",
    "        cat_feat: int or List of ints with incides\n",
    "        The names of the categorical columns in the data.\n",
    "        These columns will be passed through the embedding\n",
    "        layers in the model. These columns must be\n",
    "        label encoded beforehand. \n",
    "        output_col: string\n",
    "        The name of the output variable column in the data\n",
    "        provided.\n",
    "        \"\"\"\n",
    "        self.n = X.shape[0]\n",
    "\n",
    "        self.y = torch.from_numpy(np.array(y.astype(np.float32))).reshape(-1, 1)\n",
    "\n",
    "        self.cat_feat = cat_feat # if any(cat_feat) else []\n",
    "        self.cont_feat = cont_feat # if cont_feat else []\n",
    "\n",
    "        self.cont_X = torch.from_numpy(\n",
    "            X[:, cont_feat].astype(np.float32) if any(self.cont_feat) else np.zeros((self.n, 1)))\n",
    "        self.cat_X = torch.from_numpy(\n",
    "            X[:, cat_feat].astype(np.int32) if any(self.cat_feat) else np.zeros((self.n, 1)))\n",
    "\n",
    "    def __len__(self):\n",
    "        \"\"\"\n",
    "        Denotes the total number of samples.\n",
    "        \"\"\"\n",
    "        return self.n\n",
    "\n",
    "    def __getitem__(self, idx):\n",
    "        \"\"\"\n",
    "        Generates one sample of data.\n",
    "        \"\"\"\n",
    "        return [self.y[idx], self.cont_X[idx], self.cat_X[idx]]"
   ]
  },
  {
   "cell_type": "code",
   "execution_count": 133,
   "id": "a9f04f4f",
   "metadata": {},
   "outputs": [],
   "source": [
    "cols_dict = parameters[\"coldict\"]\n",
    "cat_cols = cols_dict['cat_pass'] + cols_dict['cat_catboost']\n",
    "cat_dims = [len(np.unique(X_train[:, inc])) for inc in range(len(cat_cols))] # \n",
    "emb_dims = [(x + 1, min(600, round(1.6 * x **0.56))) for x in cat_dims]\n",
    "embeds = nn.ModuleList([nn.Embedding(x, y)\n",
    "                                         for x, y in emb_dims])"
   ]
  },
  {
   "cell_type": "code",
   "execution_count": 134,
   "id": "b263680b",
   "metadata": {},
   "outputs": [],
   "source": [
    "train = data[data[\"val_set\"]==0]\n",
    "test = data[data[\"val_set\"]==1]\n",
    "\n",
    "X_train = train[cat_cols + cols_dict[\"cont\"]].to_numpy()\n",
    "X_test = test[cat_cols + cols_dict[\"cont\"]].to_numpy()\n",
    "\n",
    "y_train = train[\"returnShipment\"].to_numpy()\n",
    "y_test = test[\"returnShipment\"].to_numpy()"
   ]
  },
  {
   "cell_type": "code",
   "execution_count": 135,
   "id": "dc47a13b",
   "metadata": {},
   "outputs": [],
   "source": [
    "# train_dataset = TabularDataset(X_train, y_train, cat_inc, cont_inc)\n",
    "cat_inc = np.array(range(len(cat_cols)))\n",
    "cont_inc = np.array(range(len(cat_cols), X_train.shape[1]))\n",
    "\n",
    "train_dataset = TabularDataset(X_train, y_train, cat_inc, cont_inc)\n",
    "train_loader = torch.utils.data.DataLoader(dataset=train_dataset, batch_size=1024)\n",
    "# test_loader = torch.utils.data.DataLoader(dataset=test_dataset, batch_size=1024)"
   ]
  },
  {
   "cell_type": "code",
   "execution_count": 149,
   "id": "5176b47d",
   "metadata": {},
   "outputs": [],
   "source": [
    "data.loc[:, cat_cols] = data[cat_cols].apply(lambda x: pd.to_numeric(x))"
   ]
  },
  {
   "cell_type": "code",
   "execution_count": 158,
   "id": "f6d351e6",
   "metadata": {},
   "outputs": [],
   "source": [
    "ord_encode= [\"color\", \"size\", \"customerID\", \"salutation\", \"state\", \"item_color_cat\", \"item_size_cat\", \"itemID\", \"manufacturerID\"]\n",
    "# cat_passnoenc: ['weekdayOrdered', 'weekdayReceived', 'weDelivery', 'accOldSys', 'userAgeImp']\n",
    "cat_pass= ['weekdayOrdered', 'weekdayReceived', 'weDelivery', 'accOldSys', \"color\", \"size\", \"userAgeImp\"]\n",
    "# double: one normal + one catboost col; seperate for arguments -> [\"manufacturerID\", \"salutation\", \"state\"] + ['item_color_cat', 'item_size_cat']\n",
    "cat_catboost= [\"customerID\", \"manufacturerID\", \"salutation\", \"state\", 'item_color_cat', 'item_size_cat', 'monthOrdered', \"itemID\"] #"
   ]
  },
  {
   "cell_type": "code",
   "execution_count": 170,
   "id": "3809041b",
   "metadata": {},
   "outputs": [
    {
     "data": {
      "text/plain": [
       "'catcols = pd.Series(cat_pass+cat_catboost)\\nnumeric = catcols[~catcols.isin(ord_encode)]\\ndata.loc[:, numeric]'"
      ]
     },
     "execution_count": 170,
     "metadata": {},
     "output_type": "execute_result"
    }
   ],
   "source": [
    "\"\"\"catcols = pd.Series(cat_pass+cat_catboost)\n",
    "numeric = catcols[~catcols.isin(ord_encode)]\n",
    "data.loc[:, numeric]\n",
    "for i, (y, cont_x, cat_x) in enumerate(train_loader):\n",
    "    print(y.shape, cont_x.shape, cat_x.shape)\"\"\""
   ]
  },
  {
   "cell_type": "code",
   "execution_count": 126,
   "id": "ee454436",
   "metadata": {},
   "outputs": [],
   "source": [
    "vals = {}\n",
    "for cat in cat_inc:\n",
    "    vals[cat] = []\n",
    "for i, (y, cont_x, cat_x) in enumerate(train_loader):\n",
    "    for j in range(cat_x.shape[1]):\n",
    "        vals[j] = np.unique(np.append(np.array(vals[j]), cat_x[:, j].numpy()))"
   ]
  },
  {
   "cell_type": "code",
   "execution_count": null,
   "id": "8a0c77c8",
   "metadata": {},
   "outputs": [],
   "source": [
    "for i in range(15):\n",
    "    print(np.max(np.array(cat_x[:, i])))"
   ]
  },
  {
   "cell_type": "code",
   "execution_count": null,
   "id": "2cd4b3b4",
   "metadata": {},
   "outputs": [],
   "source": [
    "# np.max(np.array(cat_x[:, i]))"
   ]
  },
  {
   "cell_type": "code",
   "execution_count": 171,
   "id": "e40d910f",
   "metadata": {},
   "outputs": [],
   "source": [
    "emb_dims = [(8, 5), (7, 4), (3, 2), (3, 2), (86, 19), (116, 23), (3, 2), (54834, 600), (164, 28), (6, 4), (17, 8), (8187, 249), (15189, 351), (13, 6)]\n",
    "# [emb_layer(cat_data[:, i]) for i, emb_layer in enumerate(embeds)]"
   ]
  },
  {
   "cell_type": "code",
   "execution_count": 12,
   "id": "f63021d0",
   "metadata": {},
   "outputs": [
    {
     "name": "stdout",
     "output_type": "stream",
     "text": [
      "color 85 0 84\n",
      "size 115 0 114\n",
      "customerID 59733 0 59732\n",
      "salutation 5 0 4\n",
      "state 16 0 15\n",
      "item_color_cat 8230 0 8229\n",
      "item_size_cat 15432 0 15431\n",
      "itemID 3002 0 3001\n"
     ]
    }
   ],
   "source": [
    "for column in ord_encode:\n",
    "    print(column, data[column].nunique(), data[column].min(), data[column].max())"
   ]
  },
  {
   "cell_type": "code",
   "execution_count": 60,
   "id": "adbdc499",
   "metadata": {},
   "outputs": [],
   "source": [
    "from sklearn.preprocessing import OrdinalEncoder\n",
    "for column in data.columns:\n",
    "    \n",
    "enc = OrdinalEncoder(handle_unknown= \"use_encoded_value\", unknown_value=np.nan) # )\n",
    "enc_ord = enc.fit_transform(data[ord_encode])\n",
    "data.loc[:, label_encode] = enc_ord"
   ]
  },
  {
   "cell_type": "code",
   "execution_count": null,
   "id": "d2272289",
   "metadata": {},
   "outputs": [],
   "source": [
    "label_encode: [\"color\", \"size\", \"customerID\", \"salutation\", \"state\", \"item_color_cat\", \"item_size_cat\", \"itemID\"]\n",
    "cat_pass: ['weekdayOrdered', 'weekdayReceived', 'weDelivery', 'accOldSys', 'userAgeImp']"
   ]
  },
  {
   "cell_type": "code",
   "execution_count": 3,
   "id": "692df9df",
   "metadata": {},
   "outputs": [
    {
     "data": {
      "text/html": [
       "<div>\n",
       "<style scoped>\n",
       "    .dataframe tbody tr th:only-of-type {\n",
       "        vertical-align: middle;\n",
       "    }\n",
       "\n",
       "    .dataframe tbody tr th {\n",
       "        vertical-align: top;\n",
       "    }\n",
       "\n",
       "    .dataframe thead th {\n",
       "        text-align: right;\n",
       "    }\n",
       "</style>\n",
       "<table border=\"1\" class=\"dataframe\">\n",
       "  <thead>\n",
       "    <tr style=\"text-align: right;\">\n",
       "      <th></th>\n",
       "      <th>weekdayOrdered</th>\n",
       "      <th>weekdayReceived</th>\n",
       "      <th>weDelivery</th>\n",
       "      <th>accOldSys</th>\n",
       "      <th>color</th>\n",
       "      <th>size</th>\n",
       "      <th>userAgeImp</th>\n",
       "      <th>customerID</th>\n",
       "      <th>manufacturerID</th>\n",
       "      <th>salutation</th>\n",
       "      <th>state</th>\n",
       "      <th>item_color_cat</th>\n",
       "      <th>item_size_cat</th>\n",
       "      <th>monthOrdered</th>\n",
       "    </tr>\n",
       "  </thead>\n",
       "  <tbody>\n",
       "    <tr>\n",
       "      <th>0</th>\n",
       "      <td>6</td>\n",
       "      <td>1</td>\n",
       "      <td>0</td>\n",
       "      <td>0</td>\n",
       "      <td>denim</td>\n",
       "      <td>m</td>\n",
       "      <td>0</td>\n",
       "      <td>794</td>\n",
       "      <td>25</td>\n",
       "      <td>Mrs</td>\n",
       "      <td>Baden-Wuerttemberg</td>\n",
       "      <td>186_denim</td>\n",
       "      <td>186_m</td>\n",
       "      <td>4</td>\n",
       "    </tr>\n",
       "    <tr>\n",
       "      <th>1</th>\n",
       "      <td>6</td>\n",
       "      <td>1</td>\n",
       "      <td>0</td>\n",
       "      <td>0</td>\n",
       "      <td>ocher</td>\n",
       "      <td>9+</td>\n",
       "      <td>0</td>\n",
       "      <td>794</td>\n",
       "      <td>21</td>\n",
       "      <td>Mrs</td>\n",
       "      <td>Baden-Wuerttemberg</td>\n",
       "      <td>71_ocher</td>\n",
       "      <td>71_9+</td>\n",
       "      <td>4</td>\n",
       "    </tr>\n",
       "    <tr>\n",
       "      <th>2</th>\n",
       "      <td>6</td>\n",
       "      <td>1</td>\n",
       "      <td>0</td>\n",
       "      <td>0</td>\n",
       "      <td>curry</td>\n",
       "      <td>9+</td>\n",
       "      <td>0</td>\n",
       "      <td>794</td>\n",
       "      <td>21</td>\n",
       "      <td>Mrs</td>\n",
       "      <td>Baden-Wuerttemberg</td>\n",
       "      <td>71_curry</td>\n",
       "      <td>71_9+</td>\n",
       "      <td>4</td>\n",
       "    </tr>\n",
       "    <tr>\n",
       "      <th>3</th>\n",
       "      <td>0</td>\n",
       "      <td>3</td>\n",
       "      <td>0</td>\n",
       "      <td>0</td>\n",
       "      <td>green</td>\n",
       "      <td>m</td>\n",
       "      <td>0</td>\n",
       "      <td>808</td>\n",
       "      <td>14</td>\n",
       "      <td>Mrs</td>\n",
       "      <td>Saxony</td>\n",
       "      <td>22_green</td>\n",
       "      <td>22_m</td>\n",
       "      <td>4</td>\n",
       "    </tr>\n",
       "    <tr>\n",
       "      <th>4</th>\n",
       "      <td>0</td>\n",
       "      <td>3</td>\n",
       "      <td>0</td>\n",
       "      <td>1</td>\n",
       "      <td>black</td>\n",
       "      <td>39</td>\n",
       "      <td>0</td>\n",
       "      <td>825</td>\n",
       "      <td>53</td>\n",
       "      <td>Mrs</td>\n",
       "      <td>Rhineland-Palatinate</td>\n",
       "      <td>151_black</td>\n",
       "      <td>151_39</td>\n",
       "      <td>4</td>\n",
       "    </tr>\n",
       "    <tr>\n",
       "      <th>...</th>\n",
       "      <td>...</td>\n",
       "      <td>...</td>\n",
       "      <td>...</td>\n",
       "      <td>...</td>\n",
       "      <td>...</td>\n",
       "      <td>...</td>\n",
       "      <td>...</td>\n",
       "      <td>...</td>\n",
       "      <td>...</td>\n",
       "      <td>...</td>\n",
       "      <td>...</td>\n",
       "      <td>...</td>\n",
       "      <td>...</td>\n",
       "      <td>...</td>\n",
       "    </tr>\n",
       "    <tr>\n",
       "      <th>480944</th>\n",
       "      <td>6</td>\n",
       "      <td>1</td>\n",
       "      <td>0</td>\n",
       "      <td>0</td>\n",
       "      <td>blue</td>\n",
       "      <td>39+</td>\n",
       "      <td>0</td>\n",
       "      <td>7032</td>\n",
       "      <td>1</td>\n",
       "      <td>Mr</td>\n",
       "      <td>Lower Saxony</td>\n",
       "      <td>2561_blue</td>\n",
       "      <td>2561_39+</td>\n",
       "      <td>3</td>\n",
       "    </tr>\n",
       "    <tr>\n",
       "      <th>480945</th>\n",
       "      <td>6</td>\n",
       "      <td>1</td>\n",
       "      <td>0</td>\n",
       "      <td>0</td>\n",
       "      <td>grey</td>\n",
       "      <td>39</td>\n",
       "      <td>1</td>\n",
       "      <td>86610</td>\n",
       "      <td>18</td>\n",
       "      <td>Mrs</td>\n",
       "      <td>Berlin</td>\n",
       "      <td>2669_grey</td>\n",
       "      <td>2669_39</td>\n",
       "      <td>3</td>\n",
       "    </tr>\n",
       "    <tr>\n",
       "      <th>480946</th>\n",
       "      <td>6</td>\n",
       "      <td>2</td>\n",
       "      <td>0</td>\n",
       "      <td>0</td>\n",
       "      <td>black</td>\n",
       "      <td>xxl</td>\n",
       "      <td>0</td>\n",
       "      <td>86611</td>\n",
       "      <td>5</td>\n",
       "      <td>Mr</td>\n",
       "      <td>Berlin</td>\n",
       "      <td>2458_black</td>\n",
       "      <td>2458_xxl</td>\n",
       "      <td>3</td>\n",
       "    </tr>\n",
       "    <tr>\n",
       "      <th>480947</th>\n",
       "      <td>6</td>\n",
       "      <td>2</td>\n",
       "      <td>0</td>\n",
       "      <td>0</td>\n",
       "      <td>black</td>\n",
       "      <td>xxl</td>\n",
       "      <td>0</td>\n",
       "      <td>86611</td>\n",
       "      <td>49</td>\n",
       "      <td>Mr</td>\n",
       "      <td>Berlin</td>\n",
       "      <td>2659_black</td>\n",
       "      <td>2659_xxl</td>\n",
       "      <td>3</td>\n",
       "    </tr>\n",
       "    <tr>\n",
       "      <th>480948</th>\n",
       "      <td>6</td>\n",
       "      <td>2</td>\n",
       "      <td>0</td>\n",
       "      <td>0</td>\n",
       "      <td>red</td>\n",
       "      <td>xxl</td>\n",
       "      <td>0</td>\n",
       "      <td>86611</td>\n",
       "      <td>49</td>\n",
       "      <td>Mr</td>\n",
       "      <td>Berlin</td>\n",
       "      <td>2375_red</td>\n",
       "      <td>2375_xxl</td>\n",
       "      <td>3</td>\n",
       "    </tr>\n",
       "  </tbody>\n",
       "</table>\n",
       "<p>480949 rows × 14 columns</p>\n",
       "</div>"
      ],
      "text/plain": [
       "       weekdayOrdered weekdayReceived weDelivery accOldSys  color size  \\\n",
       "0                   6               1          0         0  denim    m   \n",
       "1                   6               1          0         0  ocher   9+   \n",
       "2                   6               1          0         0  curry   9+   \n",
       "3                   0               3          0         0  green    m   \n",
       "4                   0               3          0         1  black   39   \n",
       "...               ...             ...        ...       ...    ...  ...   \n",
       "480944              6               1          0         0   blue  39+   \n",
       "480945              6               1          0         0   grey   39   \n",
       "480946              6               2          0         0  black  xxl   \n",
       "480947              6               2          0         0  black  xxl   \n",
       "480948              6               2          0         0    red  xxl   \n",
       "\n",
       "       userAgeImp customerID manufacturerID salutation                 state  \\\n",
       "0               0        794             25        Mrs    Baden-Wuerttemberg   \n",
       "1               0        794             21        Mrs    Baden-Wuerttemberg   \n",
       "2               0        794             21        Mrs    Baden-Wuerttemberg   \n",
       "3               0        808             14        Mrs                Saxony   \n",
       "4               0        825             53        Mrs  Rhineland-Palatinate   \n",
       "...           ...        ...            ...        ...                   ...   \n",
       "480944          0       7032              1         Mr          Lower Saxony   \n",
       "480945          1      86610             18        Mrs                Berlin   \n",
       "480946          0      86611              5         Mr                Berlin   \n",
       "480947          0      86611             49         Mr                Berlin   \n",
       "480948          0      86611             49         Mr                Berlin   \n",
       "\n",
       "       item_color_cat item_size_cat monthOrdered  \n",
       "0           186_denim         186_m            4  \n",
       "1            71_ocher         71_9+            4  \n",
       "2            71_curry         71_9+            4  \n",
       "3            22_green          22_m            4  \n",
       "4           151_black        151_39            4  \n",
       "...               ...           ...          ...  \n",
       "480944      2561_blue      2561_39+            3  \n",
       "480945      2669_grey       2669_39            3  \n",
       "480946     2458_black      2458_xxl            3  \n",
       "480947     2659_black      2659_xxl            3  \n",
       "480948       2375_red      2375_xxl            3  \n",
       "\n",
       "[480949 rows x 14 columns]"
      ]
     },
     "execution_count": 3,
     "metadata": {},
     "output_type": "execute_result"
    }
   ],
   "source": [
    "cols_dict = parameters[\"coldict\"]\n",
    "cat_cols = cols_dict['cat_pass'] + cols_dict['cat_catboost']\n",
    "cat_cols.remove(parameters[\"artnr_col\"]) # remove art and add it depending on config\n",
    "cont_cols = cols_dict[\"cont\"]\n",
    "# orders[\"train_val\"][cat_cols]"
   ]
  },
  {
   "cell_type": "code",
   "execution_count": 3,
   "id": "6274e74c",
   "metadata": {},
   "outputs": [
    {
     "data": {
      "text/plain": [
       "Index(['weekdayOrdered', 'weekdayReceived', 'weDelivery', 'accOldSys', 'color',\n",
       "       'size', 'userAgeImp', 'customerID', 'manufacturerID', 'salutation',\n",
       "       'state', 'item_color_cat', 'item_size_cat', 'monthOrdered', 'itemID',\n",
       "       'price', 'discount', 'basket_price', 'basketNArts', 'durationDelivery',\n",
       "       'accAgeAtOrder', 'UserAgeOrder', 'returnShipment', 'val_set',\n",
       "       'budgets'],\n",
       "      dtype='object')"
      ]
     },
     "execution_count": 3,
     "metadata": {},
     "output_type": "execute_result"
    }
   ],
   "source": [
    "orders[\"train_test\"].columns[:25]\n",
    "# orders_full[orders_full['customerID']==878].returnShipment.mean()"
   ]
  },
  {
   "cell_type": "code",
   "execution_count": 66,
   "id": "18df2692",
   "metadata": {},
   "outputs": [
    {
     "name": "stdout",
     "output_type": "stream",
     "text": [
      "float64\n",
      "category\n",
      "category\n",
      "float64\n",
      "int64\n"
     ]
    }
   ],
   "source": [
    "\"\"\"miniframe = orders[\"train_test\"][pd.DataFrame(rest_features).columns.to_list()]\n",
    "for col in miniframe.columns:\n",
    "    print(miniframe[col].dtype)\n",
    "for col in examp.columns:\n",
    "    print(pd.DataFrame(examp)[col].dtype)\"\"\""
   ]
  },
  {
   "cell_type": "code",
   "execution_count": 68,
   "id": "4375b823",
   "metadata": {},
   "outputs": [],
   "source": [
    "examp = pd.DataFrame(rest_features)"
   ]
  },
  {
   "cell_type": "code",
   "execution_count": 73,
   "id": "10d2ecc6",
   "metadata": {},
   "outputs": [],
   "source": [
    "for column in ['item_color_cat', 'item_size_cat']:\n",
    "    examp[column] = examp[column].astype(\"category\")"
   ]
  },
  {
   "cell_type": "code",
   "execution_count": 29,
   "id": "0a3aba91",
   "metadata": {},
   "outputs": [
    {
     "data": {
      "text/plain": [
       "True"
      ]
     },
     "execution_count": 29,
     "metadata": {},
     "output_type": "execute_result"
    }
   ],
   "source": [
    "orders[\"train_test\"][enc_frame.columns].equals(enc_frame)"
   ]
  },
  {
   "cell_type": "markdown",
   "id": "853990c0",
   "metadata": {},
   "source": [
    "### Check Data + Training\n",
    "* time+other features equal to old version (old data still available)"
   ]
  },
  {
   "cell_type": "code",
   "execution_count": 15,
   "id": "f5e25450",
   "metadata": {},
   "outputs": [],
   "source": [
    "data_val = orders[\"train_val\"]\n",
    "train_val = data_val[data_val[\"val_set\"]==0]\n",
    "test_val = data_val[data_val[\"val_set\"]==1]\n",
    "pos_val_train = train_val[train_val[\"returnShipment\"]==1].index\n",
    "neg_val_train = train_val[train_val[\"returnShipment\"]==0].index\n",
    "pos_val_test = test_val[test_val[\"returnShipment\"]==1].index\n",
    "neg_val_test = test_val[test_val[\"returnShipment\"]==0].index"
   ]
  },
  {
   "cell_type": "code",
   "execution_count": 40,
   "id": "7f8f4f1e",
   "metadata": {},
   "outputs": [
    {
     "data": {
      "text/plain": [
       "0.5046327728743161"
      ]
     },
     "execution_count": 40,
     "metadata": {},
     "output_type": "execute_result"
    }
   ],
   "source": [
    "print(test_val[\"returnShipment\"].mean(),\n",
    "train_val[\"returnShipment\"].mean())"
   ]
  },
  {
   "cell_type": "code",
   "execution_count": 16,
   "id": "04b174d7",
   "metadata": {},
   "outputs": [],
   "source": [
    "data_test = orders[\"train_test\"]\n",
    "train_val = data_val[data_val[\"val_set\"]==0]\n",
    "test_val = data_val[data_val[\"val_set\"]==1]\n",
    "pos_val_train = train_val[train_val[\"returnShipment\"]==1].index\n",
    "neg_val_train = train_val[train_val[\"returnShipment\"]==0].index\n",
    "pos_val_test = test_val[test_val[\"returnShipment\"]==1].index\n",
    "neg_val_test = test_val[test_val[\"returnShipment\"]==0].index"
   ]
  },
  {
   "cell_type": "code",
   "execution_count": 51,
   "id": "9e32ce8a",
   "metadata": {},
   "outputs": [
    {
     "data": {
      "text/plain": [
       "0.4602073960213485"
      ]
     },
     "execution_count": 51,
     "metadata": {},
     "output_type": "execute_result"
    }
   ],
   "source": [
    "# data_test[\"returnShipment\"]\n",
    "train_val.loc[neg_val_train, \"100_1_False_conf\"].mean(),\n",
    "train_val.loc[pos_val_train, \"100_1_False_conf\"].mean(),\n",
    "test_val.loc[pos_val_test, \"100_1_False_conf\"].mean(),\n",
    "test_val.loc[neg_val_test, \"100_1_False_conf\"].mean()"
   ]
  },
  {
   "cell_type": "code",
   "execution_count": 10,
   "id": "cc7f4f84",
   "metadata": {},
   "outputs": [],
   "source": [
    "# print(test_val[\"returnShipment\"].mean(),\n",
    "# train_val[\"returnShipment\"].mean())"
   ]
  },
  {
   "cell_type": "code",
   "execution_count": 4,
   "id": "0a5888a5",
   "metadata": {},
   "outputs": [],
   "source": [
    "depth = 8\n",
    "l2_leaf_reg = 12\n",
    "lr = 0.2620077982153718\n",
    "\n",
    "retp_cols = [\"100_1_True_conf\"]\n",
    "\n",
    "data_test = orders[\"train_test\"]\n",
    "\n",
    "cols_dict = parameters[\"coldict\"]\n",
    "cat_cols = cols_dict['cat_pass'] + cols_dict['cat_catboost']\n",
    "cat_cols.remove(parameters[\"artnr_col\"])\n",
    "cont_cols = cols_dict[\"cont\"]\n",
    "output_col = parameters[\"target_col\"]\n",
    "cat_features = np.array(range(len(cat_cols)))\n",
    "train_inc = data_test[data_test[\"val_set\"]==0].index\n",
    "test_inc = data_test[data_test[\"val_set\"]==1].index\n",
    "\n",
    "data_test = data_test[cat_cols+cont_cols+retp_cols+[output_col]]\n",
    "X_train= data_test.drop(output_col, axis=1).loc[train_inc]\n",
    "y_train = data_test.loc[:, output_col].loc[train_inc]\n",
    "X_test= data_test.drop(output_col, axis=1).loc[test_inc]\n",
    "y_test = data_test.loc[test_inc, output_col]\n",
    "\n",
    "train_pool = Pool(X_train, y_train, cat_features=cat_features)\n",
    "validate_pool = Pool(X_test, y_test, cat_features=cat_features)"
   ]
  },
  {
   "cell_type": "code",
   "execution_count": 6,
   "id": "64a477b5",
   "metadata": {},
   "outputs": [
    {
     "data": {
      "text/plain": [
       "Index(['weekdayOrdered', 'weekdayReceived', 'weDelivery', 'accOldSys', 'color',\n",
       "       'size', 'userAgeImp', 'customerID', 'manufacturerID', 'salutation',\n",
       "       'state', 'item_color_cat', 'item_size_cat', 'monthOrdered', 'price',\n",
       "       'discount', 'basket_price', 'basketNArts', 'durationDelivery',\n",
       "       'accAgeAtOrder'],\n",
       "      dtype='object')"
      ]
     },
     "execution_count": 6,
     "metadata": {},
     "output_type": "execute_result"
    }
   ],
   "source": [
    "data_test.columns[:20]"
   ]
  },
  {
   "cell_type": "code",
   "execution_count": 8,
   "id": "0c64f431",
   "metadata": {},
   "outputs": [
    {
     "data": {
      "text/plain": [
       "<catboost.core.CatBoostClassifier at 0x7f4d430f1a60>"
      ]
     },
     "execution_count": 8,
     "metadata": {},
     "output_type": "execute_result"
    }
   ],
   "source": [
    "params = {\n",
    "    'iterations': 1000,\n",
    "    'learning_rate': lr,\n",
    "    'eval_metric': metrics.MCC(),\n",
    "    'random_seed': 42,\n",
    "    'logging_level': 'Silent',\n",
    "    'use_best_model': True,\n",
    "    'od_type': 'Iter',  # https://catboost.ai/en/docs/features/overfitting-detector-desc#od_wait\n",
    "    'od_wait': 50,\n",
    "    'allow_writing_files': False,\n",
    "    'one_hot_max_size': 16, #\n",
    "    'l2_leaf_reg': l2_leaf_reg,\n",
    "    'depth': depth}\n",
    "model = CatBoostClassifier(**params)\n",
    "model.fit(train_pool, eval_set=validate_pool)"
   ]
  },
  {
   "cell_type": "code",
   "execution_count": 9,
   "id": "6834f4fe",
   "metadata": {},
   "outputs": [
    {
     "data": {
      "text/plain": [
       "0.34735266400831144"
      ]
     },
     "execution_count": 9,
     "metadata": {},
     "output_type": "execute_result"
    }
   ],
   "source": [
    "y_pred = model.predict(X_test)\n",
    "MCC_test= matthews_corrcoef(y_test, y_pred)\n",
    "MCC_test"
   ]
  },
  {
   "cell_type": "markdown",
   "id": "f1fbeb4d",
   "metadata": {},
   "source": [
    "## Content\n",
    "* plots: n_Warenkorb vs. ret%\n",
    "* ret_p vs. ret% in test+train (feature check)\n",
    "\n",
    "### Data Check (ret_p values etc.)\n",
    "* check imputed values and ret_p>1\n",
    "* dual vs. multi-item baskets\n",
    "* generate_ret_p review\n",
    "    * lookup dict creation (multi + art_df)\n",
    "    * Lookup feature generation: get_ret_perc_train lookup\n",
    "    \n",
    "### Catboost Training"
   ]
  },
  {
   "cell_type": "markdown",
   "id": "c40dd09b",
   "metadata": {},
   "source": [
    "### Load data"
   ]
  },
  {
   "cell_type": "code",
   "execution_count": 4,
   "id": "8431c5ab",
   "metadata": {},
   "outputs": [
    {
     "name": "stdout",
     "output_type": "stream",
     "text": [
      "2022-02-12 12:58:56,147 - kedro.io.data_catalog - INFO - Loading data from `orders_full` (PickleDataSet)...\n",
      "2022-02-12 12:58:56,476 - kedro.io.data_catalog - INFO - Loading data from `orders_features` (PickleDataSet)...\n",
      "2022-02-12 12:58:56,908 - kedro.io.data_catalog - INFO - Loading data from `parameters` (MemoryDataSet)...\n"
     ]
    },
    {
     "data": {
      "text/plain": [
       "['manufacturerID',\n",
       " 'salutation',\n",
       " 'state',\n",
       " 'item_color_cat',\n",
       " 'item_size_cat',\n",
       " 'monthOrdered',\n",
       " 'itemID']"
      ]
     },
     "execution_count": 4,
     "metadata": {},
     "output_type": "execute_result"
    }
   ],
   "source": [
    "orders = catalog.load(\"orders_full\")\n",
    "orders[\"order_month\"] = pd.to_datetime(orders_full[\"orderDate\"]).dt.month\n",
    "orders[\"order_year\"] = pd.to_datetime(orders_full[\"orderDate\"]).dt.year\n",
    "orders_features = catalog.load(\"orders_features\")\n",
    "orders[\"basketID\"] = orders[\"customerID\"].astype(str) + orders[\"orderDate\"].astype(str)\n",
    "train = orders[orders[\"val_set\"]==0]\n",
    "test = orders[orders[\"val_set\"]==1]\n",
    "# orders_features[\"basketID\"] = orders_features[\"customerID\"].astype(str) + orders_features[\"orderDate\"].astype(str)\n",
    "parameters = catalog.load(\"parameters\")\n",
    "#train = orders_features[orders_features[\"val_set\"]==0]\n",
    "#test = orders_features[orders_features[\"val_set\"]==1]\n",
    "# catboosted_cols = pd.Series(cols[\"cat_catboost\"])+\"Catboost\"\n",
    "# orders_features.loc[:, catboosted_cols] = orders_features[catboosted_cols]\n",
    "output_col = parameters[\"coldict\"][\"output_col\"]\n",
    "coldict = parameters['coldict']\n",
    "coldict['cat_catboost']"
   ]
  },
  {
   "cell_type": "markdown",
   "id": "b534d34f",
   "metadata": {},
   "source": [
    "**plots for no_arts in comparison to return shipments**"
   ]
  },
  {
   "cell_type": "code",
   "execution_count": 131,
   "id": "aebf6092",
   "metadata": {},
   "outputs": [],
   "source": [
    "# orders_features.groupby(\"basketNArts\")[\"returnShipment\"].mean().sort_index().plot()\n",
    "# orders_features.groupby(\"basketNArts\")[\"returnShipment\"].mean().sort_index()\n",
    "# orders_features.groupby(\"basketNArts\")[\"returnShipment\"].size().sort_index().cumsum()/orders_features.shape[0]"
   ]
  },
  {
   "cell_type": "markdown",
   "id": "171cfb23",
   "metadata": {},
   "source": [
    "### check ret_ps from data: test vs. train\n",
    "1. single-article vs. multi-article orders\n",
    "2. ret_p imputed vs. non-imputed orders"
   ]
  },
  {
   "cell_type": "code",
   "execution_count": 5,
   "id": "e0631c87",
   "metadata": {},
   "outputs": [
    {
     "name": "stdout",
     "output_type": "stream",
     "text": [
      "train 0.3255756497677636 0.4969793835263455 \n",
      " test 0.3317452357071214 0.5143415057496203\n"
     ]
    }
   ],
   "source": [
    "# single-basket\n",
    "print(\"train\",\n",
    "orders_features[(orders_features[\"basketNArts\"]==1)&\n",
    "               (orders_features[\"val_set\"]==0)][output_col].mean(),\n",
    "orders_features[(orders_features[\"basketNArts\"]>1)&\n",
    "               (orders_features[\"val_set\"]==0)][output_col].mean(),\n",
    "      \"\\n test\",\n",
    "orders_features[(orders_features[\"basketNArts\"]==1)&\n",
    "               (orders_features[\"val_set\"]==1)][output_col].mean(),\n",
    "orders_features[(orders_features[\"basketNArts\"]>1)&\n",
    "               (orders_features[\"val_set\"]==1)][output_col].mean()\n",
    ")\n",
    "# fast 2% mehr Unterschied in Multi-basket"
   ]
  },
  {
   "cell_type": "code",
   "execution_count": 6,
   "id": "7bdc57ea",
   "metadata": {},
   "outputs": [
    {
     "name": "stdout",
     "output_type": "stream",
     "text": [
      "train 0.410765615198075 0.5030469388955113 \n",
      " test 0.43738247461451674 0.5166320166320166\n"
     ]
    }
   ],
   "source": [
    "# imputed mean ret_p vs. non-imputed\n",
    "print(\"train\",\n",
    "orders_features[(orders_features[\"min_5_top_5_sqrt_w_conf_Imp\"]==1)&\n",
    "               (orders_features[\"val_set\"]==0)][output_col].mean(),\n",
    "orders_features[(orders_features[\"min_5_top_5_sqrt_w_conf_Imp\"]!=1)&\n",
    "               (orders_features[\"val_set\"]==0)][output_col].mean(),\n",
    "      \"\\n test\",\n",
    "orders_features[(orders_features[\"min_5_top_5_sqrt_w_conf_Imp\"]==1)&\n",
    "               (orders_features[\"val_set\"]==1)][output_col].mean(),\n",
    "orders_features[(orders_features[\"min_5_top_5_sqrt_w_conf_Imp\"]!=1)&\n",
    "               (orders_features[\"val_set\"]==1)][output_col].mean()\n",
    ")"
   ]
  },
  {
   "cell_type": "markdown",
   "id": "71fced1f",
   "metadata": {},
   "source": [
    "#### Non-imputed ret_p sorted by lift and conf"
   ]
  },
  {
   "cell_type": "code",
   "execution_count": 7,
   "id": "bcf948cd",
   "metadata": {},
   "outputs": [
    {
     "name": "stdout",
     "output_type": "stream",
     "text": [
      "train_no_rets 0.4679824144287679 0.5391884884846062 \n",
      " test_no_rets 0.49462302668362834 0.5472992986046764\n"
     ]
    }
   ],
   "source": [
    "i = 0    \n",
    "print(\"train_no_rets\",\n",
    "orders_features[(orders_features[\"min_5_top_5_sqrt_w_lift_Imp\"]==0)&\n",
    "               (orders_features[\"val_set\"]==0) &\n",
    "               (orders_features[output_col]==i)]['min_5_top_5_sqrt_w_lift'].mean(),    \n",
    "orders_features[(orders_features[\"min_5_top_5_sqrt_w_lift_Imp\"]==0)&\n",
    "               (orders_features[\"val_set\"]==0) &\n",
    "               (orders_features[output_col]==i+1)]['min_5_top_5_sqrt_w_lift'].mean(),\n",
    "\"\\n test_no_rets\",\n",
    "orders_features[(orders_features[\"min_5_top_5_sqrt_w_lift_Imp\"]==0)&\n",
    "               (orders_features[\"val_set\"]==1) &\n",
    "               (orders_features[output_col]==i)]['min_5_top_5_sqrt_w_lift'].mean(),\n",
    "orders_features[(orders_features[\"min_5_top_5_sqrt_w_lift_Imp\"]==0)&\n",
    "               (orders_features[\"val_set\"]==1) &\n",
    "               (orders_features[output_col]==i+1)]['min_5_top_5_sqrt_w_lift'].mean())\n",
    "# no rets diff: 2,8; rets diff: .8%\n",
    "# no_ret -> ret"
   ]
  },
  {
   "cell_type": "code",
   "execution_count": 35,
   "id": "e88daf2b",
   "metadata": {},
   "outputs": [
    {
     "name": "stdout",
     "output_type": "stream",
     "text": [
      "train_no_rets 0.5030469388955113 0.5030469388955113 \n",
      " test_no_rets 0.5166320166320166 0.5166320166320166\n"
     ]
    }
   ],
   "source": [
    "i = 0    \n",
    "print(\"train_no_rets\",\n",
    "orders_features[(orders_features[\"min_5_top_5_sqrt_w_lift_Imp\"]==0)&\n",
    "               (orders_features[\"val_set\"]==0)][output_col].mean(),    \n",
    "orders_features[(orders_features[\"min_5_top_5_sqrt_w_lift_Imp\"]==0)&\n",
    "               (orders_features[\"val_set\"]==0)][output_col].mean(),\n",
    "\"\\n test_no_rets\",\n",
    "orders_features[(orders_features[\"min_5_top_5_sqrt_w_lift_Imp\"]==0)&\n",
    "               (orders_features[\"val_set\"]==1)][output_col].mean(),\n",
    "orders_features[(orders_features[\"min_5_top_5_sqrt_w_lift_Imp\"]==0)&\n",
    "               (orders_features[\"val_set\"]==1)][output_col].mean())\n",
    "# no rets diff: 2,8; rets diff: .8%\n",
    "# no_ret -> ret"
   ]
  },
  {
   "cell_type": "code",
   "execution_count": 9,
   "id": "300a5f12",
   "metadata": {},
   "outputs": [
    {
     "name": "stdout",
     "output_type": "stream",
     "text": [
      "train_no_rets 0.4669398372259073 0.5382890366105384 \n",
      " test_no_rets 0.49416179974181296 0.5467981679456653\n"
     ]
    }
   ],
   "source": [
    "i = 0    \n",
    "print(\"train_no_rets\",\n",
    "orders_features[(orders_features[\"min_5_top_5_sqrt_w_conf_Imp\"]==0)&\n",
    "               (orders_features[\"val_set\"]==0) &\n",
    "               (orders_features[output_col]==i)][output_col].mean(),\n",
    "    \n",
    "orders_features[(orders_features[\"min_5_top_5_sqrt_w_conf_Imp\"]==0)&\n",
    "               (orders_features[\"val_set\"]==0) &\n",
    "               (orders_features[output_col]==i+1)]['min_5_top_5_sqrt_w_conf'].mean(),\n",
    "\"\\n test_no_rets\",\n",
    "orders_features[(orders_features[\"min_5_top_5_sqrt_w_conf_Imp\"]==0)&\n",
    "               (orders_features[\"val_set\"]==1) &\n",
    "               (orders_features[output_col]==i)]['min_5_top_5_sqrt_w_conf'].mean(),\n",
    "\n",
    "orders_features[(orders_features[\"min_5_top_5_sqrt_w_conf_Imp\"]==0)&\n",
    "               (orders_features[\"val_set\"]==1) &\n",
    "               (orders_features[output_col]==i+1)]['min_5_top_5_sqrt_w_conf'].mean())"
   ]
  },
  {
   "cell_type": "markdown",
   "id": "5659c356",
   "metadata": {},
   "source": [
    "### Data check\n",
    "* check for imputed values\n",
    "* check why some ret_p values are >5"
   ]
  },
  {
   "cell_type": "code",
   "execution_count": 166,
   "id": "5da6ca82",
   "metadata": {},
   "outputs": [
    {
     "name": "stdout",
     "output_type": "stream",
     "text": [
      "2022-02-11 14:56:39,815 - kedro.io.data_catalog - INFO - Loading data from `arts_ret_p` (PickleDataSet)...\n",
      "2022-02-11 14:56:39,824 - kedro.io.data_catalog - INFO - Loading data from `lookup_ret_perc_art` (PickleDataSet)...\n",
      "2022-02-11 14:56:39,825 - kedro.io.data_catalog - INFO - Loading data from `lookup_basket_ret_p` (PickleDataSet)...\n",
      "2022-02-11 14:56:39,922 - kedro.io.data_catalog - INFO - Loading data from `lookup_basket_occ` (PickleDataSet)...\n",
      "2022-02-11 14:56:40,366 - kedro.io.data_catalog - INFO - Loading data from `lookup_lift_arts` (PickleDataSet)...\n",
      "2022-02-11 14:56:40,475 - kedro.io.data_catalog - INFO - Loading data from `lookup_tot_ord` (PickleDataSet)...\n",
      "2022-02-11 14:56:40,476 - kedro.io.data_catalog - INFO - Loading data from `arts_used_ret_p` (PickleDataSet)...\n",
      "2022-02-11 14:56:40,484 - kedro.io.data_catalog - INFO - Loading data from `lookup_droped_ret_arts` (PickleDataSet)...\n"
     ]
    }
   ],
   "source": [
    "arts_ret_p = catalog.load(\"arts_ret_p\")\n",
    "lookup_ret_perc_art = catalog.load(\"lookup_ret_perc_art\")\n",
    "lookup_basket_ret_p = catalog.load(\"lookup_basket_ret_p\")\n",
    "lookup_basket_occ = catalog.load('lookup_basket_occ')\n",
    "lookup_lift_arts = catalog.load(\"lookup_lift_arts\")\n",
    "lookup_tot_ord = catalog.load(\"lookup_tot_ord\")\n",
    "arts_used_ret_p = catalog.load(\"arts_used_ret_p\")\n",
    "lookup_droped_ret_arts = catalog.load(\"lookup_droped_ret_arts\")"
   ]
  },
  {
   "cell_type": "markdown",
   "id": "969dca88",
   "metadata": {},
   "source": [
    "### imputed\n",
    "* solved problem: own article got shown wrongly"
   ]
  },
  {
   "cell_type": "code",
   "execution_count": 174,
   "id": "81050020",
   "metadata": {},
   "outputs": [],
   "source": [
    "len(lookup_droped_ret_arts[5])\n",
    "# grouped = orders.groupby(\"itemID\")[\"returnShipment\"].mean()\n",
    "# n_rets = grouped[grouped==0].index\n",
    "#orders_features[(orders_features[\"itemID\"].isin(lookup_droped_ret_arts[5]))\n",
    "#               & (orders_features[\"basketNArts\"]>1)]"
   ]
  },
  {
   "cell_type": "code",
   "execution_count": 175,
   "id": "fe358bf5",
   "metadata": {},
   "outputs": [],
   "source": [
    "# orders_features[(orders_features[\"min_5_top_5_sqrt_w_conf_Imp\"]==1)& (orders_features[\"itemID\"].isin(lookup_droped_ret_arts[5]))]"
   ]
  },
  {
   "cell_type": "code",
   "execution_count": 164,
   "id": "d1d70e0b",
   "metadata": {},
   "outputs": [
    {
     "data": {
      "text/plain": [
       "45877"
      ]
     },
     "execution_count": 164,
     "metadata": {},
     "output_type": "execute_result"
    }
   ],
   "source": [
    "# orders[orders[\"itemID\"].isin(n_rets)]\n",
    "(orders_features[\"min_5_top_5_sqrt_w_conf_Imp\"]==1).sum()"
   ]
  },
  {
   "cell_type": "code",
   "execution_count": 173,
   "id": "1885fe15",
   "metadata": {},
   "outputs": [
    {
     "data": {
      "text/plain": [
       "688"
      ]
     },
     "execution_count": 173,
     "metadata": {},
     "output_type": "execute_result"
    }
   ],
   "source": [
    "45877 - 44464 - 725 "
   ]
  },
  {
   "cell_type": "markdown",
   "id": "047b74c8",
   "metadata": {},
   "source": [
    "#### values > 1\n",
    "* Problem: same article multiple times in same basket"
   ]
  },
  {
   "cell_type": "code",
   "execution_count": null,
   "id": "29786d06",
   "metadata": {},
   "outputs": [],
   "source": [
    "wrong_retp = orders_features[orders_features['min_5_top_5_sqrt_w_conf']>1]\n",
    "wrong_retp"
   ]
  },
  {
   "cell_type": "code",
   "execution_count": 178,
   "id": "9a8b5d00",
   "metadata": {},
   "outputs": [
    {
     "data": {
      "text/plain": [
       "'over1_index = orders_features[orders_features[\\'min_5_top_5_sqrt_w_conf\\']>1].index\\nfor index in over1_index:\\n    print(index)\\n    order_id = orders.loc[index][\"basketID\"]\\n    artnr = orders.loc[index][\"itemID\"]\\n    if any(orders[orders[\"basketID\"]==order_id][\"itemID\"].duplicated()):\\n        print(\"index duplicated\")\\n        if any(orders[(orders[\"basketID\"]==order_id)&(orders[\"itemID\"]==artnr)][\"itemID\"].duplicated()):\\n            print(\"art\")'"
      ]
     },
     "execution_count": 178,
     "metadata": {},
     "output_type": "execute_result"
    }
   ],
   "source": [
    "# all values in train data\n",
    "\"\"\"over1_index = orders_features[orders_features['min_5_top_5_sqrt_w_conf']>1].index\n",
    "for index in over1_index:\n",
    "    print(index)\n",
    "    order_id = orders.loc[index][\"basketID\"]\n",
    "    artnr = orders.loc[index][\"itemID\"]\n",
    "    if any(orders[orders[\"basketID\"]==order_id][\"itemID\"].duplicated()):\n",
    "        print(\"index duplicated\")\n",
    "        if any(orders[(orders[\"basketID\"]==order_id)&(orders[\"itemID\"]==artnr)][\"itemID\"].duplicated()):\n",
    "            print(\"art\")\"\"\""
   ]
  },
  {
   "cell_type": "code",
   "execution_count": 396,
   "id": "61df3be6",
   "metadata": {},
   "outputs": [
    {
     "data": {
      "text/plain": [
       "531027"
      ]
     },
     "execution_count": 396,
     "metadata": {},
     "output_type": "execute_result"
    }
   ],
   "source": [
    "orders_origin = orders.groupby([\"basketID\", \"itemID\"]).size().reset_index()\n",
    "orders_origin[orders_origin[0]>1]\n",
    "# sum of transactions with 2/ >3 same articles in basket\n",
    "orders_origin[orders_origin[0]==2][0].sum()\n",
    "orders_origin[orders_origin[0]>2][0].sum()\n",
    "51253/orders.shape[0]\n",
    "426221 - 81591 +135144+51253 # \n",
    "(135144+51253)/orders.shape[0]"
   ]
  },
  {
   "cell_type": "code",
   "execution_count": 403,
   "id": "f52f34d8",
   "metadata": {},
   "outputs": [
    {
     "data": {
      "text/plain": [
       "0.5367903865506423"
      ]
     },
     "execution_count": 403,
     "metadata": {},
     "output_type": "execute_result"
    }
   ],
   "source": [
    "\"\"\"dual_rets = orders_origin[orders_origin[0]==2].apply(lambda x: orders[(orders[\"basketID\"]==x[\"basketID\"])&\n",
    "                                                         (orders[\"itemID\"]==x[\"itemID\"])][ret_col].sum()/2, axis=1)\n",
    "dual_rets.mean()\"\"\"\n",
    "# 0.5367903865506423"
   ]
  },
  {
   "cell_type": "code",
   "execution_count": 357,
   "id": "5b10bec5",
   "metadata": {},
   "outputs": [
    {
     "data": {
      "text/plain": [
       "0.48830894072441255"
      ]
     },
     "execution_count": 357,
     "metadata": {},
     "output_type": "execute_result"
    }
   ],
   "source": [
    "\"\"\"multi_rets = orders_origin[orders_origin[0]>2].apply(lambda x: orders[(orders[\"basketID\"]==x[\"basketID\"])&\n",
    "                                                         (orders[\"itemID\"]==x[\"itemID\"])][ret_col].sum()/x[0], axis=1)\n",
    "multi_rets.mean()\"\"\"\n",
    "# 0.48830894072441255"
   ]
  },
  {
   "cell_type": "markdown",
   "id": "77cfce4c",
   "metadata": {},
   "source": [
    "### problem: count multi-arts in basket\n",
    "* lookup dict creation\n",
    "* Code: get_ret_perc_train lookup"
   ]
  },
  {
   "cell_type": "code",
   "execution_count": 367,
   "id": "3441bf74",
   "metadata": {},
   "outputs": [],
   "source": [
    "multi_arts = orders[orders[\"basketID\"].duplicated(keep=False)]"
   ]
  },
  {
   "cell_type": "code",
   "execution_count": 368,
   "id": "5ed6d61e",
   "metadata": {},
   "outputs": [],
   "source": [
    "ret_col= parameters['ret_col']\n",
    "ordnr_col= parameters['ordnr_col']\n",
    "artnr_col= parameters['artnr_col']"
   ]
  },
  {
   "cell_type": "code",
   "execution_count": 379,
   "id": "fe72184a",
   "metadata": {},
   "outputs": [],
   "source": [
    "multi_arts = multi_arts[[artnr_col, ordnr_col, ret_col]]\n",
    "\n",
    "# 1706 transactions of non- retarts\n",
    "ret_arts = multi_arts[multi_arts[ret_col]==1][artnr_col].unique()\n",
    "\n",
    "art_df = multi_arts[multi_arts[artnr_col]==29][[ordnr_col, ret_col]] # has duplicates\n",
    "ret_orders = art_df[art_df[ret_col]>=1].drop_duplicates()[ordnr_col]\n",
    "basket_df = multi_arts[multi_arts[ordnr_col].isin(art_df[ordnr_col])]\n",
    "ret_incides = basket_df[basket_df[ordnr_col].isin(ret_orders)].index\n",
    "basket_df.loc[ret_incides, ret_col] = 1\n",
    "basket_df = basket_df.drop(ret_orders.index)\n",
    "\n",
    "basket_grouped = basket_df.groupby(artnr_col).size()\n",
    "arts_basket_occ = basket_grouped[basket_grouped>=5]\n",
    "subdf[(subdf[\"itemID\"]==29)&(subdf[\"returnShipment\"]==0)]"
   ]
  },
  {
   "cell_type": "markdown",
   "id": "73d4eab2",
   "metadata": {},
   "source": [
    "#### get_ret_perc_train lookup"
   ]
  },
  {
   "cell_type": "code",
   "execution_count": 401,
   "id": "943363a0",
   "metadata": {},
   "outputs": [],
   "source": [
    "bestnr = \"26002012-04-04\"\n",
    "ret_ind = 0\n",
    "data = train[[\"itemID\", \"basketID\", \"returnShipment\"]]\n",
    "ret_p_art = lookup_basket_ret_p[5][29]\n",
    "occ_arts = lookup_basket_occ[5][29]\n",
    "sort_arts = lookup_lift_arts[5][29]\n",
    "top_f = 5\n",
    "weights = \"sqrt_w\"\n",
    "# problem for multi-variants on arts\n",
    "    # with no return"
   ]
  },
  {
   "cell_type": "code",
   "execution_count": 284,
   "id": "879c256f",
   "metadata": {},
   "outputs": [],
   "source": [
    "# art_df[art_df[\"basketID\"].isin(ret_orders)] # has 123 entries\n",
    "# ret_orders = art_df[art_df[ret_col]>=1][ordnr_col] # has 119 entries\n",
    "ret_incides = basket_df[basket_df[ordnr_col].isin(ret_orders)].index"
   ]
  },
  {
   "cell_type": "code",
   "execution_count": 402,
   "id": "d3478a9e",
   "metadata": {},
   "outputs": [
    {
     "data": {
      "text/plain": [
       "itemID\n",
       "155    155\n",
       "213    213\n",
       "214    214\n",
       "29      29\n",
       "29      29\n",
       "Name: itemID, dtype: int64"
      ]
     },
     "execution_count": 402,
     "metadata": {},
     "output_type": "execute_result"
    }
   ],
   "source": [
    "basket_arts = data[(data.iloc[:, 1] == bestnr) &    # iloc[:,1] = Column orderID -> same order arts\n",
    "         (data.iloc[:, 0].isin(ret_p_art.index))].iloc[:, 0]     # i\n",
    "sorted_arts = sort_arts.loc[basket_arts].sort_values().index.to_series()\n",
    "sorted_arts"
   ]
  },
  {
   "cell_type": "code",
   "execution_count": 406,
   "id": "0d807c5e",
   "metadata": {},
   "outputs": [],
   "source": [
    "# (ret_p_art.loc[sorted_arts] * occ_basket)/(occ_basket-1)\n",
    "ret_p_basket = ret_p_art.loc[sorted_arts]\n",
    "occ_basket = occ_arts.loc[sorted_arts]\n",
    "len(orders_features[orders_features[\"min_5_top_5_sqrt_w_conf\"]>1][\"returnShipment\"])\n",
    " # more nas for lift"
   ]
  },
  {
   "cell_type": "code",
   "execution_count": 188,
   "id": "1d955397",
   "metadata": {},
   "outputs": [
    {
     "data": {
      "text/plain": [
       "25"
      ]
     },
     "execution_count": 188,
     "metadata": {},
     "output_type": "execute_result"
    }
   ],
   "source": [
    "len(orders_features[orders_features[\"min_5_top_5_sqrt_w_lift\"]>1][\"returnShipment\"])"
   ]
  },
  {
   "cell_type": "code",
   "execution_count": null,
   "id": "70d2ba2b",
   "metadata": {},
   "outputs": [],
   "source": [
    "def get_ret_perc_train(bestnr, ret_ind, data, ret_p_art, occ_arts, sort_arts, top_f, weights):\n",
    "    # sort arts: use df with lift if lift, else no_occurances\n",
    "    # function init: pick all articles from basket \n",
    "    basket_arts = data[(data.iloc[:, 1] == bestnr) &    # iloc[:,1] = Column orderID -> same order arts\n",
    "             (data.iloc[:, 0].isin(ret_p_art.index))].iloc[:, 0]     # iloc[:,0] = Column article -> has entry in ret_p_art\n",
    "    if len(basket_arts)==0:\n",
    "        return np.nan, 0\n",
    "    else: \n",
    "        # sorting specified by series in input (from lookup_lift_arts or lookup_basket_occ)\n",
    "        sorted_arts = sort_arts.loc[basket_arts].sort_values().index.to_series()\n",
    "\n",
    "        if top_f:\n",
    "            if type(top_f) == str: # for values like var_5 -> variable 5 or if len(arts)>5 -> take half of the most frq\n",
    "                n_min = [int(s) for s in top_f if s.isdigit()][0]\n",
    "                top_f = max(n_min, round(len(sorted_arts)/2))\n",
    "            sorted_arts = sorted_arts.iloc[-top_f:]\n",
    "\n",
    "        # adapt for training data (fix ret_p) to prevent overfitting\n",
    "        ret_p_basket = ret_p_art.loc[sorted_arts]\n",
    "        occ_basket = occ_arts.loc[sorted_arts]\n",
    "        ret_p_basket = (ret_p_basket*occ_basket-ret_ind   # numerator = no returns of article\n",
    "                                )/(occ_basket-1)  # denominator = current order\n",
    "\n",
    "        if weights: # if no weigths: only use mean of pcts\n",
    "            weight = range(1, sorted_arts.shape[0]+1)\n",
    "            if weights == \"sqrt_w\":\n",
    "                weight = np.sqrt(weight)\n",
    "            ret_pcts = (ret_p_basket*weight).sum()/sum(weight)\n",
    "        else:\n",
    "            ret_pcts = ret_p_basket.mean()\n",
    "\n",
    "        return ret_pcts, occ_basket.sum()"
   ]
  },
  {
   "cell_type": "code",
   "execution_count": 119,
   "id": "d8d124d4",
   "metadata": {},
   "outputs": [],
   "source": [
    "# orders_features[orders_features]"
   ]
  },
  {
   "cell_type": "code",
   "execution_count": 15,
   "id": "114d824b",
   "metadata": {},
   "outputs": [
    {
     "data": {
      "text/plain": [
       "117439"
      ]
     },
     "execution_count": 15,
     "metadata": {},
     "output_type": "execute_result"
    }
   ],
   "source": [
    "orders_features[\"min_5_top_5_sqrt_w_conf_Imp\"].sum()"
   ]
  },
  {
   "cell_type": "code",
   "execution_count": 13,
   "id": "fcf3c0a4",
   "metadata": {},
   "outputs": [
    {
     "data": {
      "text/plain": [
       "1.2"
      ]
     },
     "execution_count": 13,
     "metadata": {},
     "output_type": "execute_result"
    }
   ],
   "source": [
    "# orders_features.columns\n",
    "max(orders_features[\"min_5_top_5_sqrt_w_conf\"])"
   ]
  },
  {
   "cell_type": "code",
   "execution_count": 41,
   "id": "ffb6fbef",
   "metadata": {},
   "outputs": [],
   "source": [
    "# orders.loc[3505]\n",
    "# orders.loc[292247]"
   ]
  },
  {
   "cell_type": "code",
   "execution_count": 39,
   "id": "6d9d6dd3",
   "metadata": {},
   "outputs": [],
   "source": [
    "# (train[~train[\"itemID\"].isin(test[\"itemID\"])][\"itemID\"].value_counts()>0).sum()\n",
    "# orders_features[orders_features[\"min_5_top_5_sqrt_w_conf\"]>1]"
   ]
  },
  {
   "cell_type": "code",
   "execution_count": 27,
   "id": "2e29bb69",
   "metadata": {},
   "outputs": [
    {
     "data": {
      "text/plain": [
       "3002"
      ]
     },
     "execution_count": 27,
     "metadata": {},
     "output_type": "execute_result"
    }
   ],
   "source": [
    "train[\"itemID\"].nunique()"
   ]
  },
  {
   "cell_type": "code",
   "execution_count": 26,
   "id": "96d0eea4",
   "metadata": {},
   "outputs": [
    {
     "data": {
      "text/plain": [
       "1283"
      ]
     },
     "execution_count": 26,
     "metadata": {},
     "output_type": "execute_result"
    }
   ],
   "source": [
    "test[\"itemID\"].nunique()"
   ]
  },
  {
   "cell_type": "code",
   "execution_count": 33,
   "id": "1c9986eb",
   "metadata": {},
   "outputs": [
    {
     "name": "stdout",
     "output_type": "stream",
     "text": [
      "0 manufacturerID\n",
      "1 salutation\n",
      "2 state\n",
      "3 item_color_cat\n",
      "4 item_size_cat\n",
      "5 monthOrdered\n",
      "6 itemID\n"
     ]
    }
   ],
   "source": [
    "for i, col in enumerate(cols['cat_catboost']):\n",
    "    print(i, col)"
   ]
  },
  {
   "cell_type": "markdown",
   "id": "1b16d833",
   "metadata": {},
   "source": [
    "## Catboost training (using created features + not using)"
   ]
  },
  {
   "cell_type": "code",
   "execution_count": 43,
   "id": "ac3155b6",
   "metadata": {},
   "outputs": [
    {
     "name": "stdout",
     "output_type": "stream",
     "text": [
      "2022-02-12 15:06:51,171 - kedro.io.data_catalog - INFO - Loading data from `orders_features` (PickleDataSet)...\n",
      "2022-02-12 15:06:51,209 - kedro.io.data_catalog - INFO - Loading data from `parameters` (MemoryDataSet)...\n",
      "117439\n",
      "added\n",
      "F1_test: 0.6669 F1_train: 0.65 MCC_test: 0.2943 Recall_test: 0.7092 Prec_test: 0.6294 MCC_test_multiarts: 0.2876 F1_test_multiarts: 0.6819 Recall_test_multiarts: 0.7429 Prec_test_multiarts: 0.6301\n",
      "Index(['weekdayOrdered', 'weekdayReceived', 'weDelivery', 'accOldSys', 'color',\n",
      "       'size', 'userAgeImp', 'manufacturerID', 'salutation', 'state',\n",
      "       'item_color_cat', 'item_size_cat', 'monthOrdered',\n",
      "       'min_5_top_5_sqrt_w_lift_Imp', 'discount', 'basket_price',\n",
      "       'basketNArts', 'durationDelivery', 'accAgeAtOrder', 'UserAgeOrder',\n",
      "       'min_5_top_5_sqrt_w_lift'],\n",
      "      dtype='object')\n",
      "{'weekdayOrdered': 7.107467985335478, 'weekdayReceived': 17.195172736123652, 'weDelivery': 0.0, 'accOldSys': 0.2989772989769255, 'color': 0.0784513626532197, 'size': 1.5330085078437825, 'userAgeImp': 0.0, 'manufacturerID': 6.966422615053412, 'salutation': 0.4412727545200859, 'state': 0.11194561621259522, 'item_color_cat': 16.817749426039008, 'item_size_cat': 8.896707701605218, 'monthOrdered': 1.183186765754645, 'min_5_top_5_sqrt_w_lift_Imp': 2.057952419530822, 'discount': 0.334484231569069, 'basket_price': 21.792337396425516, 'basketNArts': 1.2372041690924835, 'durationDelivery': 6.36313281680198, 'accAgeAtOrder': 0.5186607832510535, 'UserAgeOrder': 1.414611557913176, 'min_5_top_5_sqrt_w_lift': 5.651253855297871}\n",
      "\n",
      "\n"
     ]
    }
   ],
   "source": [
    "orders_features = catalog.load(\"orders_features\")\n",
    "# orders = catalog.load(\"orders_full\")\n",
    "parameters = catalog.load(\"parameters\")\n",
    "train = orders_features[orders_features[\"val_set\"]==0]\n",
    "test = orders_features[orders_features[\"val_set\"]==1]\n",
    "negate_retp = True\n",
    "if negate_retp:\n",
    "    imp_ind = orders_features[orders_features['min_5_top_5_sqrt_w_lift_Imp']==1].index\n",
    "    orders_features.loc[imp_ind, \"min_5_top_5_sqrt_w_lift\"] = -1\n",
    "    print(orders_features[orders_features[\"min_5_top_5_sqrt_w_lift\"]==-1].shape[0])\n",
    "for add_ret_p in [True]: # False\n",
    "    cols = parameters[\"coldict\"]\n",
    "    cat_cols = cols['cat_pass']+cols['cat_catboost'][:6]\n",
    "    catboosted = (pd.Series(cols['cat_catboost'][6:]) + \"Catboost\").tolist()\n",
    "    cont_cols = cols['cont'] # + catboosted\n",
    "    if add_ret_p:\n",
    "        print(\"added\")\n",
    "        cat_cols +=  ['min_5_top_5_sqrt_w_lift_Imp']\n",
    "        cont_cols += ['min_5_top_5_sqrt_w_lift']\n",
    "    outpu_col = cols['output_col']\n",
    "\n",
    "    X_train = train[cat_cols+cont_cols]\n",
    "    y_train = train[outpu_col]\n",
    "    X_test_p = test[test[\"basketNArts\"]>1][cat_cols+cont_cols]\n",
    "    y_test_p = test[test[\"basketNArts\"]>1][outpu_col]\n",
    "    X_test = test[cat_cols+cont_cols]\n",
    "    y_test = test[outpu_col]\n",
    "    categorical_features_indices = np.array(range(0,len(cat_cols)))\n",
    "\n",
    "    train_pool = Pool(X_train, y_train, cat_features=categorical_features_indices)\n",
    "    validate_pool = Pool(X_test, y_test, cat_features=categorical_features_indices)\n",
    "\n",
    "    params = {\n",
    "        'iterations': 1000,\n",
    "        'learning_rate': 0.005,\n",
    "        'eval_metric': metrics.F1(),\n",
    "        'random_seed': 42,\n",
    "        'logging_level': 'Silent',\n",
    "        'use_best_model': True,\n",
    "        'depth': 10,\n",
    "        'allow_writing_files': False,\n",
    "        'od_type': 'Iter',  # https://catboost.ai/en/docs/features/overfitting-detector-desc#od_wait\n",
    "        'od_wait': 50,\n",
    "    }\n",
    "    model = CatBoostClassifier(**params)\n",
    "    model.fit(train_pool, eval_set=validate_pool)\n",
    "    y_pred = model.predict(X_test)\n",
    "    y_pred_p = model.predict(X_test_p)\n",
    "    print('F1_test: {:.4}'.format(\n",
    "        f1_score(y_test, y_pred)),\n",
    "          'F1_train: {:.4}'.format(\n",
    "        f1_score(y_train, model.predict(X_train))),\n",
    "         'MCC_test: {:.4}'.format(\n",
    "        matthews_corrcoef(y_test, y_pred)),\n",
    "          'Recall_test: {:.4}'.format(\n",
    "        recall_score(y_test, y_pred)),\n",
    "          'Prec_test: {:.4}'.format(\n",
    "        precision_score(y_test, y_pred)),\n",
    "          'MCC_test_multiarts: {:.4}'.format(\n",
    "        matthews_corrcoef(y_test_p, y_pred_p)),\n",
    "          'F1_test_multiarts: {:.4}'.format(\n",
    "        f1_score(y_test_p, y_pred_p)),\n",
    "          'Recall_test_multiarts: {:.4}'.format(\n",
    "        recall_score(y_test_p, y_pred_p)),\n",
    "         'Prec_test_multiarts: {:.4}'.format(\n",
    "        precision_score(y_test_p, y_pred_p)))\n",
    "    print(X_train.columns)\n",
    "    imp_dict = {}\n",
    "    feat_imp = model.get_feature_importance()\n",
    "    for i, entry in enumerate(X_train.columns.tolist()):\n",
    "        imp_dict[entry] = feat_imp[i]\n",
    "    print(imp_dict)\n",
    "    print(\"\\n\")"
   ]
  },
  {
   "cell_type": "markdown",
   "id": "76cb52eb",
   "metadata": {},
   "source": [
    "F1_test: 0.6663 F1_train: 0.6547 MCC_test: 0.2763 Recall_test: 0.7276 Prec_test: 0.6145 MCC_test_multiarts: 0.272 F1_test_multiarts: 0.6786 Recall_test_multiarts: 0.7485 Prec_test_multiarts: 0.6207\n",
    "Index(['weekdayOrdered', 'weekdayReceived', 'weDelivery', 'accOldSys', 'color',\n",
    "       'size', 'userAgeImp', 'manufacturerID', 'salutation', 'state',\n",
    "       'discount', 'basket_price', 'basketNArts', 'durationDelivery',\n",
    "       'accAgeAtOrder', 'UserAgeOrder', 'item_color_catCatboost',\n",
    "       'item_size_catCatboost', 'monthOrderedCatboost', 'itemIDCatboost'],\n",
    "      dtype='object')\n",
    "{'weekdayOrdered': 7.785037473298434, 'weekdayReceived': 20.91562459237241, 'weDelivery': 0.0, 'accOldSys': 0.0, 'color': 0.0, 'size': 0.0, 'userAgeImp': 0.0, 'manufacturerID': 0.0, 'salutation': 0.0, 'state': 0.0, 'discount': 0.7344126285195848, 'basket_price': 20.282720428204538, 'basketNArts': 2.739845492558018, 'durationDelivery': 3.1150894324060823, 'accAgeAtOrder': 0.0, 'UserAgeOrder': 0.0, 'item_color_catCatboost': 4.546012982523614, 'item_size_catCatboost': 39.88125697011731, 'monthOrderedCatboost': 0.0, 'itemIDCatboost': 0.0}\n",
    "\n",
    "\n",
    "added\n",
    "F1_test: 0.672 F1_train: 0.6377 MCC_test: 0.2959 Recall_test: 0.7256 Prec_test: 0.6259 MCC_test_multiarts: 0.2911 F1_test_multiarts: 0.6857 Recall_test_multiarts: 0.7534 Prec_test_multiarts: 0.6293\n",
    "{'weekdayOrdered': 6.0432872136628575, 'weekdayReceived': 14.056111304357628, 'weDelivery': 0.04382915578406688, 'accOldSys': 0.6872855946561911, 'color': 0.10140940999754865, 'size': 0.6295100879362566, 'userAgeImp': 0.0, 'manufacturerID': 1.0800540143285824, 'salutation': 0.5589790628646327, 'state': 0.2928061550647946, 'item_color_cat': 0.7363794010498242, 'item_size_cat': 0.0, 'monthOrdered': 1.8558962767811982, 'min_5_top_5_sqrt_w_lift_Imp': 2.612745147533874, 'discount': 0.7761642017951633, 'basket_price': 16.959253026071767, 'basketNArts': 3.5402049722338953, 'durationDelivery': 7.113492550822126, 'accAgeAtOrder': 0.5860725071122737, 'UserAgeOrder': 1.78714762863198, 'itemIDCatboost': 37.746591238624376, 'min_5_top_5_sqrt_w_lift': 2.792781050690829}"
   ]
  }
 ],
 "metadata": {
  "kernelspec": {
   "display_name": "DMCFeatures",
   "language": "python",
   "name": "python3"
  },
  "language_info": {
   "codemirror_mode": {
    "name": "ipython",
    "version": 3
   },
   "file_extension": ".py",
   "mimetype": "text/x-python",
   "name": "python",
   "nbconvert_exporter": "python",
   "pygments_lexer": "ipython3",
   "version": "3.8.0"
  }
 },
 "nbformat": 4,
 "nbformat_minor": 5
}
