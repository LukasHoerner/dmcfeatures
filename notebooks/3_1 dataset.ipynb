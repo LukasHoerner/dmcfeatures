{
 "cells": [
  {
   "cell_type": "code",
   "execution_count": 4,
   "id": "b07212a6",
   "metadata": {},
   "outputs": [],
   "source": [
    "import pandas as pd\n",
    "import numpy as np\n",
    "import matplotlib.pyplot as plt\n",
    "import matplotlib.ticker as mtick"
   ]
  },
  {
   "cell_type": "markdown",
   "id": "ff89abfc",
   "metadata": {},
   "source": [
    "## Code for Figures in chapter 3.1"
   ]
  },
  {
   "cell_type": "code",
   "execution_count": 5,
   "id": "43c2231c",
   "metadata": {},
   "outputs": [
    {
     "name": "stdout",
     "output_type": "stream",
     "text": [
      "2022-05-10 22:03:48,590 - kedro.io.data_catalog - INFO - Loading data from `orders_features` (PickleDataSet)...\n",
      "2022-05-10 22:03:49,876 - kedro.io.data_catalog - INFO - Loading data from `orders_train` (CSVDataSet)...\n",
      "2022-05-10 22:03:50,530 - kedro.io.data_catalog - INFO - Loading data from `orders_test` (CSVDataSet)...\n"
     ]
    }
   ],
   "source": [
    "orders_features = catalog.load(\"orders_features\")\n",
    "orders_train = catalog.load(\"orders_train\")\n",
    "orders_test = catalog.load(\"orders_test\")"
   ]
  },
  {
   "cell_type": "code",
   "execution_count": 6,
   "id": "c5368343",
   "metadata": {},
   "outputs": [
    {
     "data": {
      "text/plain": [
       "3011"
      ]
     },
     "execution_count": 6,
     "metadata": {},
     "output_type": "execute_result"
    }
   ],
   "source": [
    "orders_features['train_test'][\"itemID\"].nunique()"
   ]
  },
  {
   "cell_type": "code",
   "execution_count": 7,
   "id": "d94a148b",
   "metadata": {},
   "outputs": [
    {
     "data": {
      "text/html": [
       "<div>\n",
       "<style scoped>\n",
       "    .dataframe tbody tr th:only-of-type {\n",
       "        vertical-align: middle;\n",
       "    }\n",
       "\n",
       "    .dataframe tbody tr th {\n",
       "        vertical-align: top;\n",
       "    }\n",
       "\n",
       "    .dataframe thead th {\n",
       "        text-align: right;\n",
       "    }\n",
       "</style>\n",
       "<table border=\"1\" class=\"dataframe\">\n",
       "  <thead>\n",
       "    <tr style=\"text-align: right;\">\n",
       "      <th></th>\n",
       "      <th>orderItemID</th>\n",
       "      <th>orderDate</th>\n",
       "      <th>deliveryDate</th>\n",
       "      <th>itemID</th>\n",
       "      <th>size</th>\n",
       "      <th>color</th>\n",
       "      <th>manufacturerID</th>\n",
       "      <th>price</th>\n",
       "      <th>customerID</th>\n",
       "      <th>salutation</th>\n",
       "      <th>dateOfBirth</th>\n",
       "      <th>state</th>\n",
       "      <th>creationDate</th>\n",
       "      <th>returnShipment</th>\n",
       "    </tr>\n",
       "  </thead>\n",
       "  <tbody>\n",
       "    <tr>\n",
       "      <th>0</th>\n",
       "      <td>1</td>\n",
       "      <td>2012-04-01</td>\n",
       "      <td>2012-04-03</td>\n",
       "      <td>186</td>\n",
       "      <td>m</td>\n",
       "      <td>denim</td>\n",
       "      <td>25</td>\n",
       "      <td>69.90</td>\n",
       "      <td>794</td>\n",
       "      <td>Mrs</td>\n",
       "      <td>1965-01-06</td>\n",
       "      <td>Baden-Wuerttemberg</td>\n",
       "      <td>2011-04-25</td>\n",
       "      <td>0</td>\n",
       "    </tr>\n",
       "    <tr>\n",
       "      <th>1</th>\n",
       "      <td>2</td>\n",
       "      <td>2012-04-01</td>\n",
       "      <td>2012-04-03</td>\n",
       "      <td>71</td>\n",
       "      <td>9+</td>\n",
       "      <td>ocher</td>\n",
       "      <td>21</td>\n",
       "      <td>69.95</td>\n",
       "      <td>794</td>\n",
       "      <td>Mrs</td>\n",
       "      <td>1965-01-06</td>\n",
       "      <td>Baden-Wuerttemberg</td>\n",
       "      <td>2011-04-25</td>\n",
       "      <td>1</td>\n",
       "    </tr>\n",
       "    <tr>\n",
       "      <th>2</th>\n",
       "      <td>3</td>\n",
       "      <td>2012-04-01</td>\n",
       "      <td>2012-04-03</td>\n",
       "      <td>71</td>\n",
       "      <td>9+</td>\n",
       "      <td>curry</td>\n",
       "      <td>21</td>\n",
       "      <td>69.95</td>\n",
       "      <td>794</td>\n",
       "      <td>Mrs</td>\n",
       "      <td>1965-01-06</td>\n",
       "      <td>Baden-Wuerttemberg</td>\n",
       "      <td>2011-04-25</td>\n",
       "      <td>1</td>\n",
       "    </tr>\n",
       "    <tr>\n",
       "      <th>3</th>\n",
       "      <td>4</td>\n",
       "      <td>2012-04-02</td>\n",
       "      <td>?</td>\n",
       "      <td>22</td>\n",
       "      <td>m</td>\n",
       "      <td>green</td>\n",
       "      <td>14</td>\n",
       "      <td>39.90</td>\n",
       "      <td>808</td>\n",
       "      <td>Mrs</td>\n",
       "      <td>1959-11-09</td>\n",
       "      <td>Saxony</td>\n",
       "      <td>2012-01-04</td>\n",
       "      <td>0</td>\n",
       "    </tr>\n",
       "    <tr>\n",
       "      <th>4</th>\n",
       "      <td>5</td>\n",
       "      <td>2012-04-02</td>\n",
       "      <td>1990-12-31</td>\n",
       "      <td>151</td>\n",
       "      <td>39</td>\n",
       "      <td>black</td>\n",
       "      <td>53</td>\n",
       "      <td>29.90</td>\n",
       "      <td>825</td>\n",
       "      <td>Mrs</td>\n",
       "      <td>1964-07-11</td>\n",
       "      <td>Rhineland-Palatinate</td>\n",
       "      <td>2011-02-16</td>\n",
       "      <td>0</td>\n",
       "    </tr>\n",
       "    <tr>\n",
       "      <th>...</th>\n",
       "      <td>...</td>\n",
       "      <td>...</td>\n",
       "      <td>...</td>\n",
       "      <td>...</td>\n",
       "      <td>...</td>\n",
       "      <td>...</td>\n",
       "      <td>...</td>\n",
       "      <td>...</td>\n",
       "      <td>...</td>\n",
       "      <td>...</td>\n",
       "      <td>...</td>\n",
       "      <td>...</td>\n",
       "      <td>...</td>\n",
       "      <td>...</td>\n",
       "    </tr>\n",
       "    <tr>\n",
       "      <th>481087</th>\n",
       "      <td>481088</td>\n",
       "      <td>2013-03-31</td>\n",
       "      <td>2013-04-09</td>\n",
       "      <td>2561</td>\n",
       "      <td>39+</td>\n",
       "      <td>blue</td>\n",
       "      <td>1</td>\n",
       "      <td>139.90</td>\n",
       "      <td>7032</td>\n",
       "      <td>Mr</td>\n",
       "      <td>1962-12-17</td>\n",
       "      <td>Lower Saxony</td>\n",
       "      <td>2011-03-12</td>\n",
       "      <td>1</td>\n",
       "    </tr>\n",
       "    <tr>\n",
       "      <th>481088</th>\n",
       "      <td>481089</td>\n",
       "      <td>2013-03-31</td>\n",
       "      <td>2013-04-02</td>\n",
       "      <td>2669</td>\n",
       "      <td>39</td>\n",
       "      <td>grey</td>\n",
       "      <td>18</td>\n",
       "      <td>130.00</td>\n",
       "      <td>86610</td>\n",
       "      <td>Mrs</td>\n",
       "      <td>?</td>\n",
       "      <td>Berlin</td>\n",
       "      <td>2012-03-24</td>\n",
       "      <td>0</td>\n",
       "    </tr>\n",
       "    <tr>\n",
       "      <th>481089</th>\n",
       "      <td>481090</td>\n",
       "      <td>2013-03-31</td>\n",
       "      <td>1990-12-31</td>\n",
       "      <td>2458</td>\n",
       "      <td>XXL</td>\n",
       "      <td>black</td>\n",
       "      <td>5</td>\n",
       "      <td>99.90</td>\n",
       "      <td>86611</td>\n",
       "      <td>Mr</td>\n",
       "      <td>1973-05-16</td>\n",
       "      <td>Berlin</td>\n",
       "      <td>2013-03-31</td>\n",
       "      <td>0</td>\n",
       "    </tr>\n",
       "    <tr>\n",
       "      <th>481090</th>\n",
       "      <td>481091</td>\n",
       "      <td>2013-03-31</td>\n",
       "      <td>1990-12-31</td>\n",
       "      <td>2659</td>\n",
       "      <td>XXL</td>\n",
       "      <td>black</td>\n",
       "      <td>49</td>\n",
       "      <td>99.90</td>\n",
       "      <td>86611</td>\n",
       "      <td>Mr</td>\n",
       "      <td>1973-05-16</td>\n",
       "      <td>Berlin</td>\n",
       "      <td>2013-03-31</td>\n",
       "      <td>0</td>\n",
       "    </tr>\n",
       "    <tr>\n",
       "      <th>481091</th>\n",
       "      <td>481092</td>\n",
       "      <td>2013-03-31</td>\n",
       "      <td>1990-12-31</td>\n",
       "      <td>2375</td>\n",
       "      <td>XXL</td>\n",
       "      <td>red</td>\n",
       "      <td>49</td>\n",
       "      <td>119.90</td>\n",
       "      <td>86611</td>\n",
       "      <td>Mr</td>\n",
       "      <td>1973-05-16</td>\n",
       "      <td>Berlin</td>\n",
       "      <td>2013-03-31</td>\n",
       "      <td>0</td>\n",
       "    </tr>\n",
       "  </tbody>\n",
       "</table>\n",
       "<p>481092 rows × 14 columns</p>\n",
       "</div>"
      ],
      "text/plain": [
       "        orderItemID   orderDate deliveryDate  itemID size  color  \\\n",
       "0                 1  2012-04-01   2012-04-03     186    m  denim   \n",
       "1                 2  2012-04-01   2012-04-03      71   9+  ocher   \n",
       "2                 3  2012-04-01   2012-04-03      71   9+  curry   \n",
       "3                 4  2012-04-02            ?      22    m  green   \n",
       "4                 5  2012-04-02   1990-12-31     151   39  black   \n",
       "...             ...         ...          ...     ...  ...    ...   \n",
       "481087       481088  2013-03-31   2013-04-09    2561  39+   blue   \n",
       "481088       481089  2013-03-31   2013-04-02    2669   39   grey   \n",
       "481089       481090  2013-03-31   1990-12-31    2458  XXL  black   \n",
       "481090       481091  2013-03-31   1990-12-31    2659  XXL  black   \n",
       "481091       481092  2013-03-31   1990-12-31    2375  XXL    red   \n",
       "\n",
       "        manufacturerID   price  customerID salutation dateOfBirth  \\\n",
       "0                   25   69.90         794        Mrs  1965-01-06   \n",
       "1                   21   69.95         794        Mrs  1965-01-06   \n",
       "2                   21   69.95         794        Mrs  1965-01-06   \n",
       "3                   14   39.90         808        Mrs  1959-11-09   \n",
       "4                   53   29.90         825        Mrs  1964-07-11   \n",
       "...                ...     ...         ...        ...         ...   \n",
       "481087               1  139.90        7032         Mr  1962-12-17   \n",
       "481088              18  130.00       86610        Mrs           ?   \n",
       "481089               5   99.90       86611         Mr  1973-05-16   \n",
       "481090              49   99.90       86611         Mr  1973-05-16   \n",
       "481091              49  119.90       86611         Mr  1973-05-16   \n",
       "\n",
       "                       state creationDate  returnShipment  \n",
       "0         Baden-Wuerttemberg   2011-04-25               0  \n",
       "1         Baden-Wuerttemberg   2011-04-25               1  \n",
       "2         Baden-Wuerttemberg   2011-04-25               1  \n",
       "3                     Saxony   2012-01-04               0  \n",
       "4       Rhineland-Palatinate   2011-02-16               0  \n",
       "...                      ...          ...             ...  \n",
       "481087          Lower Saxony   2011-03-12               1  \n",
       "481088                Berlin   2012-03-24               0  \n",
       "481089                Berlin   2013-03-31               0  \n",
       "481090                Berlin   2013-03-31               0  \n",
       "481091                Berlin   2013-03-31               0  \n",
       "\n",
       "[481092 rows x 14 columns]"
      ]
     },
     "execution_count": 7,
     "metadata": {},
     "output_type": "execute_result"
    }
   ],
   "source": [
    "orders_train"
   ]
  },
  {
   "cell_type": "code",
   "execution_count": 8,
   "id": "a1609064",
   "metadata": {},
   "outputs": [
    {
     "name": "stdout",
     "output_type": "stream",
     "text": [
      "2022-05-10 22:03:50,620 - kedro.io.data_catalog - INFO - Loading data from `orders_features` (PickleDataSet)...\n",
      "2022-05-10 22:03:51,538 - kedro.io.data_catalog - INFO - Loading data from `orders_train` (CSVDataSet)...\n",
      "2022-05-10 22:03:52,155 - kedro.io.data_catalog - INFO - Loading data from `orders_test` (CSVDataSet)...\n"
     ]
    }
   ],
   "source": [
    "orders_features = catalog.load(\"orders_features\")\n",
    "orders_train = catalog.load(\"orders_train\")\n",
    "orders_test = catalog.load(\"orders_test\")\n",
    "\n",
    "ret_basketsize = orders_features[\"train_test\"].groupby(\"basketNArts\")[\"returnShipment\"].mean()\n",
    "\n",
    "count_basketsize =  orders_features[\"train_test\"][\"basketNArts\"].value_counts().sort_index()\n",
    "\n",
    "no_arts = np.sort(orders_features[\"train_test\"][\"basketNArts\"].unique())"
   ]
  },
  {
   "cell_type": "code",
   "execution_count": 9,
   "id": "5ee4866e",
   "metadata": {},
   "outputs": [
    {
     "data": {
      "text/plain": [
       "Index(['weekdayOrdered', 'weekdayReceived', 'weDelivery', 'accOldSys', 'color',\n",
       "       'size', 'userAgeImp', 'customerID', 'manufacturerID', 'salutation',\n",
       "       'state', 'monthOrdered', 'itemID', 'price', 'discount', 'basket_price',\n",
       "       'basketNArts', 'durationDelivery', 'accAgeAtOrder', 'UserAgeOrder',\n",
       "       'returnShipment', 'val_set', 'budgets', 'customerIDCatboost',\n",
       "       'manufacturerIDCatboost'],\n",
       "      dtype='object')"
      ]
     },
     "execution_count": 9,
     "metadata": {},
     "output_type": "execute_result"
    }
   ],
   "source": [
    "orders_features[\"train_test\"].columns[:25]"
   ]
  },
  {
   "cell_type": "code",
   "execution_count": 10,
   "id": "948fc812",
   "metadata": {},
   "outputs": [
    {
     "data": {
      "text/plain": [
       "804"
      ]
     },
     "execution_count": 10,
     "metadata": {},
     "output_type": "execute_result"
    }
   ],
   "source": [
    "max(orders_features[\"train_test\"][\"accAgeAtOrder\"])"
   ]
  },
  {
   "cell_type": "code",
   "execution_count": 12,
   "id": "42d91042",
   "metadata": {},
   "outputs": [],
   "source": [
    "# test = orders[orders[\"val_set\"]==1]\n",
    "# train = orders[orders[\"val_set\"]==0]\n"
   ]
  },
  {
   "cell_type": "code",
   "execution_count": null,
   "id": "58194876",
   "metadata": {},
   "outputs": [],
   "source": [
    "non_match_item = train[~train[\"itemID\"].isin(test[\"itemID\"])][\"itemID\"].unique()"
   ]
  },
  {
   "cell_type": "code",
   "execution_count": null,
   "id": "b7615d51",
   "metadata": {},
   "outputs": [],
   "source": [
    "counts = orders[orders[\"itemID\"].isin(non_match_item)][\"itemID\"].value_counts()"
   ]
  },
  {
   "cell_type": "code",
   "execution_count": null,
   "id": "7890107c",
   "metadata": {},
   "outputs": [],
   "source": [
    "counts.sum()\n",
    "171224/train.shape[0]"
   ]
  },
  {
   "cell_type": "code",
   "execution_count": null,
   "id": "a4f6fc3b",
   "metadata": {},
   "outputs": [],
   "source": [
    "counts[counts>100].sum()"
   ]
  },
  {
   "cell_type": "code",
   "execution_count": 13,
   "id": "5c98ddbf",
   "metadata": {},
   "outputs": [
    {
     "ename": "NameError",
     "evalue": "name 'train' is not defined",
     "output_type": "error",
     "traceback": [
      "\u001b[0;31m---------------------------------------------------------------------------\u001b[0m",
      "\u001b[0;31mNameError\u001b[0m                                 Traceback (most recent call last)",
      "\u001b[0;32m/tmp/ipykernel_16878/2336359967.py\u001b[0m in \u001b[0;36m<module>\u001b[0;34m\u001b[0m\n\u001b[0;32m----> 1\u001b[0;31m \u001b[0;36m140083\u001b[0m\u001b[0;34m/\u001b[0m\u001b[0mtrain\u001b[0m\u001b[0;34m.\u001b[0m\u001b[0mshape\u001b[0m\u001b[0;34m[\u001b[0m\u001b[0;36m0\u001b[0m\u001b[0;34m]\u001b[0m\u001b[0;34m\u001b[0m\u001b[0;34m\u001b[0m\u001b[0m\n\u001b[0m",
      "\u001b[0;31mNameError\u001b[0m: name 'train' is not defined"
     ]
    }
   ],
   "source": [
    "140083/train.shape[0]"
   ]
  },
  {
   "cell_type": "markdown",
   "id": "a480c360",
   "metadata": {},
   "source": [
    "## KPIs"
   ]
  },
  {
   "cell_type": "code",
   "execution_count": null,
   "id": "a47c62ce",
   "metadata": {},
   "outputs": [],
   "source": [
    "orders = catalog.load(\"orders_full\")\n",
    "orders.loc[:, \"orderDate\"] = pd.to_datetime(orders[\"orderDate\"])\n",
    "orders.loc[:, \"deliveryDate\"] = pd.to_datetime(orders[\"deliveryDate\"])\n",
    "\n",
    "delivery_median = ((orders[\"deliveryDate\"]-orders[\"orderDate\"]).dt.days).median()\n",
    "delivery_median"
   ]
  },
  {
   "cell_type": "code",
   "execution_count": 14,
   "id": "8e78f164",
   "metadata": {},
   "outputs": [],
   "source": [
    "# orders_features[\"train_test\"]"
   ]
  },
  {
   "cell_type": "code",
   "execution_count": 15,
   "id": "ccf1a544",
   "metadata": {},
   "outputs": [
    {
     "ename": "NameError",
     "evalue": "name 'orders' is not defined",
     "output_type": "error",
     "traceback": [
      "\u001b[0;31m---------------------------------------------------------------------------\u001b[0m",
      "\u001b[0;31mNameError\u001b[0m                                 Traceback (most recent call last)",
      "\u001b[0;32m/tmp/ipykernel_16878/1255331962.py\u001b[0m in \u001b[0;36m<module>\u001b[0;34m\u001b[0m\n\u001b[1;32m      1\u001b[0m \u001b[0;31m# average price\u001b[0m\u001b[0;34m\u001b[0m\u001b[0;34m\u001b[0m\u001b[0;34m\u001b[0m\u001b[0m\n\u001b[0;32m----> 2\u001b[0;31m \u001b[0morders\u001b[0m\u001b[0;34m[\u001b[0m\u001b[0;34m\"price\"\u001b[0m\u001b[0;34m]\u001b[0m\u001b[0;34m.\u001b[0m\u001b[0mmean\u001b[0m\u001b[0;34m(\u001b[0m\u001b[0;34m)\u001b[0m\u001b[0;34m\u001b[0m\u001b[0;34m\u001b[0m\u001b[0m\n\u001b[0m",
      "\u001b[0;31mNameError\u001b[0m: name 'orders' is not defined"
     ]
    }
   ],
   "source": [
    "# average price\n",
    "orders[\"price\"].mean()"
   ]
  },
  {
   "cell_type": "code",
   "execution_count": null,
   "id": "e2828668",
   "metadata": {},
   "outputs": [],
   "source": [
    "orders = catalog.load(\"orders_full\")\n",
    "\n",
    "orders[\"basketID\"] = orders[\"customerID\"].astype(str) + orders[\"orderDate\"].astype(str)\n",
    "ret_basket = orders.groupby(\"basketID\")[\"returnShipment\"].mean()\n",
    "basket_sizes = orders.groupby(\"basketID\").size()\n",
    "# drop baskets with less than 2 items\n",
    "basket_sizes = basket_sizes[basket_sizes>2]\n",
    "# only returns\n",
    "ret_basket = ret_basket[ret_basket>0]\n",
    "match = basket_sizes[basket_sizes.index.isin(ret_basket.index)]\n",
    "ret_basketes_items = orders[(orders[\"basketID\"].isin(match.index))&\n",
    "                           (orders[\"returnShipment\"]==1)]\n",
    "\n",
    "data = ret_basket.loc[ret_basketes_items[\"basketID\"]]\n",
    "print(item_avg_basket[item_avg_basket>0.5].shape[0],\n",
    "      item_avg_basket[item_avg_basket<0.5].shape[0],\n",
    "      item_avg_basket[item_avg_basket==0.5].shape[0])"
   ]
  },
  {
   "cell_type": "code",
   "execution_count": null,
   "id": "9186964d",
   "metadata": {},
   "outputs": [],
   "source": [
    "print(item_avg_basket[item_avg_basket>0.5].shape[0],\n",
    "      item_avg_basket[item_avg_basket<0.5].shape[0],\n",
    "      item_avg_basket[item_avg_basket==0.5].shape[0])"
   ]
  },
  {
   "cell_type": "code",
   "execution_count": null,
   "id": "ed3e7136",
   "metadata": {},
   "outputs": [],
   "source": [
    "1- 35421 / (161896 + 17390)"
   ]
  },
  {
   "cell_type": "code",
   "execution_count": 16,
   "id": "e57dcafb",
   "metadata": {},
   "outputs": [
    {
     "ename": "NameError",
     "evalue": "name 'ret_basket' is not defined",
     "output_type": "error",
     "traceback": [
      "\u001b[0;31m---------------------------------------------------------------------------\u001b[0m",
      "\u001b[0;31mNameError\u001b[0m                                 Traceback (most recent call last)",
      "\u001b[0;32m/tmp/ipykernel_16878/2505602183.py\u001b[0m in \u001b[0;36m<module>\u001b[0;34m\u001b[0m\n\u001b[0;32m----> 1\u001b[0;31m \u001b[0mitem_avg_basket\u001b[0m \u001b[0;34m=\u001b[0m \u001b[0mret_basket\u001b[0m\u001b[0;34m.\u001b[0m\u001b[0mloc\u001b[0m\u001b[0;34m[\u001b[0m\u001b[0mret_basketes_items\u001b[0m\u001b[0;34m[\u001b[0m\u001b[0;34m\"basketID\"\u001b[0m\u001b[0;34m]\u001b[0m\u001b[0;34m]\u001b[0m\u001b[0;34m\u001b[0m\u001b[0;34m\u001b[0m\u001b[0m\n\u001b[0m\u001b[1;32m      2\u001b[0m \u001b[0morders\u001b[0m\u001b[0;34m[\u001b[0m\u001b[0;34m\"returnShipment\"\u001b[0m\u001b[0;34m]\u001b[0m\u001b[0;34m.\u001b[0m\u001b[0msum\u001b[0m\u001b[0;34m(\u001b[0m\u001b[0;34m)\u001b[0m\u001b[0;34m\u001b[0m\u001b[0;34m\u001b[0m\u001b[0m\n",
      "\u001b[0;31mNameError\u001b[0m: name 'ret_basket' is not defined"
     ]
    }
   ],
   "source": [
    "item_avg_basket = ret_basket.loc[ret_basketes_items[\"basketID\"]]\n",
    "orders[\"returnShipment\"].sum()"
   ]
  },
  {
   "cell_type": "code",
   "execution_count": null,
   "id": "8142128c",
   "metadata": {},
   "outputs": [],
   "source": [
    "plt.hist(data*100, bins=20)\n",
    "\n",
    "plt.ylabel(\"Amount of return items\", fontsize=12)\n",
    "plt.xlabel(\"avg-RSs of items in the basket DMC14 dataset\", fontsize=12)\n",
    "\n"
   ]
  },
  {
   "cell_type": "code",
   "execution_count": null,
   "id": "06c122b4",
   "metadata": {},
   "outputs": [],
   "source": [
    "print(ret_basket.loc[ret_basketes_items[\"basketID\"]].shape)\n",
    "item_avg_basket = ret_basket.loc[ret_basketes_items[\"basketID\"]]\n",
    "item_avg_basket[item_avg_basket>=0.5]"
   ]
  },
  {
   "cell_type": "code",
   "execution_count": 17,
   "id": "49d6c004",
   "metadata": {},
   "outputs": [
    {
     "ename": "NameError",
     "evalue": "name 'data' is not defined",
     "output_type": "error",
     "traceback": [
      "\u001b[0;31m---------------------------------------------------------------------------\u001b[0m",
      "\u001b[0;31mNameError\u001b[0m                                 Traceback (most recent call last)",
      "\u001b[0;32m/tmp/ipykernel_16878/2917461888.py\u001b[0m in \u001b[0;36m<module>\u001b[0;34m\u001b[0m\n\u001b[1;32m      2\u001b[0m \u001b[0;32mfrom\u001b[0m \u001b[0mscipy\u001b[0m\u001b[0;34m.\u001b[0m\u001b[0mstats\u001b[0m \u001b[0;32mimport\u001b[0m \u001b[0mkde\u001b[0m\u001b[0;34m\u001b[0m\u001b[0;34m\u001b[0m\u001b[0m\n\u001b[1;32m      3\u001b[0m \u001b[0;34m\u001b[0m\u001b[0m\n\u001b[0;32m----> 4\u001b[0;31m \u001b[0mdensity\u001b[0m \u001b[0;34m=\u001b[0m \u001b[0mkde\u001b[0m\u001b[0;34m.\u001b[0m\u001b[0mgaussian_kde\u001b[0m\u001b[0;34m(\u001b[0m\u001b[0mdata\u001b[0m\u001b[0;34m)\u001b[0m\u001b[0;34m\u001b[0m\u001b[0;34m\u001b[0m\u001b[0m\n\u001b[0m\u001b[1;32m      5\u001b[0m \u001b[0mx\u001b[0m \u001b[0;34m=\u001b[0m \u001b[0mnp\u001b[0m\u001b[0;34m.\u001b[0m\u001b[0mlinspace\u001b[0m\u001b[0;34m(\u001b[0m\u001b[0;36m0\u001b[0m\u001b[0;34m,\u001b[0m\u001b[0;36m1\u001b[0m\u001b[0;34m,\u001b[0m\u001b[0;36m300\u001b[0m\u001b[0;34m)\u001b[0m\u001b[0;34m\u001b[0m\u001b[0;34m\u001b[0m\u001b[0m\n\u001b[1;32m      6\u001b[0m \u001b[0my\u001b[0m\u001b[0;34m=\u001b[0m\u001b[0mdensity\u001b[0m\u001b[0;34m(\u001b[0m\u001b[0mx\u001b[0m\u001b[0;34m)\u001b[0m\u001b[0;34m\u001b[0m\u001b[0;34m\u001b[0m\u001b[0m\n",
      "\u001b[0;31mNameError\u001b[0m: name 'data' is not defined"
     ]
    }
   ],
   "source": [
    "# optional: density function\n",
    "from scipy.stats import kde\n",
    "\n",
    "density = kde.gaussian_kde(data)\n",
    "x = np.linspace(0,1,300)\n",
    "y=density(x)\n",
    "plt.plot(x, y)"
   ]
  },
  {
   "cell_type": "code",
   "execution_count": 18,
   "id": "c33ada2d",
   "metadata": {},
   "outputs": [
    {
     "ename": "NameError",
     "evalue": "name 'orders' is not defined",
     "output_type": "error",
     "traceback": [
      "\u001b[0;31m---------------------------------------------------------------------------\u001b[0m",
      "\u001b[0;31mNameError\u001b[0m                                 Traceback (most recent call last)",
      "\u001b[0;32m/tmp/ipykernel_16878/1846015856.py\u001b[0m in \u001b[0;36m<module>\u001b[0;34m\u001b[0m\n\u001b[0;32m----> 1\u001b[0;31m \u001b[0;34m(\u001b[0m\u001b[0morders\u001b[0m\u001b[0;34m.\u001b[0m\u001b[0mgroupby\u001b[0m\u001b[0;34m(\u001b[0m\u001b[0;34m\"customerID\"\u001b[0m\u001b[0;34m)\u001b[0m\u001b[0;34m[\u001b[0m\u001b[0;34m\"basketID\"\u001b[0m\u001b[0;34m]\u001b[0m\u001b[0;34m.\u001b[0m\u001b[0mnunique\u001b[0m\u001b[0;34m(\u001b[0m\u001b[0;34m)\u001b[0m\u001b[0;34m.\u001b[0m\u001b[0msort_values\u001b[0m\u001b[0;34m(\u001b[0m\u001b[0;34m)\u001b[0m\u001b[0;34m==\u001b[0m\u001b[0;36m1\u001b[0m\u001b[0;34m)\u001b[0m\u001b[0;34m.\u001b[0m\u001b[0mmean\u001b[0m\u001b[0;34m(\u001b[0m\u001b[0;34m)\u001b[0m\u001b[0;34m\u001b[0m\u001b[0;34m\u001b[0m\u001b[0m\n\u001b[0m",
      "\u001b[0;31mNameError\u001b[0m: name 'orders' is not defined"
     ]
    }
   ],
   "source": [
    "(orders.groupby(\"customerID\")[\"basketID\"].nunique().sort_values()==1).mean()"
   ]
  },
  {
   "cell_type": "code",
   "execution_count": null,
   "id": "ae1d1d39",
   "metadata": {},
   "outputs": [],
   "source": [
    "orders.groupby(\"customerID\")[\"basketID\"].nunique().sort_values().mean()"
   ]
  },
  {
   "cell_type": "code",
   "execution_count": null,
   "id": "d824fdd1",
   "metadata": {},
   "outputs": [],
   "source": [
    "orders[[\"basketID\", \"itemID\"]].duplicated(keep=False).sum()"
   ]
  },
  {
   "cell_type": "code",
   "execution_count": 19,
   "id": "0f370ace",
   "metadata": {},
   "outputs": [
    {
     "ename": "NameError",
     "evalue": "name 'orders' is not defined",
     "output_type": "error",
     "traceback": [
      "\u001b[0;31m---------------------------------------------------------------------------\u001b[0m",
      "\u001b[0;31mNameError\u001b[0m                                 Traceback (most recent call last)",
      "\u001b[0;32m/tmp/ipykernel_16878/2435400424.py\u001b[0m in \u001b[0;36m<module>\u001b[0;34m\u001b[0m\n\u001b[0;32m----> 1\u001b[0;31m \u001b[0morders\u001b[0m\u001b[0;34m[\u001b[0m\u001b[0;34m[\u001b[0m\u001b[0;34m\"basketID\"\u001b[0m\u001b[0;34m,\u001b[0m \u001b[0;34m\"itemID\"\u001b[0m\u001b[0;34m]\u001b[0m\u001b[0;34m]\u001b[0m\u001b[0;34m.\u001b[0m\u001b[0mduplicated\u001b[0m\u001b[0;34m(\u001b[0m\u001b[0mkeep\u001b[0m\u001b[0;34m=\u001b[0m\u001b[0;32mFalse\u001b[0m\u001b[0;34m)\u001b[0m\u001b[0;34m.\u001b[0m\u001b[0msum\u001b[0m\u001b[0;34m(\u001b[0m\u001b[0;34m)\u001b[0m \u001b[0;34m/\u001b[0m \u001b[0morders\u001b[0m\u001b[0;34m.\u001b[0m\u001b[0mshape\u001b[0m\u001b[0;34m[\u001b[0m\u001b[0;36m0\u001b[0m\u001b[0;34m]\u001b[0m\u001b[0;34m\u001b[0m\u001b[0;34m\u001b[0m\u001b[0m\n\u001b[0m",
      "\u001b[0;31mNameError\u001b[0m: name 'orders' is not defined"
     ]
    }
   ],
   "source": [
    "orders[[\"basketID\", \"itemID\"]].duplicated(keep=False).sum() / orders.shape[0]"
   ]
  },
  {
   "cell_type": "code",
   "execution_count": null,
   "id": "c86c0b03",
   "metadata": {},
   "outputs": [],
   "source": [
    "orders[orders[[\"basketID\", \"itemID\"]].duplicated(keep=False)][\"returnShipment\"].mean()"
   ]
  },
  {
   "cell_type": "code",
   "execution_count": null,
   "id": "e35013eb",
   "metadata": {},
   "outputs": [],
   "source": [
    "orders[\"returnShipment\"].mean()"
   ]
  },
  {
   "cell_type": "code",
   "execution_count": 20,
   "id": "49cd5717",
   "metadata": {},
   "outputs": [
    {
     "ename": "NameError",
     "evalue": "name 'orders' is not defined",
     "output_type": "error",
     "traceback": [
      "\u001b[0;31m---------------------------------------------------------------------------\u001b[0m",
      "\u001b[0;31mNameError\u001b[0m                                 Traceback (most recent call last)",
      "\u001b[0;32m/tmp/ipykernel_16878/2711706648.py\u001b[0m in \u001b[0;36m<module>\u001b[0;34m\u001b[0m\n\u001b[0;32m----> 1\u001b[0;31m \u001b[0morders\u001b[0m\u001b[0;34m.\u001b[0m\u001b[0mcolumns\u001b[0m\u001b[0;34m\u001b[0m\u001b[0;34m\u001b[0m\u001b[0m\n\u001b[0m",
      "\u001b[0;31mNameError\u001b[0m: name 'orders' is not defined"
     ]
    }
   ],
   "source": [
    "orders.columns"
   ]
  },
  {
   "cell_type": "code",
   "execution_count": null,
   "id": "8b2ae476",
   "metadata": {},
   "outputs": [],
   "source": [
    "orders.loc[:, \"creationDate\"] = pd.to_datetime(orders[\"creationDate\"])\n",
    "min(orders[\"creationDate\"])"
   ]
  },
  {
   "cell_type": "code",
   "execution_count": null,
   "id": "4a902a6d",
   "metadata": {},
   "outputs": [],
   "source": [
    "old_cust = orders[orders[\"creationDate\"]==min(orders[\"creationDate\"])].customerID.unique()"
   ]
  },
  {
   "cell_type": "code",
   "execution_count": 21,
   "id": "b5b77fa4",
   "metadata": {},
   "outputs": [
    {
     "ename": "NameError",
     "evalue": "name 'old_cust' is not defined",
     "output_type": "error",
     "traceback": [
      "\u001b[0;31m---------------------------------------------------------------------------\u001b[0m",
      "\u001b[0;31mNameError\u001b[0m                                 Traceback (most recent call last)",
      "\u001b[0;32m/tmp/ipykernel_16878/1632946787.py\u001b[0m in \u001b[0;36m<module>\u001b[0;34m\u001b[0m\n\u001b[0;32m----> 1\u001b[0;31m \u001b[0mlen\u001b[0m\u001b[0;34m(\u001b[0m\u001b[0mold_cust\u001b[0m\u001b[0;34m)\u001b[0m\u001b[0;34m/\u001b[0m \u001b[0morders\u001b[0m\u001b[0;34m.\u001b[0m\u001b[0mcustomerID\u001b[0m\u001b[0;34m.\u001b[0m\u001b[0mnunique\u001b[0m\u001b[0;34m(\u001b[0m\u001b[0;34m)\u001b[0m\u001b[0;34m\u001b[0m\u001b[0;34m\u001b[0m\u001b[0m\n\u001b[0m",
      "\u001b[0;31mNameError\u001b[0m: name 'old_cust' is not defined"
     ]
    }
   ],
   "source": [
    "len(old_cust)/ orders.customerID.nunique()"
   ]
  },
  {
   "cell_type": "code",
   "execution_count": null,
   "id": "44cc82f2",
   "metadata": {},
   "outputs": [],
   "source": [
    "sum(avg_ret_dict.values())"
   ]
  },
  {
   "cell_type": "code",
   "execution_count": null,
   "id": "2fedfa71",
   "metadata": {},
   "outputs": [],
   "source": [
    "diffs = orders_grp[\"sum\"].value_counts().sort_index().iloc[:27] - pd.Series(avg_ret_dict)\n",
    "# diffs*range(1, len(diffs)+1)"
   ]
  },
  {
   "cell_type": "code",
   "execution_count": 22,
   "id": "b7115017",
   "metadata": {},
   "outputs": [
    {
     "ename": "NameError",
     "evalue": "name 'orders_grp' is not defined",
     "output_type": "error",
     "traceback": [
      "\u001b[0;31m---------------------------------------------------------------------------\u001b[0m",
      "\u001b[0;31mNameError\u001b[0m                                 Traceback (most recent call last)",
      "\u001b[0;32m/tmp/ipykernel_16878/1480164332.py\u001b[0m in \u001b[0;36m<module>\u001b[0;34m\u001b[0m\n\u001b[0;32m----> 1\u001b[0;31m \u001b[0morders_grp\u001b[0m\u001b[0;34m[\u001b[0m\u001b[0;34m\"sum\"\u001b[0m\u001b[0;34m]\u001b[0m\u001b[0;34m.\u001b[0m\u001b[0mvalue_counts\u001b[0m\u001b[0;34m(\u001b[0m\u001b[0;34m)\u001b[0m\u001b[0;34m\u001b[0m\u001b[0;34m\u001b[0m\u001b[0m\n\u001b[0m",
      "\u001b[0;31mNameError\u001b[0m: name 'orders_grp' is not defined"
     ]
    }
   ],
   "source": [
    "orders_grp[\"sum\"].value_counts()"
   ]
  },
  {
   "cell_type": "code",
   "execution_count": null,
   "id": "d75f2c83",
   "metadata": {},
   "outputs": [],
   "source": [
    "nullsum = orders.groupby(\"basketID\")[\"returnShipment\"].agg(['sum', 'count'])\n",
    "nullsum = nullsum[nullsum[\"sum\"]==0]"
   ]
  },
  {
   "cell_type": "code",
   "execution_count": null,
   "id": "b44eb6d4",
   "metadata": {},
   "outputs": [],
   "source": [
    "nullsum[\"count\"].value_counts().iloc[:10]"
   ]
  },
  {
   "cell_type": "code",
   "execution_count": 23,
   "id": "8fe37fad",
   "metadata": {},
   "outputs": [],
   "source": [
    "import scipy\n",
    "from scipy.stats import binom"
   ]
  },
  {
   "cell_type": "code",
   "execution_count": 24,
   "id": "620c2963",
   "metadata": {},
   "outputs": [
    {
     "ename": "NameError",
     "evalue": "name 'indices' is not defined",
     "output_type": "error",
     "traceback": [
      "\u001b[0;31m---------------------------------------------------------------------------\u001b[0m",
      "\u001b[0;31mNameError\u001b[0m                                 Traceback (most recent call last)",
      "\u001b[0;32m/tmp/ipykernel_16878/67203243.py\u001b[0m in \u001b[0;36m<module>\u001b[0;34m\u001b[0m\n\u001b[1;32m      1\u001b[0m \u001b[0mi\u001b[0m \u001b[0;34m=\u001b[0m \u001b[0;36m0\u001b[0m\u001b[0;34m\u001b[0m\u001b[0;34m\u001b[0m\u001b[0m\n\u001b[1;32m      2\u001b[0m \u001b[0mno_ret_baskets\u001b[0m \u001b[0;34m=\u001b[0m \u001b[0;34m{\u001b[0m\u001b[0;34m}\u001b[0m\u001b[0;34m\u001b[0m\u001b[0;34m\u001b[0m\u001b[0m\n\u001b[0;32m----> 3\u001b[0;31m \u001b[0;32mfor\u001b[0m \u001b[0mindex\u001b[0m \u001b[0;32min\u001b[0m \u001b[0mindices\u001b[0m\u001b[0;34m[\u001b[0m\u001b[0mi\u001b[0m\u001b[0;34m:\u001b[0m\u001b[0;34m]\u001b[0m\u001b[0;34m:\u001b[0m\u001b[0;34m\u001b[0m\u001b[0;34m\u001b[0m\u001b[0m\n\u001b[0m\u001b[1;32m      4\u001b[0m     \u001b[0mp1\u001b[0m \u001b[0;34m=\u001b[0m \u001b[0mbinom\u001b[0m\u001b[0;34m.\u001b[0m\u001b[0mpmf\u001b[0m\u001b[0;34m(\u001b[0m\u001b[0mi\u001b[0m\u001b[0;34m,\u001b[0m \u001b[0mindex\u001b[0m\u001b[0;34m,\u001b[0m \u001b[0mret_basketsize\u001b[0m\u001b[0;34m.\u001b[0m\u001b[0mloc\u001b[0m\u001b[0;34m[\u001b[0m\u001b[0mindex\u001b[0m\u001b[0;34m]\u001b[0m\u001b[0;34m)\u001b[0m\u001b[0;34m\u001b[0m\u001b[0;34m\u001b[0m\u001b[0m\n\u001b[1;32m      5\u001b[0m     \u001b[0mno_ret_baskets\u001b[0m\u001b[0;34m[\u001b[0m\u001b[0mindex\u001b[0m\u001b[0;34m]\u001b[0m \u001b[0;34m=\u001b[0m \u001b[0mp1\u001b[0m \u001b[0;34m*\u001b[0m \u001b[0mcount_basketsize\u001b[0m\u001b[0;34m.\u001b[0m\u001b[0mloc\u001b[0m\u001b[0;34m[\u001b[0m\u001b[0mindex\u001b[0m\u001b[0;34m]\u001b[0m\u001b[0;34m/\u001b[0m\u001b[0mindex\u001b[0m\u001b[0;34m\u001b[0m\u001b[0;34m\u001b[0m\u001b[0m\n",
      "\u001b[0;31mNameError\u001b[0m: name 'indices' is not defined"
     ]
    }
   ],
   "source": [
    "i = 0\n",
    "no_ret_baskets = {}\n",
    "for index in indices[i:]: \n",
    "    p1 = binom.pmf(i, index, ret_basketsize.loc[index])\n",
    "    no_ret_baskets[index] = p1 * count_basketsize.loc[index]/index"
   ]
  },
  {
   "cell_type": "code",
   "execution_count": null,
   "id": "f57eadbe",
   "metadata": {},
   "outputs": [],
   "source": [
    "x = np.arange(2, 11)  # the label locations\n",
    "width = 0.35  # the width of the bars\n",
    "\n",
    "fig, ax = plt.subplots()\n",
    "rects1 = ax.bar(x - width/2, nullsum[\"count\"].value_counts().iloc[1:10] * range(2,11),\n",
    "                width, label='Amount of items not returned', color = \"tab:olive\")\n",
    "rects2 = ax.bar(x + width/2, pd.Series(no_ret_baskets).iloc[1:10]* range(2,11),\n",
    "                width, label='Mathematical average from binomial', color = \"tab:cyan\")\n",
    "# ax.bar_label(rects1, padding=3)\n",
    "# ax.bar_label(rects2, padding=3)\n",
    "ax.set_xticks(x, x)\n",
    "ax.legend()\n",
    "fig.tight_layout()\n",
    "\n",
    "plt.show()"
   ]
  },
  {
   "cell_type": "code",
   "execution_count": null,
   "id": "33859555",
   "metadata": {},
   "outputs": [],
   "source": [
    "orders = catalog.load(\"orders_full\")\n",
    "\n",
    "orders_grp = orders.groupby(\"basketID\")[\"returnShipment\"].agg(['sum', 'count'])\n",
    "orders_grp = orders_grp[orders_grp[\"sum\"]!=0]\n",
    "\n",
    "\n",
    "indices = ret_basketsize.index\n",
    "avg_ret_dict = {}\n",
    "for i in range(1, 28):\n",
    "    avg_rets = 0\n",
    "    for index in indices[i-1:]: \n",
    "        p1 = binom.pmf(i, index, ret_basketsize.loc[index])\n",
    "        # print(i, index, p1, count_basketsize.loc[index])\n",
    "        avg_rets += p1 * (count_basketsize.loc[index]/index)\n",
    "    avg_ret_dict[i] = avg_rets"
   ]
  },
  {
   "cell_type": "code",
   "execution_count": 25,
   "id": "016ad2fe",
   "metadata": {},
   "outputs": [
    {
     "ename": "NameError",
     "evalue": "name 'avg_ret_dict' is not defined",
     "output_type": "error",
     "traceback": [
      "\u001b[0;31m---------------------------------------------------------------------------\u001b[0m",
      "\u001b[0;31mNameError\u001b[0m                                 Traceback (most recent call last)",
      "\u001b[0;32m/tmp/ipykernel_16878/643845902.py\u001b[0m in \u001b[0;36m<module>\u001b[0;34m\u001b[0m\n\u001b[0;32m----> 1\u001b[0;31m \u001b[0mrand_ret_binom\u001b[0m \u001b[0;34m=\u001b[0m \u001b[0mpd\u001b[0m\u001b[0;34m.\u001b[0m\u001b[0mSeries\u001b[0m\u001b[0;34m(\u001b[0m\u001b[0mavg_ret_dict\u001b[0m\u001b[0;34m)\u001b[0m\u001b[0;34m.\u001b[0m\u001b[0miloc\u001b[0m\u001b[0;34m[\u001b[0m\u001b[0;34m:\u001b[0m\u001b[0;36m15\u001b[0m\u001b[0;34m]\u001b[0m\u001b[0;34m\u001b[0m\u001b[0;34m\u001b[0m\u001b[0m\n\u001b[0m\u001b[1;32m      2\u001b[0m \u001b[0mreal_rets\u001b[0m \u001b[0;34m=\u001b[0m \u001b[0morders_grp\u001b[0m\u001b[0;34m[\u001b[0m\u001b[0;34m\"sum\"\u001b[0m\u001b[0;34m]\u001b[0m\u001b[0;34m.\u001b[0m\u001b[0mvalue_counts\u001b[0m\u001b[0;34m(\u001b[0m\u001b[0;34m)\u001b[0m\u001b[0;34m.\u001b[0m\u001b[0miloc\u001b[0m\u001b[0;34m[\u001b[0m\u001b[0;34m:\u001b[0m\u001b[0;36m15\u001b[0m\u001b[0;34m]\u001b[0m\u001b[0;34m\u001b[0m\u001b[0;34m\u001b[0m\u001b[0m\n",
      "\u001b[0;31mNameError\u001b[0m: name 'avg_ret_dict' is not defined"
     ]
    }
   ],
   "source": [
    "rand_ret_binom = pd.Series(avg_ret_dict).iloc[:15]\n",
    "real_rets = orders_grp[\"sum\"].value_counts().iloc[:15]"
   ]
  },
  {
   "cell_type": "code",
   "execution_count": null,
   "id": "58c14ec7",
   "metadata": {},
   "outputs": [],
   "source": [
    "x = np.arange(1, 16)  # the label locations\n",
    "width = 0.35  # the width of the bars\n",
    "\n",
    "fig, ax = plt.subplots()\n",
    "rects1 = ax.barh(x - width/2, rand_ret_binom * range(1,16), width, label='Random')\n",
    "rects2 = ax.barh(x + width/2, real_rets* range(1,16), width, label='Real')\n",
    "# ax.bar_label(rects1, padding=3)\n",
    "# ax.bar_label(rects2, padding=3)\n",
    "ax.set_yticks(x, x)\n",
    "ax.legend()\n",
    "fig.tight_layout()\n",
    "\n",
    "plt.show()"
   ]
  },
  {
   "cell_type": "markdown",
   "id": "9f348b68",
   "metadata": {},
   "source": [
    "# Figures \n",
    "## Figure binominal difference"
   ]
  },
  {
   "cell_type": "code",
   "execution_count": null,
   "id": "081ddd33",
   "metadata": {},
   "outputs": [],
   "source": [
    "\"\"\"i = 10\n",
    "avg_rets_10 = {}\n",
    "for index in indices[i-1:]: \n",
    "    p1 = binom.pmf(i, index, ret_basketsize.loc[index])\n",
    "    # print(i, index, p1, count_basketsize.loc[index])\n",
    "    avg_rets_10[str(index)] = p1 * (count_basketsize.loc[index]/index)\"\"\""
   ]
  },
  {
   "cell_type": "code",
   "execution_count": 26,
   "id": "b655effb",
   "metadata": {},
   "outputs": [
    {
     "ename": "NameError",
     "evalue": "name 'orders_grp' is not defined",
     "output_type": "error",
     "traceback": [
      "\u001b[0;31m---------------------------------------------------------------------------\u001b[0m",
      "\u001b[0;31mNameError\u001b[0m                                 Traceback (most recent call last)",
      "\u001b[0;32m/tmp/ipykernel_16878/3578374918.py\u001b[0m in \u001b[0;36m<module>\u001b[0;34m\u001b[0m\n\u001b[1;32m      4\u001b[0m     \u001b[0;31m# https://docs.scipy.org/doc/scipy/tutorial/stats/discrete_binom.html\u001b[0m\u001b[0;34m\u001b[0m\u001b[0;34m\u001b[0m\u001b[0;34m\u001b[0m\u001b[0m\n\u001b[1;32m      5\u001b[0m     \u001b[0;31m# https://docs.scipy.org/doc/scipy/reference/generated/scipy.stats.binom.html\u001b[0m\u001b[0;34m\u001b[0m\u001b[0;34m\u001b[0m\u001b[0;34m\u001b[0m\u001b[0m\n\u001b[0;32m----> 6\u001b[0;31m \u001b[0mprint\u001b[0m\u001b[0;34m(\u001b[0m\u001b[0morders_grp\u001b[0m\u001b[0;34m[\u001b[0m\u001b[0;34m\"sum\"\u001b[0m\u001b[0;34m]\u001b[0m\u001b[0;34m.\u001b[0m\u001b[0mvalue_counts\u001b[0m\u001b[0;34m(\u001b[0m\u001b[0;34m)\u001b[0m\u001b[0;34m.\u001b[0m\u001b[0mloc\u001b[0m\u001b[0;34m[\u001b[0m\u001b[0;36m1\u001b[0m\u001b[0;34m]\u001b[0m\u001b[0;34m)\u001b[0m\u001b[0;34m\u001b[0m\u001b[0;34m\u001b[0m\u001b[0m\n\u001b[0m\u001b[1;32m      7\u001b[0m \u001b[0mprint\u001b[0m\u001b[0;34m(\u001b[0m\u001b[0morders_grp\u001b[0m\u001b[0;34m[\u001b[0m\u001b[0morders_grp\u001b[0m\u001b[0;34m[\u001b[0m\u001b[0;34m\"count\"\u001b[0m\u001b[0;34m]\u001b[0m\u001b[0;34m>\u001b[0m\u001b[0;36m1\u001b[0m\u001b[0;34m]\u001b[0m\u001b[0;34m[\u001b[0m\u001b[0;34m\"sum\"\u001b[0m\u001b[0;34m]\u001b[0m\u001b[0;34m.\u001b[0m\u001b[0mvalue_counts\u001b[0m\u001b[0;34m(\u001b[0m\u001b[0;34m)\u001b[0m\u001b[0;34m.\u001b[0m\u001b[0mloc\u001b[0m\u001b[0;34m[\u001b[0m\u001b[0;36m1\u001b[0m\u001b[0;34m]\u001b[0m\u001b[0;34m)\u001b[0m\u001b[0;34m\u001b[0m\u001b[0;34m\u001b[0m\u001b[0m\n\u001b[1;32m      8\u001b[0m \u001b[0;34m\u001b[0m\u001b[0m\n",
      "\u001b[0;31mNameError\u001b[0m: name 'orders_grp' is not defined"
     ]
    }
   ],
   "source": [
    "import scipy\n",
    "from scipy.stats import binom\n",
    "# https://medium.com/codex/binomial-distribution-probability-tutorial-with-python-677cc1dcb18d\n",
    "    # https://docs.scipy.org/doc/scipy/tutorial/stats/discrete_binom.html\n",
    "    # https://docs.scipy.org/doc/scipy/reference/generated/scipy.stats.binom.html\n",
    "print(orders_grp[\"sum\"].value_counts().loc[1])\n",
    "print(orders_grp[orders_grp[\"count\"]>1][\"sum\"].value_counts().loc[1])\n",
    "\n",
    "indices = ret_basketsize.index\n",
    "avg_ret_dict = {}\n",
    "for i in range(1, 28):\n",
    "    avg_rets = 0\n",
    "    # for index in indices[i-1:]:\n",
    "    index = 27    \n",
    "    p1 = binom.pmf(i, index, ret_basketsize.loc[index])\n",
    "    print(i, index, p1, count_basketsize.loc[index])\n",
    "    avg_rets += p1 * count_basketsize.loc[index]\n",
    "    avg_ret_dict[i] = avg_rets\n",
    "    \n",
    "# p_1 = factorial(index)/((factorial(i)*factorial(index-i)))*ret_basketsize.loc[index]**i*(1-ret_basketsize.loc[index])**(index-i)\n",
    "# p_1 * count_basketsize[index]\n",
    "\n",
    "# factorial(count_basketsize.loc[1])/factorial(count_basketsize.loc[1]-1) * (1-ret_basketsize.loc[1])**index\n",
    "\n",
    "\"\"\"\n",
    "indices = ret_basketsize.index\n",
    "avg_returns = 0\n",
    "for index in indices[1:]:\n",
    "    p_1 = factorial(index)/factorial(index-1)*ret_basketsize.loc[index]*(1-ret_basketsize.loc[index])**index\n",
    "    avg_returns += p_1 * count_basketsize[index]\"\"\""
   ]
  },
  {
   "cell_type": "code",
   "execution_count": null,
   "id": "554f38b5",
   "metadata": {},
   "outputs": [],
   "source": [
    "avg_rets = {}\n",
    "real_rets = {}\n",
    "for index in range(2,11):\n",
    "    avg_rets[index] = {}\n",
    "    grouped = orders.groupby(\"basketID\")[\"returnShipment\"].agg(['sum', 'count'])\n",
    "    real_rets[index] = grouped[grouped[\"count\"]==index][\"sum\"].value_counts().sort_index()\n",
    "    for i in range(0,index+1): \n",
    "        p1 = binom.pmf(i, index, ret_basketsize.loc[index])\n",
    "        # print(i, index, p1, count_basketsize.loc[index])\n",
    "        if i == 0:\n",
    "            avg_rets[index][i] = p1 * count_basketsize.loc[index]\n",
    "        else:\n",
    "            avg_rets[index][i] = p1 * (count_basketsize.loc[index]/index)"
   ]
  },
  {
   "cell_type": "code",
   "execution_count": null,
   "id": "5db101ad",
   "metadata": {},
   "outputs": [],
   "source": [
    "incides = range(2,11)\n",
    "no_rets = pd.Series(index = incides, dtype=float)\n",
    "no_rets_av = pd.Series(index = incides, dtype=float)\n",
    "rets_diff = {}\n",
    "\n",
    "for index in incides:\n",
    "    no_rets_av.loc[index] = avg_rets[index][0]\n",
    "    no_rets.loc[index] = real_rets[index][0]\n",
    "    avg_index = (pd.Series(avg_rets[index])*range(len(avg_rets[index]))).loc[1:]\n",
    "    real_rets_index = (pd.Series(real_rets[index])*range(len(real_rets[index]))).loc[1:]\n",
    "    rets_diff[index] = real_rets_index - avg_index"
   ]
  },
  {
   "cell_type": "code",
   "execution_count": 30,
   "id": "2cb52751",
   "metadata": {},
   "outputs": [],
   "source": [
    "# mcolors.TABLEAU_COLORS"
   ]
  },
  {
   "cell_type": "code",
   "execution_count": 31,
   "id": "4a1dc3a4",
   "metadata": {},
   "outputs": [
    {
     "ename": "NameError",
     "evalue": "name 'rets_diff' is not defined",
     "output_type": "error",
     "traceback": [
      "\u001b[0;31m---------------------------------------------------------------------------\u001b[0m",
      "\u001b[0;31mNameError\u001b[0m                                 Traceback (most recent call last)",
      "\u001b[0;32m/tmp/ipykernel_16878/404651073.py\u001b[0m in \u001b[0;36m<module>\u001b[0;34m\u001b[0m\n\u001b[1;32m     12\u001b[0m \u001b[0;32mfor\u001b[0m \u001b[0mindex\u001b[0m \u001b[0;32min\u001b[0m \u001b[0mrange\u001b[0m\u001b[0;34m(\u001b[0m\u001b[0;36m2\u001b[0m\u001b[0;34m,\u001b[0m \u001b[0;36m6\u001b[0m\u001b[0;34m)\u001b[0m\u001b[0;34m:\u001b[0m\u001b[0;34m\u001b[0m\u001b[0;34m\u001b[0m\u001b[0m\n\u001b[1;32m     13\u001b[0m \u001b[0;34m\u001b[0m\u001b[0m\n\u001b[0;32m---> 14\u001b[0;31m     \u001b[0mdata\u001b[0m \u001b[0;34m=\u001b[0m \u001b[0mpd\u001b[0m\u001b[0;34m.\u001b[0m\u001b[0mSeries\u001b[0m\u001b[0;34m(\u001b[0m\u001b[0mrets_diff\u001b[0m\u001b[0;34m[\u001b[0m\u001b[0mindex\u001b[0m\u001b[0;34m]\u001b[0m\u001b[0;34m,\u001b[0m \u001b[0mindex\u001b[0m \u001b[0;34m=\u001b[0m \u001b[0mind\u001b[0m\u001b[0;34m)\u001b[0m\u001b[0;34m.\u001b[0m\u001b[0mfillna\u001b[0m\u001b[0;34m(\u001b[0m\u001b[0;36m0\u001b[0m\u001b[0;34m)\u001b[0m\u001b[0;34m\u001b[0m\u001b[0;34m\u001b[0m\u001b[0m\n\u001b[0m\u001b[1;32m     15\u001b[0m     \u001b[0mbars\u001b[0m\u001b[0;34m[\u001b[0m\u001b[0mindex\u001b[0m\u001b[0;34m]\u001b[0m \u001b[0;34m=\u001b[0m \u001b[0mplt\u001b[0m\u001b[0;34m.\u001b[0m\u001b[0mbar\u001b[0m\u001b[0;34m(\u001b[0m\u001b[0mind\u001b[0m \u001b[0;34m+\u001b[0m \u001b[0mi\u001b[0m\u001b[0;34m*\u001b[0m\u001b[0mwidth\u001b[0m\u001b[0;34m,\u001b[0m \u001b[0mdata\u001b[0m\u001b[0;34m.\u001b[0m\u001b[0mto_numpy\u001b[0m\u001b[0;34m(\u001b[0m\u001b[0;34m)\u001b[0m\u001b[0;34m,\u001b[0m \u001b[0mwidth\u001b[0m\u001b[0;34m,\u001b[0m \u001b[0mlabel\u001b[0m \u001b[0;34m=\u001b[0m \u001b[0;34m\"basket size =\"\u001b[0m \u001b[0;34m+\u001b[0m \u001b[0mstr\u001b[0m\u001b[0;34m(\u001b[0m\u001b[0mindex\u001b[0m\u001b[0;34m)\u001b[0m\u001b[0;34m,\u001b[0m \u001b[0mcolor\u001b[0m \u001b[0;34m=\u001b[0m \u001b[0mcolors\u001b[0m\u001b[0;34m[\u001b[0m\u001b[0mi\u001b[0m\u001b[0;34m]\u001b[0m\u001b[0;34m)\u001b[0m\u001b[0;34m\u001b[0m\u001b[0;34m\u001b[0m\u001b[0m\n\u001b[1;32m     16\u001b[0m     \u001b[0mmode\u001b[0m \u001b[0;34m=\u001b[0m \u001b[0;34m(\u001b[0m\u001b[0mpd\u001b[0m\u001b[0;34m.\u001b[0m\u001b[0mSeries\u001b[0m\u001b[0;34m(\u001b[0m\u001b[0mavg_rets\u001b[0m\u001b[0;34m[\u001b[0m\u001b[0mindex\u001b[0m\u001b[0;34m]\u001b[0m\u001b[0;34m)\u001b[0m\u001b[0;34m*\u001b[0m\u001b[0mrange\u001b[0m\u001b[0;34m(\u001b[0m\u001b[0mlen\u001b[0m\u001b[0;34m(\u001b[0m\u001b[0mavg_rets\u001b[0m\u001b[0;34m[\u001b[0m\u001b[0mindex\u001b[0m\u001b[0;34m]\u001b[0m\u001b[0;34m)\u001b[0m\u001b[0;34m)\u001b[0m\u001b[0;34m)\u001b[0m\u001b[0;34m.\u001b[0m\u001b[0mloc\u001b[0m\u001b[0;34m[\u001b[0m\u001b[0;36m1\u001b[0m\u001b[0;34m:\u001b[0m\u001b[0;34m]\u001b[0m\u001b[0;34m.\u001b[0m\u001b[0midxmax\u001b[0m\u001b[0;34m(\u001b[0m\u001b[0;34m)\u001b[0m\u001b[0;34m\u001b[0m\u001b[0;34m\u001b[0m\u001b[0m\n",
      "\u001b[0;31mNameError\u001b[0m: name 'rets_diff' is not defined"
     ]
    },
    {
     "data": {
      "image/png": "[encoded data removed]",
      "text/plain": [
       "<Figure size 432x288 with 1 Axes>"
      ]
     },
     "metadata": {
      "needs_background": "light"
     },
     "output_type": "display_data"
    }
   ],
   "source": [
    "import matplotlib.colors as mcolors\n",
    "colors = pd.Series(mcolors.TABLEAU_COLORS.keys())\n",
    "\n",
    "N = 4 \n",
    "ind = np.arange(1, 6)  # the label locations\n",
    "width = 0.15\n",
    "\n",
    "bars = {}\n",
    "i = 0\n",
    "fig, ax = plt.subplots()\n",
    "\n",
    "for index in range(2, 6):\n",
    "    \n",
    "    data = pd.Series(rets_diff[index], index = ind).fillna(0)\n",
    "    bars[index] = plt.bar(ind + i*width, data.to_numpy(), width, label = \"basket size =\" + str(index), color = colors[i])\n",
    "    mode = (pd.Series(avg_rets[index])*range(len(avg_rets[index]))).loc[1:].idxmax()\n",
    "    plt.axvline(mode+ i*width, linestyle=\"--\", color = colors[i])\n",
    "    i+=1\n",
    "\n",
    "# rects1 = ax.barh(x - width/2, rand_ret_binom * range(1,16), width, label='Random')\n",
    "# rects2 = ax.barh(x + width/2, real_rets* range(1,16), width, label='Real')\n",
    "# ax.bar_label(rects1, padding=3)\n",
    "# ax.bar_label(rects2, padding=3)\n",
    "plt.axvline(0, linestyle=\"--\", color = \"grey\", label = \"basket mode RSs\")\n",
    "plt.xlim(ind[0]-width, ind[-1]+1)\n",
    "ax.set_xticks(ind + 1.5*width, ind)\n",
    "ax.legend(fontsize=10)\n",
    "fig.tight_layout()\n",
    "plt.ylabel(\"Binomial difference\", fontsize=12)\n",
    "plt.xlabel(\"Number of RSs in basket ($k$)\", fontsize=12)\n",
    "plt.show()"
   ]
  },
  {
   "cell_type": "code",
   "execution_count": null,
   "id": "eaf0c7ae",
   "metadata": {
    "scrolled": true
   },
   "outputs": [],
   "source": [
    "N = 5 \n",
    "ind = np.arange(1, 11)  # the label locations\n",
    "width = 0.15\n",
    "\n",
    "bars = {}\n",
    "i = 0\n",
    "fig, ax = plt.subplots()\n",
    "\n",
    "for index in range(6, 11):\n",
    "    \n",
    "    data = pd.Series(rets_diff[index], index = ind).fillna(0)\n",
    "    bars[index] = plt.bar(ind + i*width, data.to_numpy(), width, label = \"basket size = \" + str(index), color = colors[i])\n",
    "    mode = (pd.Series(avg_rets[index])*range(len(avg_rets[index]))).loc[1:].idxmax()\n",
    "    plt.axvline(mode+ i*width, linestyle=\"--\", color = colors[i])\n",
    "    i+=1\n",
    "\n",
    "\n",
    "# rects1 = ax.barh(x - width/2, rand_ret_binom * range(1,16), width, label='Random')\n",
    "# rects2 = ax.barh(x + width/2, real_rets* range(1,16), width, label='Real')\n",
    "# ax.bar_label(rects1, padding=3)\n",
    "# ax.bar_label(rects2, padding=3)\n",
    "plt.axvline(0, linestyle=\"--\", color = \"grey\", label = \"basket mode RSs\")\n",
    "plt.xlim(ind[0]-width, ind[-1]+1.25)\n",
    "ax.set_xticks(ind + 2*width, ind)\n",
    "ax.legend(fontsize=10)\n",
    "fig.tight_layout()\n",
    "plt.ylabel(\"Binomial difference\", fontsize=12)\n",
    "plt.xlabel(\"Number of RSs in the basket ($k$)\", fontsize=12)\n",
    "\n",
    "plt.show()"
   ]
  },
  {
   "cell_type": "markdown",
   "id": "db5488bc",
   "metadata": {},
   "source": [
    "## Figure dmc data "
   ]
  },
  {
   "cell_type": "code",
   "execution_count": null,
   "id": "84b4b735",
   "metadata": {},
   "outputs": [],
   "source": [
    "plt.get_cmap(\"tab10\")"
   ]
  },
  {
   "cell_type": "code",
   "execution_count": null,
   "id": "75c1466a",
   "metadata": {},
   "outputs": [],
   "source": [
    "# create figure and axis objects with subplots()\n",
    "fig,ax = plt.subplots()\n",
    "# make a plot\n",
    "ax.bar(no_arts, count_basketsize) # , color=\"green\", marker=\"o\"\n",
    "# set x-axis label\n",
    "ax.set_xlabel(\"Number of items in the basket\",fontsize=12)\n",
    "# set y-axis label\n",
    "ax.set_ylabel(\"Total amount of items ordered\",fontsize=12)\n",
    "\n",
    "ax2=ax.twinx()\n",
    "# make a plot with different y-axis using second axis object\n",
    "ax2.plot(no_arts, ret_basketsize*100,color=\"tab:orange\", marker=\"x\")\n",
    "ax2.set_ylabel(\"Average return percentage\",color=\"tab:orange\",fontsize=12)\n",
    "ax2.yaxis.set_major_formatter(mtick.PercentFormatter(decimals=0))\n",
    "ax2.set_ylim(0, 100)\n",
    "plt.axhline(mean_retp*100, color=\"tab:orange\", linestyle=\"--\", label=\"dataset-level\")\n",
    "plt.legend(fontsize=10)\n",
    "plt.show()"
   ]
  },
  {
   "cell_type": "code",
   "execution_count": null,
   "id": "222f048a",
   "metadata": {},
   "outputs": [],
   "source": [
    "# create figure and axis objects with subplots()\n",
    "fig,ax = plt.subplots()\n",
    "# make a plot\n",
    "ax.bar(no_arts[:16], count_basketsize.loc[:16]) # , color=\"green\", marker=\"o\"\n",
    "# set x-axis label\n",
    "ax.set_xlabel(\"Number of items in the basket\",fontsize=12)\n",
    "# set y-axis label\n",
    "ax.set_ylabel(\"Total amount of items ordered\",fontsize=12)\n",
    "\n",
    "ax2=ax.twinx()\n",
    "# make a plot with different y-axis using second axis object\n",
    "ax2.plot(no_arts[:16], ret_basketsize.loc[:16] ,color=\"tab:orange\", marker=\"x\")\n",
    "ax2.set_ylabel(\"Average return percentage\",color=\"tab:orange\",fontsize=12)\n",
    "ax2.set_ylim(0, 0.7)\n",
    "plt.show()"
   ]
  },
  {
   "cell_type": "code",
   "execution_count": null,
   "id": "684ef700",
   "metadata": {},
   "outputs": [],
   "source": [
    "fig,ax = plt.subplots()\n",
    "# make a plot\n",
    "ax.bar(no_arts[:27], count_basketsize.loc[:27]) # , color=\"green\", marker=\"o\"\n",
    "# set x-axis label\n",
    "ax.set_xlabel(\"Number of items in the basket\",fontsize=12)\n",
    "# set y-axis label\n",
    "ax.set_ylabel(\"Total amount of items ordered\",fontsize=12)\n",
    "\n",
    "ax2=ax.twinx()\n",
    "# make a plot with different y-axis using second axis object\n",
    "ax2.plot(no_arts[:27], ret_basketsize.loc[:27]*100 ,color=\"tab:orange\", marker=\"x\")\n",
    "ax2.set_ylabel(\"Average percentage of RSs\",color=\"tab:orange\",fontsize=12)\n",
    "ax2.yaxis.set_major_formatter(mtick.PercentFormatter(decimals=0))\n",
    "ax2.set_ylim(0, 80)\n",
    "plt.axhline(mean_retp*100, color=\"tab:orange\", linestyle=\"--\", label=\"dataset-level\")\n",
    "plt.legend(fontsize=10)\n",
    "plt.show()"
   ]
  },
  {
   "cell_type": "markdown",
   "id": "a443669d",
   "metadata": {},
   "source": [
    "### Appendix: Old Figures"
   ]
  },
  {
   "cell_type": "code",
   "execution_count": null,
   "id": "0c781c47",
   "metadata": {},
   "outputs": [],
   "source": [
    "for index in [3, 5, 7, 9]:\n",
    "    multi = np.append(np.arange(1), np.arange(len(avg_rets[index])-1))+1\n",
    "    \n",
    "    plt.plot(pd.Series(avg_rets[index])*multi, label = \"binominal \" + str(index))\n"
   ]
  },
  {
   "cell_type": "code",
   "execution_count": null,
   "id": "44443efa",
   "metadata": {},
   "outputs": [],
   "source": [
    "import matplotlib.colors as mcolors\n",
    "colors = pd.Series(mcolors.TABLEAU_COLORS.keys())\n",
    "\n",
    "for index in range(3,6):\n",
    "    multi = np.append(np.arange(1), np.arange(len(avg_rets[index])-1))+1\n",
    "    plt.plot(real_rets[index]*multi, label = \"basket size \" + str(index), color = colors.iloc[index-3]) # \"dataset \" + str(index) + \" items returned\"\n",
    "    plt.plot(pd.Series(avg_rets[index])*multi, color = colors.iloc[index-3], linestyle=\"--\") # label = \"binominal \" + str(index)\n",
    "# plt.legend(fontsize=10)\n",
    "plt.ylim(0, 15000)\n",
    "plt.legend(fontsize=10)"
   ]
  },
  {
   "cell_type": "code",
   "execution_count": null,
   "id": "6f24a582",
   "metadata": {},
   "outputs": [],
   "source": [
    "import matplotlib.colors as mcolors\n",
    "colors = pd.Series(mcolors.TABLEAU_COLORS.keys())\n",
    "\n",
    "for index in range(3,7):\n",
    "    multi = np.arange(len(avg_rets[index])-1)+1\n",
    "    plt.plot(real_rets[index].loc[1:]*multi, label = \"basket size \" + str(index), color = colors.iloc[index-3], alpha=0.75) # \"dataset \" + str(index) + \" items returned\"\n",
    "    plt.plot(pd.Series(avg_rets[index]).loc[1:]*multi, color = colors.iloc[index-3], linestyle=\"--\", alpha=0.75) # label = \"binominal \" + str(index)\n",
    "# plt.legend(fontsize=10)\n",
    "plt.ylim(0, 15000)\n",
    "plt.legend(fontsize=10)"
   ]
  },
  {
   "cell_type": "code",
   "execution_count": null,
   "id": "1fba2037",
   "metadata": {},
   "outputs": [],
   "source": [
    "for index in range(8,11):\n",
    "    multi = np.append(np.arange(1), np.arange(len(avg_rets[index])-1))+1\n",
    "    plt.plot(real_rets[index]*multi, label = \"basket size \" + str(index), color = colors.iloc[index-3])\n",
    "    plt.plot(pd.Series(avg_rets[index])*multi, linestyle=\"--\", color = colors.iloc[index-3])\n",
    "# legend_elements = [Line2D([0], [0], color='b', linestyle=\"--\", label='binominal'),\n",
    "# https://stackoverflow.com/questions/39500265/how-to-manually-create-a-legend                   \n",
    "plt.legend(fontsize=10)\n"
   ]
  },
  {
   "cell_type": "code",
   "execution_count": null,
   "id": "6da20465",
   "metadata": {},
   "outputs": [],
   "source": [
    "zeros = []\n",
    "for index in avg_rets.keys():\n",
    "    zeros += [avg_rets[index][0]]\n",
    "pd.Series(zeros * np.arange(1, len(zeros)+1), index = avg_rets.keys())"
   ]
  },
  {
   "cell_type": "code",
   "execution_count": null,
   "id": "f25d352b",
   "metadata": {},
   "outputs": [],
   "source": [
    "real_zeros = []\n",
    "for index in real_rets.keys():\n",
    "    real_zeros += [nullsum[nullsum[\"count\"]==index].shape[0]]\n",
    "pd.Series(real_zeros*np.arange(1, len(real_zeros)+1), index = real_rets.keys())"
   ]
  },
  {
   "cell_type": "code",
   "execution_count": null,
   "id": "a8b1e7c2",
   "metadata": {},
   "outputs": [],
   "source": [
    "# count_basketsize.cumsum() > 525716.73"
   ]
  },
  {
   "cell_type": "code",
   "execution_count": null,
   "id": "09611515",
   "metadata": {},
   "outputs": [],
   "source": [
    "for column in orders_train:\n",
    "    print(column, orders_train[orders_train[column]==\"?\"].shape)"
   ]
  }
 ],
 "metadata": {
  "kernelspec": {
   "display_name": "DMCFeatures",
   "language": "python",
   "name": "python3"
  },
  "language_info": {
   "codemirror_mode": {
    "name": "ipython",
    "version": 3
   },
   "file_extension": ".py",
   "mimetype": "text/x-python",
   "name": "python",
   "nbconvert_exporter": "python",
   "pygments_lexer": "ipython3",
   "version": "3.8.0"
  }
 },
 "nbformat": 4,
 "nbformat_minor": 5
}
