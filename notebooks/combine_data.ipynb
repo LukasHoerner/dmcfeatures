{
 "cells": [
  {
   "cell_type": "code",
   "execution_count": 1,
   "id": "9b7130e2",
   "metadata": {},
   "outputs": [
    {
     "name": "stdout",
     "output_type": "stream",
     "text": [
      "2022-02-08 17:42:05,901 - kedro.framework.session.store - INFO - `read()` not implemented for `BaseSessionStore`. Assuming empty store.\n",
      "2022-02-08 17:42:05,931 - root - INFO - ** Kedro project DMCFeatures\n",
      "2022-02-08 17:42:05,932 - root - INFO - Defined global variable `context`, `session`, `catalog` and `pipelines`\n",
      "2022-02-08 17:42:05,933 - kedro.io.data_catalog - INFO - Loading data from `parameters` (MemoryDataSet)...\n",
      "2022-02-08 17:42:05,933 - kedro.io.data_catalog - INFO - Loading data from `arts_ret_p` (PickleDataSet)...\n",
      "2022-02-08 17:42:05,947 - kedro.io.data_catalog - INFO - Loading data from `lookup_ret_perc_art` (PickleDataSet)...\n",
      "2022-02-08 17:42:05,948 - kedro.io.data_catalog - INFO - Loading data from `lookup_basket_ret_p` (PickleDataSet)...\n",
      "2022-02-08 17:42:06,088 - kedro.io.data_catalog - INFO - Loading data from `lookup_basket_occ` (PickleDataSet)...\n",
      "2022-02-08 17:42:06,230 - kedro.io.data_catalog - INFO - Loading data from `lookup_lift_arts` (PickleDataSet)...\n",
      "2022-02-08 17:42:06,393 - kedro.io.data_catalog - INFO - Loading data from `lookup_tot_ord` (PickleDataSet)...\n",
      "2022-02-08 17:42:06,394 - kedro.io.data_catalog - INFO - Loading data from `arts_used_ret_p` (PickleDataSet)...\n",
      "2022-02-08 17:42:06,407 - kedro.io.data_catalog - INFO - Loading data from `orders_full` (PickleDataSet)...\n",
      "2022-02-08 17:42:06,533 - kedro.io.data_catalog - INFO - Loading data from `time_features` (PickleDataSet)...\n",
      "2022-02-08 17:42:06,551 - kedro.io.data_catalog - INFO - Loading data from `rest_features` (PickleDataSet)...\n"
     ]
    }
   ],
   "source": [
    "%reload_kedro /home/ubuntu/dmc_2014/dmcfeatures\n",
    "import pandas as pd\n",
    "import numpy as np\n",
    "parameters = catalog.load(\"parameters\")\n",
    "\n",
    "arts_ret_p = catalog.load(\"arts_ret_p\")\n",
    "lookup_ret_perc_art = catalog.load(\"lookup_ret_perc_art\")\n",
    "lookup_basket_ret_p = catalog.load(\"lookup_basket_ret_p\")\n",
    "lookup_basket_occ = catalog.load('lookup_basket_occ')\n",
    "lookup_lift_arts = catalog.load(\"lookup_lift_arts\")\n",
    "lookup_tot_ord = catalog.load(\"lookup_tot_ord\")\n",
    "arts_used_ret_p = catalog.load(\"arts_used_ret_p\")\n",
    "\n",
    "orders = catalog.load(\"orders_full\")\n",
    "time_features = catalog.load(\"time_features\")\n",
    "rest_features = catalog.load(\"rest_features\")\n",
    "\n",
    "orders_features = catalog.load(\"orders_features\")"
   ]
  },
  {
   "cell_type": "code",
   "execution_count": 4,
   "id": "e0ff2b9e",
   "metadata": {},
   "outputs": [
    {
     "data": {
      "text/plain": [
       "Index(['weekdayOrdered', 'weekdayReceived', 'weDelivery', 'accOldSys', 'color',\n",
       "       'size', 'userAgeImp', 'manufacturerID', 'salutation', 'state',\n",
       "       'item_color_cat', 'item_size_cat', 'discount', 'basket_price',\n",
       "       'basketNArts', 'durationDelivery', 'accAgeAtOrder', 'UserAgeOrder',\n",
       "       'returnShipment', 'val_set', 'budgets', 'manufacturerIDCatboost',\n",
       "       'salutationCatboost', 'stateCatboost', 'item_color_catCatboost',\n",
       "       'item_size_catCatboost', 'min_5_top_5_sqrt_w_lift',\n",
       "       'min_5_top_5_sqrt_w_conf', 'min_5_top_5_sqrt_w_lift_Imp',\n",
       "       'min_5_top_5_sqrt_w_conf_Imp'],\n",
       "      dtype='object')"
      ]
     },
     "execution_count": 4,
     "metadata": {},
     "output_type": "execute_result"
    }
   ],
   "source": [
    "orders_features.columns"
   ]
  },
  {
   "cell_type": "code",
   "execution_count": null,
   "id": "db7a2584",
   "metadata": {},
   "outputs": [],
   "source": [
    "orders_features"
   ]
  },
  {
   "cell_type": "code",
   "execution_count": 85,
   "id": "9f7930f2",
   "metadata": {},
   "outputs": [],
   "source": [
    "imp_frame = pd.DataFrame(index = orders.index, columns = ret_p_cols+\"_Imp\").fillna(1)"
   ]
  },
  {
   "cell_type": "code",
   "execution_count": 35,
   "id": "76bf1393",
   "metadata": {},
   "outputs": [
    {
     "data": {
      "text/plain": [
       "CatBoostEncoder(cols=['manufacturerID', 'salutation', 'state'])"
      ]
     },
     "execution_count": 35,
     "metadata": {},
     "output_type": "execute_result"
    }
   ],
   "source": [
    "catenc = CatBoostEncoder()\n",
    "catenc.fit(train[cat_catboost[:3]], train[\"returnShipment\"])"
   ]
  },
  {
   "cell_type": "code",
   "execution_count": 91,
   "id": "2b8c3b43",
   "metadata": {},
   "outputs": [],
   "source": [
    "catboosted = catenc.transform(orders[cat_catboost[:3]])"
   ]
  },
  {
   "cell_type": "code",
   "execution_count": null,
   "id": "3fbbcbdd",
   "metadata": {},
   "outputs": [],
   "source": [
    "non_na = arts_ret_p[\"min_5_top_5_sqrt_w_lift\"].dropna().index\n",
    "# [arts_ret_p[\"min_5_top_5_sqrt_w_lift\"].dropna()]"
   ]
  },
  {
   "cell_type": "code",
   "execution_count": null,
   "id": "89f3ef03",
   "metadata": {},
   "outputs": [],
   "source": [
    "no_retp = orders.drop(arts_ret_p[\"min_5_top_5_sqrt_w_lift\"].dropna().index)"
   ]
  },
  {
   "cell_type": "code",
   "execution_count": null,
   "id": "d9f7d5d5",
   "metadata": {},
   "outputs": [],
   "source": [
    "retp_na = orders.loc[arts_ret_p[\"min_5_top_5_sqrt_w_lift\"][arts_ret_p[\"min_5_top_5_sqrt_w_lift\"].isna()].index]"
   ]
  },
  {
   "cell_type": "code",
   "execution_count": null,
   "id": "25d53130",
   "metadata": {},
   "outputs": [],
   "source": [
    "features = pd.DataFrame({**rest_features, **time_features})\n",
    "orders_features = pd.merge(orders, features, right_index = True, left_index = True)\n",
    "# pd.merge(orders_features, ret_p_frame, right_index = True, left_index = True, how=\"left\")"
   ]
  },
  {
   "cell_type": "code",
   "execution_count": 40,
   "id": "125754a4",
   "metadata": {},
   "outputs": [],
   "source": [
    "# features.apply(lambda x: x.fillna(x.mean()))"
   ]
  },
  {
   "cell_type": "code",
   "execution_count": null,
   "id": "d00b7d2e",
   "metadata": {},
   "outputs": [],
   "source": [
    "for key in orders[\"salutation\"].unique():\n",
    "    print(orders[(orders[\"val_set\"]==0)&(orders[\"salutation\"]==key)][\"returnShipment\"].mean())"
   ]
  },
  {
   "cell_type": "code",
   "execution_count": null,
   "id": "f37e35c5",
   "metadata": {},
   "outputs": [],
   "source": [
    "for key in orders[\"salutation\"].unique():\n",
    "    print(orders[(orders[\"val_set\"]==1)&(orders[\"salutation\"]==key)][\"returnShipment\"].mean())"
   ]
  },
  {
   "cell_type": "code",
   "execution_count": null,
   "id": "591873df",
   "metadata": {},
   "outputs": [],
   "source": [
    "def generate_feature_frame(orders, time_features, other_features, ret_ps):"
   ]
  },
  {
   "cell_type": "code",
   "execution_count": null,
   "id": "828d643f",
   "metadata": {},
   "outputs": [],
   "source": [
    "# df = feature_frame[feature_frame['BELEGDATUM']<pd.Timestamp(parameters['first_pred_date'])]\n",
    "# test_df = feature_frame[feature_frame['BELEGDATUM']>=pd.Timestamp(parameters['first_pred_date'])]"
   ]
  }
 ],
 "metadata": {
  "kernelspec": {
   "display_name": "DMCFeatures",
   "language": "python",
   "name": "python3"
  },
  "language_info": {
   "codemirror_mode": {
    "name": "ipython",
    "version": 3
   },
   "file_extension": ".py",
   "mimetype": "text/x-python",
   "name": "python",
   "nbconvert_exporter": "python",
   "pygments_lexer": "ipython3",
   "version": "3.8.0"
  }
 },
 "nbformat": 4,
 "nbformat_minor": 5
}
