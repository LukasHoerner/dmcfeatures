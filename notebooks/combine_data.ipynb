{
 "cells": [
  {
   "cell_type": "code",
   "execution_count": 2,
   "id": "9b7130e2",
   "metadata": {},
   "outputs": [
    {
     "name": "stdout",
     "output_type": "stream",
     "text": [
      "2022-02-08 13:53:00,291 - kedro.framework.session.store - INFO - `read()` not implemented for `BaseSessionStore`. Assuming empty store.\n",
      "2022-02-08 13:53:00,299 - kedro.framework.session.session - WARNING - Unable to git describe /home/ubuntu/dmc_2014/dmcfeatures\n"
     ]
    },
    {
     "name": "stderr",
     "output_type": "stream",
     "text": [
      "fatal: Needed a single revision\n"
     ]
    },
    {
     "ename": "ParserError",
     "evalue": "while parsing a flow node\ndid not find expected node content\n  in \"/home/ubuntu/dmc_2014/dmcfeatures/conf/base/parameters.yml\", line 14, column 75",
     "output_type": "error",
     "traceback": [
      "\u001b[0;31m---------------------------------------------------------------------------\u001b[0m",
      "\u001b[0;31mParserError\u001b[0m                               Traceback (most recent call last)",
      "Input \u001b[0;32mIn [2]\u001b[0m, in \u001b[0;36m<module>\u001b[0;34m\u001b[0m\n\u001b[0;32m----> 1\u001b[0m \u001b[43mget_ipython\u001b[49m\u001b[43m(\u001b[49m\u001b[43m)\u001b[49m\u001b[38;5;241;43m.\u001b[39;49m\u001b[43mrun_line_magic\u001b[49m\u001b[43m(\u001b[49m\u001b[38;5;124;43m'\u001b[39;49m\u001b[38;5;124;43mreload_kedro\u001b[39;49m\u001b[38;5;124;43m'\u001b[39;49m\u001b[43m,\u001b[49m\u001b[43m \u001b[49m\u001b[38;5;124;43m'\u001b[39;49m\u001b[38;5;124;43m/home/ubuntu/dmc_2014/dmcfeatures\u001b[39;49m\u001b[38;5;124;43m'\u001b[39;49m\u001b[43m)\u001b[49m\n\u001b[1;32m      2\u001b[0m \u001b[38;5;28;01mimport\u001b[39;00m \u001b[38;5;21;01mpandas\u001b[39;00m \u001b[38;5;28;01mas\u001b[39;00m \u001b[38;5;21;01mpd\u001b[39;00m\n\u001b[1;32m      3\u001b[0m \u001b[38;5;28;01mimport\u001b[39;00m \u001b[38;5;21;01mnumpy\u001b[39;00m \u001b[38;5;28;01mas\u001b[39;00m \u001b[38;5;21;01mnp\u001b[39;00m\n",
      "File \u001b[0;32m~/dmc_2014/dmc14/lib/python3.8/site-packages/IPython/core/interactiveshell.py:2204\u001b[0m, in \u001b[0;36mInteractiveShell.run_line_magic\u001b[0;34m(self, magic_name, line, _stack_depth)\u001b[0m\n\u001b[1;32m   2202\u001b[0m     kwargs[\u001b[38;5;124m'\u001b[39m\u001b[38;5;124mlocal_ns\u001b[39m\u001b[38;5;124m'\u001b[39m] \u001b[38;5;241m=\u001b[39m \u001b[38;5;28mself\u001b[39m\u001b[38;5;241m.\u001b[39mget_local_scope(stack_depth)\n\u001b[1;32m   2203\u001b[0m \u001b[38;5;28;01mwith\u001b[39;00m \u001b[38;5;28mself\u001b[39m\u001b[38;5;241m.\u001b[39mbuiltin_trap:\n\u001b[0;32m-> 2204\u001b[0m     result \u001b[38;5;241m=\u001b[39m \u001b[43mfn\u001b[49m\u001b[43m(\u001b[49m\u001b[38;5;241;43m*\u001b[39;49m\u001b[43margs\u001b[49m\u001b[43m,\u001b[49m\u001b[43m \u001b[49m\u001b[38;5;241;43m*\u001b[39;49m\u001b[38;5;241;43m*\u001b[39;49m\u001b[43mkwargs\u001b[49m\u001b[43m)\u001b[49m\n\u001b[1;32m   2205\u001b[0m \u001b[38;5;28;01mreturn\u001b[39;00m result\n",
      "File \u001b[0;32m~/dmc_2014/dmc14/lib/python3.8/site-packages/kedro/extras/extensions/ipython.py:69\u001b[0m, in \u001b[0;36mreload_kedro\u001b[0;34m(path, env, extra_params)\u001b[0m\n\u001b[1;32m     67\u001b[0m logging\u001b[38;5;241m.\u001b[39mdebug(\u001b[38;5;124m\"\u001b[39m\u001b[38;5;124mLoading the context from \u001b[39m\u001b[38;5;132;01m%s\u001b[39;00m\u001b[38;5;124m\"\u001b[39m, \u001b[38;5;28mstr\u001b[39m(path))\n\u001b[1;32m     68\u001b[0m context \u001b[38;5;241m=\u001b[39m session\u001b[38;5;241m.\u001b[39mload_context()\n\u001b[0;32m---> 69\u001b[0m catalog \u001b[38;5;241m=\u001b[39m \u001b[43mcontext\u001b[49m\u001b[38;5;241;43m.\u001b[39;49m\u001b[43mcatalog\u001b[49m\n\u001b[1;32m     71\u001b[0m get_ipython()\u001b[38;5;241m.\u001b[39mpush(\n\u001b[1;32m     72\u001b[0m     variables\u001b[38;5;241m=\u001b[39m{\n\u001b[1;32m     73\u001b[0m         \u001b[38;5;124m\"\u001b[39m\u001b[38;5;124mcontext\u001b[39m\u001b[38;5;124m\"\u001b[39m: context,\n\u001b[0;32m   (...)\u001b[0m\n\u001b[1;32m     77\u001b[0m     }\n\u001b[1;32m     78\u001b[0m )\n\u001b[1;32m     80\u001b[0m logging\u001b[38;5;241m.\u001b[39minfo(\u001b[38;5;124m\"\u001b[39m\u001b[38;5;124m** Kedro project \u001b[39m\u001b[38;5;132;01m%s\u001b[39;00m\u001b[38;5;124m\"\u001b[39m, \u001b[38;5;28mstr\u001b[39m(metadata\u001b[38;5;241m.\u001b[39mproject_name))\n",
      "File \u001b[0;32m~/dmc_2014/dmc14/lib/python3.8/site-packages/kedro/framework/context/context.py:320\u001b[0m, in \u001b[0;36mKedroContext.catalog\u001b[0;34m(self)\u001b[0m\n\u001b[1;32m    310\u001b[0m \u001b[38;5;129m@property\u001b[39m\n\u001b[1;32m    311\u001b[0m \u001b[38;5;28;01mdef\u001b[39;00m \u001b[38;5;21mcatalog\u001b[39m(\u001b[38;5;28mself\u001b[39m) \u001b[38;5;241m-\u001b[39m\u001b[38;5;241m>\u001b[39m DataCatalog:\n\u001b[1;32m    312\u001b[0m     \u001b[38;5;124;03m\"\"\"Read-only property referring to Kedro's ``DataCatalog`` for this context.\u001b[39;00m\n\u001b[1;32m    313\u001b[0m \n\u001b[1;32m    314\u001b[0m \u001b[38;5;124;03m    Returns:\u001b[39;00m\n\u001b[0;32m   (...)\u001b[0m\n\u001b[1;32m    318\u001b[0m \n\u001b[1;32m    319\u001b[0m \u001b[38;5;124;03m    \"\"\"\u001b[39;00m\n\u001b[0;32m--> 320\u001b[0m     \u001b[38;5;28;01mreturn\u001b[39;00m \u001b[38;5;28;43mself\u001b[39;49m\u001b[38;5;241;43m.\u001b[39;49m\u001b[43m_get_catalog\u001b[49m\u001b[43m(\u001b[49m\u001b[43m)\u001b[49m\n",
      "File \u001b[0;32m~/dmc_2014/dmc14/lib/python3.8/site-packages/kedro/framework/context/context.py:378\u001b[0m, in \u001b[0;36mKedroContext._get_catalog\u001b[0;34m(self, save_version, journal, load_versions)\u001b[0m\n\u001b[1;32m    372\u001b[0m \u001b[38;5;28;01mif\u001b[39;00m \u001b[38;5;129;01mnot\u001b[39;00m \u001b[38;5;28misinstance\u001b[39m(catalog, DataCatalog):\n\u001b[1;32m    373\u001b[0m     \u001b[38;5;28;01mraise\u001b[39;00m KedroContextError(\n\u001b[1;32m    374\u001b[0m         \u001b[38;5;124mf\u001b[39m\u001b[38;5;124m\"\u001b[39m\u001b[38;5;124mExpected an instance of `DataCatalog`, \u001b[39m\u001b[38;5;124m\"\u001b[39m\n\u001b[1;32m    375\u001b[0m         \u001b[38;5;124mf\u001b[39m\u001b[38;5;124m\"\u001b[39m\u001b[38;5;124mgot `\u001b[39m\u001b[38;5;132;01m{\u001b[39;00m\u001b[38;5;28mtype\u001b[39m(catalog)\u001b[38;5;241m.\u001b[39m\u001b[38;5;18m__name__\u001b[39m\u001b[38;5;132;01m}\u001b[39;00m\u001b[38;5;124m` instead.\u001b[39m\u001b[38;5;124m\"\u001b[39m\n\u001b[1;32m    376\u001b[0m     )\n\u001b[0;32m--> 378\u001b[0m feed_dict \u001b[38;5;241m=\u001b[39m \u001b[38;5;28;43mself\u001b[39;49m\u001b[38;5;241;43m.\u001b[39;49m\u001b[43m_get_feed_dict\u001b[49m\u001b[43m(\u001b[49m\u001b[43m)\u001b[49m\n\u001b[1;32m    379\u001b[0m catalog\u001b[38;5;241m.\u001b[39madd_feed_dict(feed_dict)\n\u001b[1;32m    380\u001b[0m \u001b[38;5;28;01mif\u001b[39;00m catalog\u001b[38;5;241m.\u001b[39mlayers:\n",
      "File \u001b[0;32m~/dmc_2014/dmc14/lib/python3.8/site-packages/kedro/framework/context/context.py:453\u001b[0m, in \u001b[0;36mKedroContext._get_feed_dict\u001b[0;34m(self)\u001b[0m\n\u001b[1;32m    451\u001b[0m \u001b[38;5;28;01mdef\u001b[39;00m \u001b[38;5;21m_get_feed_dict\u001b[39m(\u001b[38;5;28mself\u001b[39m) \u001b[38;5;241m-\u001b[39m\u001b[38;5;241m>\u001b[39m Dict[\u001b[38;5;28mstr\u001b[39m, Any]:\n\u001b[1;32m    452\u001b[0m     \u001b[38;5;124;03m\"\"\"Get parameters and return the feed dictionary.\"\"\"\u001b[39;00m\n\u001b[0;32m--> 453\u001b[0m     params \u001b[38;5;241m=\u001b[39m \u001b[38;5;28;43mself\u001b[39;49m\u001b[38;5;241;43m.\u001b[39;49m\u001b[43mparams\u001b[49m\n\u001b[1;32m    454\u001b[0m     feed_dict \u001b[38;5;241m=\u001b[39m {\u001b[38;5;124m\"\u001b[39m\u001b[38;5;124mparameters\u001b[39m\u001b[38;5;124m\"\u001b[39m: params}\n\u001b[1;32m    456\u001b[0m     \u001b[38;5;28;01mdef\u001b[39;00m \u001b[38;5;21m_add_param_to_feed_dict\u001b[39m(param_name, param_value):\n",
      "File \u001b[0;32m~/dmc_2014/dmc14/lib/python3.8/site-packages/kedro/framework/context/context.py:332\u001b[0m, in \u001b[0;36mKedroContext.params\u001b[0;34m(self)\u001b[0m\n\u001b[1;32m    324\u001b[0m \u001b[38;5;124;03m\"\"\"Read-only property referring to Kedro's parameters for this context.\u001b[39;00m\n\u001b[1;32m    325\u001b[0m \n\u001b[1;32m    326\u001b[0m \u001b[38;5;124;03mReturns:\u001b[39;00m\n\u001b[1;32m    327\u001b[0m \u001b[38;5;124;03m    Parameters defined in `parameters.yml` with the addition of any\u001b[39;00m\n\u001b[1;32m    328\u001b[0m \u001b[38;5;124;03m        extra parameters passed at initialization.\u001b[39;00m\n\u001b[1;32m    329\u001b[0m \u001b[38;5;124;03m\"\"\"\u001b[39;00m\n\u001b[1;32m    330\u001b[0m \u001b[38;5;28;01mtry\u001b[39;00m:\n\u001b[1;32m    331\u001b[0m     \u001b[38;5;66;03m# '**/parameters*' reads modular pipeline configs\u001b[39;00m\n\u001b[0;32m--> 332\u001b[0m     params \u001b[38;5;241m=\u001b[39m \u001b[38;5;28;43mself\u001b[39;49m\u001b[38;5;241;43m.\u001b[39;49m\u001b[43mconfig_loader\u001b[49m\u001b[38;5;241;43m.\u001b[39;49m\u001b[43mget\u001b[49m\u001b[43m(\u001b[49m\n\u001b[1;32m    333\u001b[0m \u001b[43m        \u001b[49m\u001b[38;5;124;43m\"\u001b[39;49m\u001b[38;5;124;43mparameters*\u001b[39;49m\u001b[38;5;124;43m\"\u001b[39;49m\u001b[43m,\u001b[49m\u001b[43m \u001b[49m\u001b[38;5;124;43m\"\u001b[39;49m\u001b[38;5;124;43mparameters*/**\u001b[39;49m\u001b[38;5;124;43m\"\u001b[39;49m\u001b[43m,\u001b[49m\u001b[43m \u001b[49m\u001b[38;5;124;43m\"\u001b[39;49m\u001b[38;5;124;43m**/parameters*\u001b[39;49m\u001b[38;5;124;43m\"\u001b[39;49m\n\u001b[1;32m    334\u001b[0m \u001b[43m    \u001b[49m\u001b[43m)\u001b[49m\n\u001b[1;32m    335\u001b[0m \u001b[38;5;28;01mexcept\u001b[39;00m MissingConfigException \u001b[38;5;28;01mas\u001b[39;00m exc:\n\u001b[1;32m    336\u001b[0m     warn(\u001b[38;5;124mf\u001b[39m\u001b[38;5;124m\"\u001b[39m\u001b[38;5;124mParameters not found in your Kedro project config.\u001b[39m\u001b[38;5;130;01m\\n\u001b[39;00m\u001b[38;5;132;01m{\u001b[39;00m\u001b[38;5;28mstr\u001b[39m(exc)\u001b[38;5;132;01m}\u001b[39;00m\u001b[38;5;124m\"\u001b[39m)\n",
      "File \u001b[0;32m~/dmc_2014/dmc14/lib/python3.8/site-packages/kedro/config/config.py:222\u001b[0m, in \u001b[0;36mConfigLoader.get\u001b[0;34m(self, *patterns)\u001b[0m\n\u001b[1;32m    214\u001b[0m     \u001b[38;5;28;01mraise\u001b[39;00m \u001b[38;5;167;01mValueError\u001b[39;00m(\n\u001b[1;32m    215\u001b[0m         \u001b[38;5;124mf\u001b[39m\u001b[38;5;124m\"\u001b[39m\u001b[38;5;124mGiven configuration path either does not exist \u001b[39m\u001b[38;5;124m\"\u001b[39m\n\u001b[1;32m    216\u001b[0m         \u001b[38;5;124mf\u001b[39m\u001b[38;5;124m\"\u001b[39m\u001b[38;5;124mor is not a valid directory: \u001b[39m\u001b[38;5;132;01m{\u001b[39;00mconf_path\u001b[38;5;132;01m}\u001b[39;00m\u001b[38;5;124m\"\u001b[39m\n\u001b[1;32m    217\u001b[0m     )\n\u001b[1;32m    219\u001b[0m config_filepaths \u001b[38;5;241m=\u001b[39m \u001b[38;5;28mself\u001b[39m\u001b[38;5;241m.\u001b[39m_lookup_config_filepaths(\n\u001b[1;32m    220\u001b[0m     Path(conf_path), patterns, processed_files\n\u001b[1;32m    221\u001b[0m )\n\u001b[0;32m--> 222\u001b[0m new_conf \u001b[38;5;241m=\u001b[39m \u001b[38;5;28;43mself\u001b[39;49m\u001b[38;5;241;43m.\u001b[39;49m\u001b[43m_load_configs\u001b[49m\u001b[43m(\u001b[49m\u001b[43mconfig_filepaths\u001b[49m\u001b[43m)\u001b[49m\n\u001b[1;32m    224\u001b[0m common_keys \u001b[38;5;241m=\u001b[39m config\u001b[38;5;241m.\u001b[39mkeys() \u001b[38;5;241m&\u001b[39m new_conf\u001b[38;5;241m.\u001b[39mkeys()\n\u001b[1;32m    225\u001b[0m \u001b[38;5;28;01mif\u001b[39;00m common_keys:\n",
      "File \u001b[0;32m~/dmc_2014/dmc14/lib/python3.8/site-packages/kedro/config/config.py:158\u001b[0m, in \u001b[0;36mConfigLoader._load_configs\u001b[0;34m(self, config_filepaths)\u001b[0m\n\u001b[1;32m    155\u001b[0m seen_file_to_keys \u001b[38;5;241m=\u001b[39m {}  \u001b[38;5;66;03m# type: Dict[Path, AbstractSet[str]]\u001b[39;00m\n\u001b[1;32m    157\u001b[0m \u001b[38;5;28;01mfor\u001b[39;00m config_filepath \u001b[38;5;129;01min\u001b[39;00m config_filepaths:\n\u001b[0;32m--> 158\u001b[0m     single_config \u001b[38;5;241m=\u001b[39m \u001b[38;5;28;43mself\u001b[39;49m\u001b[38;5;241;43m.\u001b[39;49m\u001b[43m_load_config_file\u001b[49m\u001b[43m(\u001b[49m\u001b[43mconfig_filepath\u001b[49m\u001b[43m)\u001b[49m\n\u001b[1;32m    159\u001b[0m     _check_duplicate_keys(seen_file_to_keys, config_filepath, single_config)\n\u001b[1;32m    160\u001b[0m     seen_file_to_keys[config_filepath] \u001b[38;5;241m=\u001b[39m single_config\u001b[38;5;241m.\u001b[39mkeys()\n",
      "File \u001b[0;32m~/dmc_2014/dmc14/lib/python3.8/site-packages/kedro/config/config.py:129\u001b[0m, in \u001b[0;36mConfigLoader._load_config_file\u001b[0;34m(config_file)\u001b[0m\n\u001b[1;32m    124\u001b[0m \u001b[38;5;28;01mtry\u001b[39;00m:\n\u001b[1;32m    125\u001b[0m     \u001b[38;5;66;03m# Default to UTF-8, which is Python 3 default encoding, to decode the file\u001b[39;00m\n\u001b[1;32m    126\u001b[0m     \u001b[38;5;28;01mwith\u001b[39;00m \u001b[38;5;28mopen\u001b[39m(config_file, encoding\u001b[38;5;241m=\u001b[39m\u001b[38;5;124m\"\u001b[39m\u001b[38;5;124mutf8\u001b[39m\u001b[38;5;124m\"\u001b[39m) \u001b[38;5;28;01mas\u001b[39;00m yml:\n\u001b[1;32m    127\u001b[0m         \u001b[38;5;28;01mreturn\u001b[39;00m {\n\u001b[1;32m    128\u001b[0m             k: v\n\u001b[0;32m--> 129\u001b[0m             \u001b[38;5;28;01mfor\u001b[39;00m k, v \u001b[38;5;129;01min\u001b[39;00m \u001b[43manyconfig\u001b[49m\u001b[38;5;241;43m.\u001b[39;49m\u001b[43mload\u001b[49m\u001b[43m(\u001b[49m\u001b[43myml\u001b[49m\u001b[43m)\u001b[49m\u001b[38;5;241m.\u001b[39mitems()\n\u001b[1;32m    130\u001b[0m             \u001b[38;5;28;01mif\u001b[39;00m \u001b[38;5;129;01mnot\u001b[39;00m k\u001b[38;5;241m.\u001b[39mstartswith(\u001b[38;5;124m\"\u001b[39m\u001b[38;5;124m_\u001b[39m\u001b[38;5;124m\"\u001b[39m)\n\u001b[1;32m    131\u001b[0m         }\n\u001b[1;32m    132\u001b[0m \u001b[38;5;28;01mexcept\u001b[39;00m \u001b[38;5;167;01mAttributeError\u001b[39;00m \u001b[38;5;28;01mas\u001b[39;00m exc:\n\u001b[1;32m    133\u001b[0m     \u001b[38;5;28;01mraise\u001b[39;00m BadConfigException(\n\u001b[1;32m    134\u001b[0m         \u001b[38;5;124mf\u001b[39m\u001b[38;5;124m\"\u001b[39m\u001b[38;5;124mCouldn\u001b[39m\u001b[38;5;124m'\u001b[39m\u001b[38;5;124mt load config file: \u001b[39m\u001b[38;5;132;01m{\u001b[39;00mconfig_file\u001b[38;5;132;01m}\u001b[39;00m\u001b[38;5;124m\"\u001b[39m\n\u001b[1;32m    135\u001b[0m     ) \u001b[38;5;28;01mfrom\u001b[39;00m \u001b[38;5;21;01mexc\u001b[39;00m\n",
      "File \u001b[0;32m~/dmc_2014/dmc14/lib/python3.8/site-packages/anyconfig/api.py:482\u001b[0m, in \u001b[0;36mload\u001b[0;34m(path_specs, ac_parser, ac_dict, ac_template, ac_context, **options)\u001b[0m\n\u001b[1;32m    479\u001b[0m marker \u001b[38;5;241m=\u001b[39m options\u001b[38;5;241m.\u001b[39msetdefault(\u001b[38;5;124m\"\u001b[39m\u001b[38;5;124mac_marker\u001b[39m\u001b[38;5;124m\"\u001b[39m, options\u001b[38;5;241m.\u001b[39mget(\u001b[38;5;124m\"\u001b[39m\u001b[38;5;124mmarker\u001b[39m\u001b[38;5;124m\"\u001b[39m, \u001b[38;5;124m'\u001b[39m\u001b[38;5;124m*\u001b[39m\u001b[38;5;124m'\u001b[39m))\n\u001b[1;32m    481\u001b[0m \u001b[38;5;28;01mif\u001b[39;00m anyconfig\u001b[38;5;241m.\u001b[39mutils\u001b[38;5;241m.\u001b[39mis_path_like_object(path_specs, marker):\n\u001b[0;32m--> 482\u001b[0m     \u001b[38;5;28;01mreturn\u001b[39;00m \u001b[43msingle_load\u001b[49m\u001b[43m(\u001b[49m\u001b[43mpath_specs\u001b[49m\u001b[43m,\u001b[49m\u001b[43m \u001b[49m\u001b[43mac_parser\u001b[49m\u001b[38;5;241;43m=\u001b[39;49m\u001b[43mac_parser\u001b[49m\u001b[43m,\u001b[49m\u001b[43m \u001b[49m\u001b[43mac_dict\u001b[49m\u001b[38;5;241;43m=\u001b[39;49m\u001b[43mac_dict\u001b[49m\u001b[43m,\u001b[49m\n\u001b[1;32m    483\u001b[0m \u001b[43m                       \u001b[49m\u001b[43mac_template\u001b[49m\u001b[38;5;241;43m=\u001b[39;49m\u001b[43mac_template\u001b[49m\u001b[43m,\u001b[49m\u001b[43m \u001b[49m\u001b[43mac_context\u001b[49m\u001b[38;5;241;43m=\u001b[39;49m\u001b[43mac_context\u001b[49m\u001b[43m,\u001b[49m\n\u001b[1;32m    484\u001b[0m \u001b[43m                       \u001b[49m\u001b[38;5;241;43m*\u001b[39;49m\u001b[38;5;241;43m*\u001b[39;49m\u001b[43moptions\u001b[49m\u001b[43m)\u001b[49m\n\u001b[1;32m    486\u001b[0m \u001b[38;5;28;01mif\u001b[39;00m \u001b[38;5;129;01mnot\u001b[39;00m anyconfig\u001b[38;5;241m.\u001b[39mutils\u001b[38;5;241m.\u001b[39mis_paths(path_specs, marker):\n\u001b[1;32m    487\u001b[0m     \u001b[38;5;28;01mraise\u001b[39;00m \u001b[38;5;167;01mValueError\u001b[39;00m(\u001b[38;5;124m\"\u001b[39m\u001b[38;5;124mPossible invalid input \u001b[39m\u001b[38;5;132;01m%r\u001b[39;00m\u001b[38;5;124m\"\u001b[39m \u001b[38;5;241m%\u001b[39m path_specs)\n",
      "File \u001b[0;32m~/dmc_2014/dmc14/lib/python3.8/site-packages/anyconfig/api.py:357\u001b[0m, in \u001b[0;36msingle_load\u001b[0;34m(input_, ac_parser, ac_template, ac_context, **options)\u001b[0m\n\u001b[1;32m    304\u001b[0m \u001b[38;5;28;01mdef\u001b[39;00m \u001b[38;5;21msingle_load\u001b[39m(input_, ac_parser\u001b[38;5;241m=\u001b[39m\u001b[38;5;28;01mNone\u001b[39;00m, ac_template\u001b[38;5;241m=\u001b[39m\u001b[38;5;28;01mFalse\u001b[39;00m,\n\u001b[1;32m    305\u001b[0m                 ac_context\u001b[38;5;241m=\u001b[39m\u001b[38;5;28;01mNone\u001b[39;00m, \u001b[38;5;241m*\u001b[39m\u001b[38;5;241m*\u001b[39moptions):\n\u001b[1;32m    306\u001b[0m     \u001b[38;5;124mr\u001b[39m\u001b[38;5;124;03m\"\"\"\u001b[39;00m\n\u001b[1;32m    307\u001b[0m \u001b[38;5;124;03m    Load single configuration file.\u001b[39;00m\n\u001b[1;32m    308\u001b[0m \n\u001b[0;32m   (...)\u001b[0m\n\u001b[1;32m    355\u001b[0m \u001b[38;5;124;03m    :raises: ValueError, UnknownProcessorTypeError, UnknownFileTypeError\u001b[39;00m\n\u001b[1;32m    356\u001b[0m \u001b[38;5;124;03m    \"\"\"\u001b[39;00m\n\u001b[0;32m--> 357\u001b[0m     cnf \u001b[38;5;241m=\u001b[39m \u001b[43m_single_load\u001b[49m\u001b[43m(\u001b[49m\u001b[43minput_\u001b[49m\u001b[43m,\u001b[49m\u001b[43m \u001b[49m\u001b[43mac_parser\u001b[49m\u001b[38;5;241;43m=\u001b[39;49m\u001b[43mac_parser\u001b[49m\u001b[43m,\u001b[49m\u001b[43m \u001b[49m\u001b[43mac_template\u001b[49m\u001b[38;5;241;43m=\u001b[39;49m\u001b[43mac_template\u001b[49m\u001b[43m,\u001b[49m\n\u001b[1;32m    358\u001b[0m \u001b[43m                       \u001b[49m\u001b[43mac_context\u001b[49m\u001b[38;5;241;43m=\u001b[39;49m\u001b[43mac_context\u001b[49m\u001b[43m,\u001b[49m\u001b[43m \u001b[49m\u001b[38;5;241;43m*\u001b[39;49m\u001b[38;5;241;43m*\u001b[39;49m\u001b[43moptions\u001b[49m\u001b[43m)\u001b[49m\n\u001b[1;32m    359\u001b[0m     schema \u001b[38;5;241m=\u001b[39m _maybe_schema(ac_template\u001b[38;5;241m=\u001b[39mac_template, ac_context\u001b[38;5;241m=\u001b[39mac_context,\n\u001b[1;32m    360\u001b[0m                            \u001b[38;5;241m*\u001b[39m\u001b[38;5;241m*\u001b[39moptions)\n\u001b[1;32m    361\u001b[0m     cnf \u001b[38;5;241m=\u001b[39m _try_validate(cnf, schema, \u001b[38;5;241m*\u001b[39m\u001b[38;5;241m*\u001b[39moptions)\n",
      "File \u001b[0;32m~/dmc_2014/dmc14/lib/python3.8/site-packages/anyconfig/api.py:301\u001b[0m, in \u001b[0;36m_single_load\u001b[0;34m(input_, ac_parser, ac_template, ac_context, **options)\u001b[0m\n\u001b[1;32m    298\u001b[0m     \u001b[38;5;28;01mif\u001b[39;00m content \u001b[38;5;129;01mis\u001b[39;00m \u001b[38;5;129;01mnot\u001b[39;00m \u001b[38;5;28;01mNone\u001b[39;00m:\n\u001b[1;32m    299\u001b[0m         \u001b[38;5;28;01mreturn\u001b[39;00m psr\u001b[38;5;241m.\u001b[39mloads(content, \u001b[38;5;241m*\u001b[39m\u001b[38;5;241m*\u001b[39moptions)\n\u001b[0;32m--> 301\u001b[0m \u001b[38;5;28;01mreturn\u001b[39;00m \u001b[43mpsr\u001b[49m\u001b[38;5;241;43m.\u001b[39;49m\u001b[43mload\u001b[49m\u001b[43m(\u001b[49m\u001b[43mioi\u001b[49m\u001b[43m,\u001b[49m\u001b[43m \u001b[49m\u001b[38;5;241;43m*\u001b[39;49m\u001b[38;5;241;43m*\u001b[39;49m\u001b[43moptions\u001b[49m\u001b[43m)\u001b[49m\n",
      "File \u001b[0;32m~/dmc_2014/dmc14/lib/python3.8/site-packages/anyconfig/backend/base.py:259\u001b[0m, in \u001b[0;36mLoaderMixin.load\u001b[0;34m(self, ioi, ac_ignore_missing, **options)\u001b[0m\n\u001b[1;32m    256\u001b[0m     \u001b[38;5;28;01mreturn\u001b[39;00m container()\n\u001b[1;32m    258\u001b[0m \u001b[38;5;28;01mif\u001b[39;00m anyconfig\u001b[38;5;241m.\u001b[39mutils\u001b[38;5;241m.\u001b[39mis_stream_ioinfo(ioi):\n\u001b[0;32m--> 259\u001b[0m     cnf \u001b[38;5;241m=\u001b[39m \u001b[38;5;28;43mself\u001b[39;49m\u001b[38;5;241;43m.\u001b[39;49m\u001b[43mload_from_stream\u001b[49m\u001b[43m(\u001b[49m\u001b[43mioi\u001b[49m\u001b[38;5;241;43m.\u001b[39;49m\u001b[43msrc\u001b[49m\u001b[43m,\u001b[49m\u001b[43m \u001b[49m\u001b[43mcontainer\u001b[49m\u001b[43m,\u001b[49m\u001b[43m \u001b[49m\u001b[38;5;241;43m*\u001b[39;49m\u001b[38;5;241;43m*\u001b[39;49m\u001b[43moptions\u001b[49m\u001b[43m)\u001b[49m\n\u001b[1;32m    260\u001b[0m \u001b[38;5;28;01melse\u001b[39;00m:\n\u001b[1;32m    261\u001b[0m     \u001b[38;5;28;01mif\u001b[39;00m ac_ignore_missing \u001b[38;5;129;01mand\u001b[39;00m \u001b[38;5;129;01mnot\u001b[39;00m pathlib\u001b[38;5;241m.\u001b[39mPath(ioi\u001b[38;5;241m.\u001b[39mpath)\u001b[38;5;241m.\u001b[39mexists():\n",
      "File \u001b[0;32m~/dmc_2014/dmc14/lib/python3.8/site-packages/anyconfig/backend/base.py:54\u001b[0m, in \u001b[0;36mto_method.<locals>.wrapper\u001b[0;34m(*args, **kwargs)\u001b[0m\n\u001b[1;32m     50\u001b[0m \u001b[38;5;129m@functools\u001b[39m\u001b[38;5;241m.\u001b[39mwraps(func)\n\u001b[1;32m     51\u001b[0m \u001b[38;5;28;01mdef\u001b[39;00m \u001b[38;5;21mwrapper\u001b[39m(\u001b[38;5;241m*\u001b[39margs, \u001b[38;5;241m*\u001b[39m\u001b[38;5;241m*\u001b[39mkwargs):\n\u001b[1;32m     52\u001b[0m     \u001b[38;5;124;03m\"\"\"Wrapper function.\u001b[39;00m\n\u001b[1;32m     53\u001b[0m \u001b[38;5;124;03m    \"\"\"\u001b[39;00m\n\u001b[0;32m---> 54\u001b[0m     \u001b[38;5;28;01mreturn\u001b[39;00m \u001b[43mfunc\u001b[49m\u001b[43m(\u001b[49m\u001b[38;5;241;43m*\u001b[39;49m\u001b[43margs\u001b[49m\u001b[43m[\u001b[49m\u001b[38;5;241;43m1\u001b[39;49m\u001b[43m:\u001b[49m\u001b[43m]\u001b[49m\u001b[43m,\u001b[49m\u001b[43m \u001b[49m\u001b[38;5;241;43m*\u001b[39;49m\u001b[38;5;241;43m*\u001b[39;49m\u001b[43mkwargs\u001b[49m\u001b[43m)\u001b[49m\n",
      "File \u001b[0;32m~/dmc_2014/dmc14/lib/python3.8/site-packages/anyconfig/backend/yaml/pyyaml.py:173\u001b[0m, in \u001b[0;36myml_load\u001b[0;34m(stream, container, yml_fnc, **options)\u001b[0m\n\u001b[1;32m    169\u001b[0m         container \u001b[38;5;241m=\u001b[39m maybe_container\n\u001b[1;32m    171\u001b[0m     options[\u001b[38;5;124m\"\u001b[39m\u001b[38;5;124mLoader\u001b[39m\u001b[38;5;124m\"\u001b[39m] \u001b[38;5;241m=\u001b[39m _customized_loader(container)\n\u001b[0;32m--> 173\u001b[0m ret \u001b[38;5;241m=\u001b[39m \u001b[43myml_fnc\u001b[49m\u001b[43m(\u001b[49m\u001b[38;5;124;43m\"\u001b[39;49m\u001b[38;5;124;43mload\u001b[39;49m\u001b[38;5;124;43m\"\u001b[39;49m\u001b[43m,\u001b[49m\u001b[43m \u001b[49m\u001b[43mstream\u001b[49m\u001b[43m,\u001b[49m\n\u001b[1;32m    174\u001b[0m \u001b[43m              \u001b[49m\u001b[38;5;241;43m*\u001b[39;49m\u001b[38;5;241;43m*\u001b[39;49m\u001b[43mcommon\u001b[49m\u001b[38;5;241;43m.\u001b[39;49m\u001b[43mfilter_from_options\u001b[49m\u001b[43m(\u001b[49m\u001b[38;5;124;43m\"\u001b[39;49m\u001b[38;5;124;43mac_dict\u001b[39;49m\u001b[38;5;124;43m\"\u001b[39;49m\u001b[43m,\u001b[49m\u001b[43m \u001b[49m\u001b[43moptions\u001b[49m\u001b[43m)\u001b[49m\u001b[43m)\u001b[49m\n\u001b[1;32m    175\u001b[0m \u001b[38;5;28;01mif\u001b[39;00m ret \u001b[38;5;129;01mis\u001b[39;00m \u001b[38;5;28;01mNone\u001b[39;00m:\n\u001b[1;32m    176\u001b[0m     \u001b[38;5;28;01mreturn\u001b[39;00m container()\n",
      "File \u001b[0;32m~/dmc_2014/dmc14/lib/python3.8/site-packages/anyconfig/backend/yaml/pyyaml.py:151\u001b[0m, in \u001b[0;36myml_fnc\u001b[0;34m(fname, *args, **options)\u001b[0m\n\u001b[1;32m    142\u001b[0m \u001b[38;5;124;03m\"\"\"An wrapper of yaml.safe_load, yaml.load, yaml.safe_dump and yaml.dump.\u001b[39;00m\n\u001b[1;32m    143\u001b[0m \n\u001b[1;32m    144\u001b[0m \u001b[38;5;124;03m:param fname:\u001b[39;00m\n\u001b[0;32m   (...)\u001b[0m\n\u001b[1;32m    148\u001b[0m \u001b[38;5;124;03m:param options: keyword args may contain \"ac_safe\" to load/dump safely\u001b[39;00m\n\u001b[1;32m    149\u001b[0m \u001b[38;5;124;03m\"\"\"\u001b[39;00m\n\u001b[1;32m    150\u001b[0m fnc \u001b[38;5;241m=\u001b[39m yml_fnc_by_name(fname, \u001b[38;5;241m*\u001b[39m\u001b[38;5;241m*\u001b[39moptions)\n\u001b[0;32m--> 151\u001b[0m \u001b[38;5;28;01mreturn\u001b[39;00m \u001b[43mfnc\u001b[49m\u001b[43m(\u001b[49m\u001b[38;5;241;43m*\u001b[39;49m\u001b[43margs\u001b[49m\u001b[43m,\u001b[49m\u001b[43m \u001b[49m\u001b[38;5;241;43m*\u001b[39;49m\u001b[38;5;241;43m*\u001b[39;49m\u001b[43mcommon\u001b[49m\u001b[38;5;241;43m.\u001b[39;49m\u001b[43mfilter_from_options\u001b[49m\u001b[43m(\u001b[49m\u001b[38;5;124;43m\"\u001b[39;49m\u001b[38;5;124;43mac_safe\u001b[39;49m\u001b[38;5;124;43m\"\u001b[39;49m\u001b[43m,\u001b[49m\u001b[43m \u001b[49m\u001b[43moptions\u001b[49m\u001b[43m)\u001b[49m\u001b[43m)\u001b[49m\n",
      "File \u001b[0;32m~/dmc_2014/dmc14/lib/python3.8/site-packages/yaml/__init__.py:114\u001b[0m, in \u001b[0;36mload\u001b[0;34m(stream, Loader)\u001b[0m\n\u001b[1;32m    112\u001b[0m loader \u001b[38;5;241m=\u001b[39m Loader(stream)\n\u001b[1;32m    113\u001b[0m \u001b[38;5;28;01mtry\u001b[39;00m:\n\u001b[0;32m--> 114\u001b[0m     \u001b[38;5;28;01mreturn\u001b[39;00m \u001b[43mloader\u001b[49m\u001b[38;5;241;43m.\u001b[39;49m\u001b[43mget_single_data\u001b[49m\u001b[43m(\u001b[49m\u001b[43m)\u001b[49m\n\u001b[1;32m    115\u001b[0m \u001b[38;5;28;01mfinally\u001b[39;00m:\n\u001b[1;32m    116\u001b[0m     loader\u001b[38;5;241m.\u001b[39mdispose()\n",
      "File \u001b[0;32m~/dmc_2014/dmc14/lib/python3.8/site-packages/yaml/constructor.py:49\u001b[0m, in \u001b[0;36mBaseConstructor.get_single_data\u001b[0;34m(self)\u001b[0m\n\u001b[1;32m     47\u001b[0m \u001b[38;5;28;01mdef\u001b[39;00m \u001b[38;5;21mget_single_data\u001b[39m(\u001b[38;5;28mself\u001b[39m):\n\u001b[1;32m     48\u001b[0m     \u001b[38;5;66;03m# Ensure that the stream contains a single document and construct it.\u001b[39;00m\n\u001b[0;32m---> 49\u001b[0m     node \u001b[38;5;241m=\u001b[39m \u001b[38;5;28;43mself\u001b[39;49m\u001b[38;5;241;43m.\u001b[39;49m\u001b[43mget_single_node\u001b[49m\u001b[43m(\u001b[49m\u001b[43m)\u001b[49m\n\u001b[1;32m     50\u001b[0m     \u001b[38;5;28;01mif\u001b[39;00m node \u001b[38;5;129;01mis\u001b[39;00m \u001b[38;5;129;01mnot\u001b[39;00m \u001b[38;5;28;01mNone\u001b[39;00m:\n\u001b[1;32m     51\u001b[0m         \u001b[38;5;28;01mreturn\u001b[39;00m \u001b[38;5;28mself\u001b[39m\u001b[38;5;241m.\u001b[39mconstruct_document(node)\n",
      "File \u001b[0;32myaml/_yaml.pyx:707\u001b[0m, in \u001b[0;36myaml._yaml.CParser.get_single_node\u001b[0;34m()\u001b[0m\n",
      "File \u001b[0;32myaml/_yaml.pyx:725\u001b[0m, in \u001b[0;36myaml._yaml.CParser._compose_document\u001b[0;34m()\u001b[0m\n",
      "File \u001b[0;32myaml/_yaml.pyx:776\u001b[0m, in \u001b[0;36myaml._yaml.CParser._compose_node\u001b[0;34m()\u001b[0m\n",
      "File \u001b[0;32myaml/_yaml.pyx:890\u001b[0m, in \u001b[0;36myaml._yaml.CParser._compose_mapping_node\u001b[0;34m()\u001b[0m\n",
      "File \u001b[0;32myaml/_yaml.pyx:776\u001b[0m, in \u001b[0;36myaml._yaml.CParser._compose_node\u001b[0;34m()\u001b[0m\n",
      "File \u001b[0;32myaml/_yaml.pyx:890\u001b[0m, in \u001b[0;36myaml._yaml.CParser._compose_mapping_node\u001b[0;34m()\u001b[0m\n",
      "File \u001b[0;32myaml/_yaml.pyx:774\u001b[0m, in \u001b[0;36myaml._yaml.CParser._compose_node\u001b[0;34m()\u001b[0m\n",
      "File \u001b[0;32myaml/_yaml.pyx:853\u001b[0m, in \u001b[0;36myaml._yaml.CParser._compose_sequence_node\u001b[0;34m()\u001b[0m\n",
      "File \u001b[0;32myaml/_yaml.pyx:905\u001b[0m, in \u001b[0;36myaml._yaml.CParser._parse_next_event\u001b[0;34m()\u001b[0m\n",
      "\u001b[0;31mParserError\u001b[0m: while parsing a flow node\ndid not find expected node content\n  in \"/home/ubuntu/dmc_2014/dmcfeatures/conf/base/parameters.yml\", line 14, column 75"
     ]
    }
   ],
   "source": [
    "%reload_kedro /home/ubuntu/dmc_2014/dmcfeatures\n",
    "import pandas as pd\n",
    "import numpy as np\n",
    "parameters = catalog.load(\"parameters\")\n",
    "\n",
    "arts_ret_p = catalog.load(\"arts_ret_p\")\n",
    "lookup_ret_perc_art = catalog.load(\"lookup_ret_perc_art\")\n",
    "lookup_basket_ret_p = catalog.load(\"lookup_basket_ret_p\")\n",
    "lookup_basket_occ = catalog.load('lookup_basket_occ')\n",
    "lookup_lift_arts = catalog.load(\"lookup_lift_arts\")\n",
    "lookup_tot_ord = catalog.load(\"lookup_tot_ord\")\n",
    "arts_used_ret_p = catalog.load(\"arts_used_ret_p\")\n",
    "\n",
    "orders = catalog.load(\"orders_full\")\n",
    "time_features = catalog.load(\"time_features\")\n",
    "rest_features = catalog.load(\"rest_features\")"
   ]
  },
  {
   "cell_type": "code",
   "execution_count": null,
   "id": "3fbbcbdd",
   "metadata": {},
   "outputs": [],
   "source": [
    "non_na = arts_ret_p[\"min_5_top_5_sqrt_w_lift\"].dropna().index\n",
    "# [arts_ret_p[\"min_5_top_5_sqrt_w_lift\"].dropna()]"
   ]
  },
  {
   "cell_type": "code",
   "execution_count": null,
   "id": "89f3ef03",
   "metadata": {},
   "outputs": [],
   "source": [
    "no_retp = orders.drop(arts_ret_p[\"min_5_top_5_sqrt_w_lift\"].dropna().index)"
   ]
  },
  {
   "cell_type": "code",
   "execution_count": null,
   "id": "d9f7d5d5",
   "metadata": {},
   "outputs": [],
   "source": [
    "retp_na = orders.loc[arts_ret_p[\"min_5_top_5_sqrt_w_lift\"][arts_ret_p[\"min_5_top_5_sqrt_w_lift\"].isna()].index]"
   ]
  },
  {
   "cell_type": "code",
   "execution_count": null,
   "id": "25d53130",
   "metadata": {},
   "outputs": [],
   "source": [
    "features = pd.DataFrame({**rest_features, **time_features})\n",
    "orders_features = pd.merge(orders, features, right_index = True, left_index = True)\n",
    "pd.merge(orders_features, ret_p_frame, right_index = True, left_index = True, how=\"left\")"
   ]
  },
  {
   "cell_type": "code",
   "execution_count": null,
   "id": "d00b7d2e",
   "metadata": {},
   "outputs": [],
   "source": [
    "for key in orders[\"salutation\"].unique():\n",
    "    print(orders[(orders[\"val_set\"]==0)&(orders[\"salutation\"]==key)][\"returnShipment\"].mean())"
   ]
  },
  {
   "cell_type": "code",
   "execution_count": null,
   "id": "f37e35c5",
   "metadata": {},
   "outputs": [],
   "source": [
    "for key in orders[\"salutation\"].unique():\n",
    "    print(orders[(orders[\"val_set\"]==1)&(orders[\"salutation\"]==key)][\"returnShipment\"].mean())"
   ]
  },
  {
   "cell_type": "code",
   "execution_count": null,
   "id": "591873df",
   "metadata": {},
   "outputs": [],
   "source": [
    "def generate_feature_frame(orders, time_features, other_features, ret_ps):"
   ]
  },
  {
   "cell_type": "code",
   "execution_count": null,
   "id": "715795a6",
   "metadata": {},
   "outputs": [],
   "source": [
    "arts_ret_p['min_5_top_5_sqrt_w_lift'].isna().sum()"
   ]
  },
  {
   "cell_type": "code",
   "execution_count": null,
   "id": "956394fb",
   "metadata": {},
   "outputs": [],
   "source": [
    "arts_ret_p['min_5_top_5_sqrt_w_lift'].mean()"
   ]
  },
  {
   "cell_type": "code",
   "execution_count": null,
   "id": "3d0f221d",
   "metadata": {},
   "outputs": [],
   "source": [
    "arts_ret_p['min_5_top_5_sqrt_w_conf'].mean()"
   ]
  },
  {
   "cell_type": "code",
   "execution_count": null,
   "id": "dcac63d2",
   "metadata": {},
   "outputs": [],
   "source": [
    "arts_ret_p['min_5_top_5_sqrt_w_lift'].shape"
   ]
  },
  {
   "cell_type": "code",
   "execution_count": null,
   "id": "1875b596",
   "metadata": {},
   "outputs": [],
   "source": [
    "arts_used_ret_p['min_5_top_5_sqrt_w_conf'].mean()"
   ]
  },
  {
   "cell_type": "code",
   "execution_count": null,
   "id": "4baf9907",
   "metadata": {},
   "outputs": [],
   "source": [
    "pd.to_datetime(orders[\"orderDate\"]).hist()"
   ]
  },
  {
   "cell_type": "code",
   "execution_count": null,
   "id": "828d643f",
   "metadata": {},
   "outputs": [],
   "source": [
    "# df = feature_frame[feature_frame['BELEGDATUM']<pd.Timestamp(parameters['first_pred_date'])]\n",
    "# test_df = feature_frame[feature_frame['BELEGDATUM']>=pd.Timestamp(parameters['first_pred_date'])]"
   ]
  }
 ],
 "metadata": {
  "kernelspec": {
   "display_name": "DMCFeatures",
   "language": "python",
   "name": "python3"
  },
  "language_info": {
   "codemirror_mode": {
    "name": "ipython",
    "version": 3
   },
   "file_extension": ".py",
   "mimetype": "text/x-python",
   "name": "python",
   "nbconvert_exporter": "python",
   "pygments_lexer": "ipython3",
   "version": "3.8.0"
  }
 },
 "nbformat": 4,
 "nbformat_minor": 5
}
